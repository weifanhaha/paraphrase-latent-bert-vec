{
 "cells": [
  {
   "cell_type": "code",
   "execution_count": 1,
   "metadata": {},
   "outputs": [],
   "source": [
    "import re\n",
    "import glob\n",
    "import os\n",
    "import numpy as np\n"
   ]
  },
  {
   "cell_type": "code",
   "execution_count": 17,
   "metadata": {},
   "outputs": [],
   "source": [
    "seeds = [0, 777, 33333]\n",
    "seed_dir_dic = {}\n",
    "seed_root = './fixseed'\n",
    "for seed in seeds:\n",
    "    seed_dir = 'seed{}'.format(seed)\n",
    "    seed_dir = os.path.join(seed_root, seed_dir)\n",
    "    txt_path = os.path.join(seed_dir, '*.txt')\n",
    "    seed_files = glob.glob(txt_path)\n",
    "    seed_dir_dic[seed] = seed_files"
   ]
  },
  {
   "cell_type": "code",
   "execution_count": 18,
   "metadata": {},
   "outputs": [
    {
     "data": {
      "text/plain": [
       "{0: ['./fixseed/seed0/test_DNPG_transformer_bert_tokenizer_bow_out.txt',\n",
       "  './fixseed/seed0/test_DNPG_base_transformer_wordnet.txt',\n",
       "  './fixseed/seed0/test_DNPG_transformer_bert_tokenizer_bow_indivtopk_out.txt',\n",
       "  './fixseed/seed0/test_DNPG_base_transformer.txt',\n",
       "  './fixseed/seed0/test_DNPG_base_transformer_wordnet_replace_nopreprocess.txt'],\n",
       " 777: ['./fixseed/seed777/test_DNPG_transformer_bert_tokenizer_bow_out.txt',\n",
       "  './fixseed/seed777/test_DNPG_base_transformer_wordnet.txt',\n",
       "  './fixseed/seed777/test_DNPG_transformer_bert_tokenizer_bow_indivtopk_out.txt',\n",
       "  './fixseed/seed777/test_DNPG_base_transformer.txt',\n",
       "  './fixseed/seed777/test_DNPG_base_transformer_wordnet_replace_nopreprocess.txt'],\n",
       " 33333: ['./fixseed/seed33333/test_DNPG_transformer_bert_tokenizer_bow_out.txt',\n",
       "  './fixseed/seed33333/test_DNPG_base_transformer_wordnet.txt',\n",
       "  './fixseed/seed33333/test_DNPG_base_transformer.txt']}"
      ]
     },
     "execution_count": 18,
     "metadata": {},
     "output_type": "execute_result"
    }
   ],
   "source": [
    "seed_dir_dic"
   ]
  },
  {
   "cell_type": "code",
   "execution_count": 15,
   "metadata": {},
   "outputs": [],
   "source": [
    "def get_file_score(path):\n",
    "    f = open(path, 'r')\n",
    "    lines = f.readlines()\n",
    "\n",
    "    regex = \"(0\\.\\d\\d\\d\\d\\d)\"\n",
    "    scores = []\n",
    "    for line in lines:\n",
    "        if not line.strip():\n",
    "            continue \n",
    "        score = re.search(regex, line)[0]\n",
    "        scores.append(float(score))\n",
    "    return scores"
   ]
  },
  {
   "cell_type": "code",
   "execution_count": 21,
   "metadata": {
    "collapsed": true
   },
   "outputs": [
    {
     "name": "stdout",
     "output_type": "stream",
     "text": [
      "./fixseed/seed0/test_DNPG_transformer_bert_tokenizer_bow_out.txt\n",
      "[0.57786, 0.44912, 0.36164, 0.29921, 0.62426, 0.40308, 0.60061]\n",
      "./fixseed/seed0/test_DNPG_base_transformer_wordnet.txt\n",
      "[0.55165, 0.41241, 0.32041, 0.25664, 0.58644, 0.35089, 0.56238]\n",
      "./fixseed/seed0/test_DNPG_transformer_bert_tokenizer_bow_indivtopk_out.txt\n",
      "[0.59119, 0.46534, 0.37892, 0.31721, 0.63722, 0.41987, 0.61376]\n",
      "./fixseed/seed0/test_DNPG_base_transformer.txt\n",
      "[0.54938, 0.40938, 0.31717, 0.25353, 0.58516, 0.34958, 0.56064]\n",
      "./fixseed/seed0/test_DNPG_base_transformer_wordnet_replace_nopreprocess.txt\n",
      "[0.54598, 0.40365, 0.31143, 0.2481, 0.57822, 0.34183, 0.55374]\n",
      "./fixseed/seed777/test_DNPG_transformer_bert_tokenizer_bow_out.txt\n",
      "[0.59015, 0.46382, 0.37772, 0.31583, 0.63637, 0.41908, 0.61328]\n",
      "./fixseed/seed777/test_DNPG_base_transformer_wordnet.txt\n",
      "[0.55202, 0.41342, 0.32181, 0.25804, 0.59091, 0.35643, 0.56654]\n",
      "./fixseed/seed777/test_DNPG_transformer_bert_tokenizer_bow_indivtopk_out.txt\n",
      "[0.56258, 0.42558, 0.33346, 0.26852, 0.60669, 0.37183, 0.58183]\n",
      "./fixseed/seed777/test_DNPG_base_transformer.txt\n",
      "[0.55052, 0.4138, 0.32332, 0.25986, 0.58919, 0.35715, 0.56579]\n",
      "./fixseed/seed777/test_DNPG_base_transformer_wordnet_replace_nopreprocess.txt\n",
      "[0.54266, 0.40274, 0.31143, 0.24816, 0.57545, 0.34267, 0.55243]\n",
      "./fixseed/seed33333/test_DNPG_transformer_bert_tokenizer_bow_out.txt\n",
      "[0.58792, 0.462, 0.37599, 0.31436, 0.63369, 0.41617, 0.61071]\n",
      "./fixseed/seed33333/test_DNPG_base_transformer_wordnet.txt\n",
      "[0.54967, 0.41152, 0.32074, 0.25787, 0.58937, 0.3552, 0.56535]\n",
      "./fixseed/seed33333/test_DNPG_base_transformer.txt\n",
      "[0.55102, 0.41236, 0.32075, 0.25725, 0.58965, 0.35489, 0.56503]\n"
     ]
    }
   ],
   "source": [
    "score_dic = {}\n",
    "for seed in seed_dir_dic:\n",
    "    for path in seed_dir_dic[seed]:\n",
    "#         print(path)\n",
    "        scores = get_file_score(path)\n",
    "        \n",
    "        sub_path = path.split('/')[-1]\n",
    "        if sub_path not in score_dic:\n",
    "            score_dic[sub_path] = [scores]\n",
    "        else:\n",
    "            score_dic[sub_path].append(scores)\n",
    "#         print(scores)"
   ]
  },
  {
   "cell_type": "code",
   "execution_count": 28,
   "metadata": {},
   "outputs": [
    {
     "name": "stdout",
     "output_type": "stream",
     "text": [
      "test_DNPG_transformer_bert_tokenizer_bow_out.txt [58.53, 45.83, 37.18, 30.98, 63.14, 41.28, 60.82]\n",
      "test_DNPG_base_transformer_wordnet.txt [55.11, 41.25, 32.1, 25.75, 58.89, 35.42, 56.48]\n",
      "test_DNPG_base_transformer.txt [55.03, 41.18, 32.04, 25.69, 58.8, 35.39, 56.38]\n"
     ]
    }
   ],
   "source": [
    "for file in score_dic:\n",
    "    if len(score_dic[file]) == 3:\n",
    "        # calculate avg\n",
    "        _sum = [0] * 7\n",
    "        for i in range(7):\n",
    "            for scores in score_dic[file]:\n",
    "                _sum[i] += scores[i]\n",
    "        avg = [round(score / 3 * 100, 2) for score in _sum]\n",
    "        print(file, avg)\n",
    "        "
   ]
  },
  {
   "cell_type": "code",
   "execution_count": null,
   "metadata": {},
   "outputs": [],
   "source": []
  }
 ],
 "metadata": {
  "kernelspec": {
   "display_name": "Python 3",
   "language": "python",
   "name": "python3"
  },
  "language_info": {
   "codemirror_mode": {
    "name": "ipython",
    "version": 3
   },
   "file_extension": ".py",
   "mimetype": "text/x-python",
   "name": "python",
   "nbconvert_exporter": "python",
   "pygments_lexer": "ipython3",
   "version": "3.7.9"
  }
 },
 "nbformat": 4,
 "nbformat_minor": 4
}
