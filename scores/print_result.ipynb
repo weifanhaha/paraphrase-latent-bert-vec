{
 "cells": [
  {
   "cell_type": "code",
   "execution_count": 1,
   "metadata": {},
   "outputs": [],
   "source": [
    "import os\n",
    "import glob\n",
    "import re"
   ]
  },
  {
   "cell_type": "code",
   "execution_count": 2,
   "metadata": {},
   "outputs": [],
   "source": [
    "regex = \"(0\\.\\d\\d\\d\\d\\d)\""
   ]
  },
  {
   "cell_type": "code",
   "execution_count": 3,
   "metadata": {},
   "outputs": [
    {
     "data": {
      "text/plain": [
       "55.720000000000006"
      ]
     },
     "execution_count": 3,
     "metadata": {},
     "output_type": "execute_result"
    }
   ],
   "source": [
    "# line = \"BLEU1 Score: 0.5571711490387355\"\n",
    "# s = re.search(regex, line)[0]\n",
    "# round(float(s), 4) * 100"
   ]
  },
  {
   "cell_type": "code",
   "execution_count": 6,
   "metadata": {},
   "outputs": [
    {
     "name": "stdout",
     "output_type": "stream",
     "text": [
      "\n",
      "\n",
      "[# Info #] File name:  ./tune/test_DNPG_transformer_bert_tokenizer_with_classifier_out_lambda0.txt\n",
      "54.97\n",
      "40.98\n",
      "31.83\n",
      "25.48\n",
      "58.6\n",
      "35.2\n",
      "56.2\n",
      "\n",
      "\n",
      "[# Info #] File name:  ./tune/test_DNPG_transformer_bert_tokenizer_with_classifier_out_lambda10.txt\n",
      "55.52\n",
      "41.68\n",
      "32.59\n",
      "26.24\n",
      "59.21\n",
      "35.94\n",
      "56.77\n",
      "\n",
      "\n",
      "[# Info #] File name:  ./tune/test_DNPG_transformer_bert_tokenizer_with_classifier_out_lambda100.txt\n",
      "55.37\n",
      "41.44\n",
      "32.29\n",
      "25.92\n",
      "59.19\n",
      "35.89\n",
      "56.77\n",
      "\n",
      "\n",
      "[# Info #] File name:  ./tune/test_DNPG_transformer_bert_tokenizer_with_classifier_out_lambda1000.txt\n",
      "55.39\n",
      "41.43\n",
      "32.22\n",
      "25.83\n",
      "59.04\n",
      "35.72\n",
      "56.62\n",
      "\n",
      "\n",
      "[# Info #] File name:  ./tune/test_DNPG_transformer_bert_tokenizer_with_classifier_out_lambda1.txt\n",
      "55.33\n",
      "41.37\n",
      "32.16\n",
      "25.75\n",
      "58.86\n",
      "35.55\n",
      "56.45\n",
      "\n",
      "\n",
      "[# Info #] File name:  ./tune/test_DNPG_transformer_bert_tokenizer_with_classifier_out_lambda0.1.txt\n",
      "55.99\n",
      "41.97\n",
      "32.7\n",
      "26.23\n",
      "59.62\n",
      "36.18\n",
      "57.13\n"
     ]
    }
   ],
   "source": [
    "# files = glob.glob(\"./*.txt\")\n",
    "files = glob.glob(\"./tune/*.txt\")\n",
    "\n",
    "\n",
    "for file in files:\n",
    "    print(\"\\n\\n[# Info #] File name: \", file)\n",
    "    f = open(file)\n",
    "    lines = f.readlines()\n",
    "    for line in lines:\n",
    "        if not line.strip():\n",
    "            continue\n",
    "        score = re.search(regex, line)[0]\n",
    "        print(round(float(score) * 100, 2))\n"
   ]
  },
  {
   "cell_type": "code",
   "execution_count": null,
   "metadata": {},
   "outputs": [],
   "source": []
  }
 ],
 "metadata": {
  "kernelspec": {
   "display_name": "Python 3",
   "language": "python",
   "name": "python3"
  },
  "language_info": {
   "codemirror_mode": {
    "name": "ipython",
    "version": 3
   },
   "file_extension": ".py",
   "mimetype": "text/x-python",
   "name": "python",
   "nbconvert_exporter": "python",
   "pygments_lexer": "ipython3",
   "version": "3.7.9"
  }
 },
 "nbformat": 4,
 "nbformat_minor": 4
}
