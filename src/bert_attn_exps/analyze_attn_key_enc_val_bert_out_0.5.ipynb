{
 "cells": [
  {
   "cell_type": "code",
   "execution_count": 1,
   "metadata": {},
   "outputs": [],
   "source": [
    "from transformer.Models import Transformer"
   ]
  },
  {
   "cell_type": "code",
   "execution_count": 2,
   "metadata": {},
   "outputs": [],
   "source": [
    "import math\n",
    "import torch\n",
    "import torch.nn as nn\n",
    "import torch.nn.functional as F\n",
    "import torch.optim as optim\n",
    "from torch.nn.utils.rnn import pad_sequence\n",
    "from torch.utils.data import DataLoader, Dataset\n",
    "from tqdm import tqdm\n",
    "import time\n",
    "import yaml\n",
    "from argparse import ArgumentParser\n",
    "\n",
    "\n",
    "# from transformer.Models import Transformer, Encoder, Decoder\n",
    "# from datasets.quora_bert_mask_predict_prob_dataset import QuoraBertMaskPredictProbDataset\n",
    "from transformer.Optim import ScheduledOptim"
   ]
  },
  {
   "cell_type": "code",
   "execution_count": 3,
   "metadata": {},
   "outputs": [],
   "source": [
    "from tqdm import tqdm\n",
    "import re\n",
    "import numpy as np\n",
    "from transformers import BertTokenizer, BertForMaskedLM\n",
    "import os\n",
    "import random\n",
    "\n",
    "class QuoraBertMaskPredictProbDataset(Dataset):\n",
    "    def __init__(self, mode, train_size=5000, val_size=1000, test_size=1000, \n",
    "                 text_path='../data/quora_train.txt', pretrained_model_name='bert-base-cased', preprocessed_folder=None):\n",
    "        assert mode in [\"train\", \"val\", \"test\"]\n",
    "        self.mode = mode\n",
    "        self.train_size = train_size\n",
    "        self.val_size = val_size\n",
    "        self.test_size = test_size\n",
    "        \n",
    "        self.tokenizer = self.init_tokenizer(pretrained_model_name)\n",
    "        self.mask_predict_model = BertForMaskedLM.from_pretrained(pretrained_model_name)\n",
    "        self.sentences = self.read_text(text_path)\n",
    "        self.init_constants()\n",
    "        self.softmax = torch.nn.Softmax(dim=1)\n",
    "        \n",
    "        self.n_words = len(self.tokenizer)\n",
    "        \n",
    "        if preprocessed_folder is not None and os.path.exists(preprocessed_folder):\n",
    "            self.preprocessed_folder = preprocessed_folder\n",
    "        else:\n",
    "            self.preprocessed_folder = None\n",
    "            self.device = torch.device(\"cuda\" if torch.cuda.is_available() else \"cpu\")\n",
    "            self.mask_predict_model = self.mask_predict_model.to(self.device)\n",
    "\n",
    "    def __getitem__(self, idx):\n",
    "        sentence = self.sentences[idx]\n",
    "        seq1, seq2 = sentence.split('\\t')\n",
    "        \n",
    "        tokens1 = self.tokenizer.tokenize(seq1)\n",
    "        word_pieces1 =  [self.SOS_token] + tokens1 + [self.EOS_token]\n",
    "        idxes1 = self.tokenizer.convert_tokens_to_ids(word_pieces1)\n",
    "        \n",
    "        tokens2 = self.tokenizer.tokenize(seq2)\n",
    "        word_pieces2 = [self.SOS_token] + tokens2 + [self.EOS_token]\n",
    "        idxes2 = self.tokenizer.convert_tokens_to_ids(word_pieces2)\n",
    "        \n",
    "        seq1_tensor = torch.tensor(idxes1, dtype=torch.long)\n",
    "        seq2_tensor = torch.tensor(idxes2, dtype=torch.long)\n",
    "        \n",
    "        if self.preprocessed_folder is not None:\n",
    "            if self.mode == 'train':\n",
    "                pretrained_idx = idx\n",
    "            elif self.mode == 'val':\n",
    "                pretrained_idx = self.train_size + idx\n",
    "            else:\n",
    "                pretrained_idx = self.train_size + self.val_size + idx\n",
    "            preprocessed_file = \"{}/{}.npy\".format(self.preprocessed_folder, pretrained_idx)\n",
    "            mask_probs = np.load(preprocessed_file, allow_pickle=True)\n",
    "            mask_probs = torch.tensor(mask_probs)\n",
    "        else:\n",
    "            # mask each word from the begining to the end\n",
    "            # get the probability distribution of the mask tokens\n",
    "            pred = self.get_mask_pred_probs(seq1_tensor)\n",
    "            mask_probs = self.get_stack_probs(pred)\n",
    "        \n",
    "        return seq1_tensor, seq2_tensor, mask_probs\n",
    "\n",
    "    def __len__(self):\n",
    "        if self.mode == 'train':\n",
    "            return self.train_size\n",
    "        elif self.mode == 'val':\n",
    "            return self.val_size\n",
    "        else:\n",
    "            return self.test_size\n",
    "        \n",
    "    # [CLS]  [M]  w2  w3  [SEP]        \n",
    "    # [CLS]  w1  [M]  w3  [SEP]        \n",
    "    # [CLS]  w1 w2  [M]  [SEP]        \n",
    "    # get the probability of [M] for each mask-prediction case\n",
    "    # mask for (number of words) times and every time get (number of words + 2) probability\n",
    "    # TODO: get the pred for only once\n",
    "    def get_mask_pred_probs(self, seq1):\n",
    "        mask_sentences = []\n",
    "        \n",
    "        for i in range(1, len(seq1) - 1):\n",
    "            mask_seq = seq1.detach().clone()\n",
    "            mask_seq[i] = self.MASK_token_id\n",
    "            mask_sentences.append(mask_seq)\n",
    "\n",
    "        mask_stack = torch.stack(mask_sentences)\n",
    "        mask_stack = mask_stack.to(self.device)\n",
    "        \n",
    "        self.mask_predict_model.eval()\n",
    "\n",
    "        with torch.no_grad():\n",
    "            pred = self.mask_predict_model(mask_stack)[0]\n",
    "        pred = pred.cpu()\n",
    "        return pred\n",
    "    \n",
    "    def get_stack_probs(self, pred):\n",
    "        bos_prob = torch.zeros(self.n_words)\n",
    "        bos_prob[self.SOS_token_id] = 1\n",
    "\n",
    "        eos_prob = torch.zeros(self.n_words)\n",
    "        eos_prob[self.EOS_token_id] = 1\n",
    "\n",
    "        mask_preds = []\n",
    "        for idx in range(pred.shape[0]):\n",
    "            mask_preds.append(pred[idx][idx+1])\n",
    "        mask_stack = torch.stack(mask_preds)\n",
    "        mask_stack = torch.cat((bos_prob.reshape(1,-1), mask_stack, eos_prob.reshape(1,-1)))\n",
    "        return mask_stack\n",
    "    \n",
    "    def init_tokenizer(self, pretrained_model_name):\n",
    "        tokenizer = BertTokenizer.from_pretrained(pretrained_model_name)\n",
    "        return tokenizer\n",
    "    \n",
    "    def init_constants(self):\n",
    "        PAD_id,  SOS_id, EOS_id, UNK_id = self.tokenizer.convert_tokens_to_ids([\"[PAD]\", \"[CLS]\", \"[SEP]\", \"[UNK]\"])\n",
    "        self.PAD_token_id = PAD_id\n",
    "        self.SOS_token_id = SOS_id\n",
    "        self.EOS_token_id = EOS_id\n",
    "        self.UNK_token_id = UNK_id\n",
    "        \n",
    "        self.PAD_token = '[PAD]'\n",
    "        self.SOS_token = '[CLS]'\n",
    "        self.EOS_token = '[SEP]'\n",
    "        self.UNK_token = '[UNK]'\n",
    "        \n",
    "        self.MASK_token = '[MASK]'\n",
    "        self.MASK_token_id = self.tokenizer.convert_tokens_to_ids([\"[MASK]\"])[0]\n",
    "\n",
    "        \n",
    "    def read_text(self, text_path):\n",
    "        # add words to dictionary\n",
    "        f = open(text_path, 'r')\n",
    "        lines = f.readlines()\n",
    "        # shuffle\n",
    "        np.random.shuffle(lines)\n",
    "        if self.mode == \"train\":\n",
    "            lines = lines[:self.train_size]\n",
    "        elif self.mode == 'val':\n",
    "            lines = lines[self.train_size:self.train_size+self.val_size]\n",
    "        else:\n",
    "            lines = lines[self.train_size+self.val_size:self.train_size+self.val_size+self.test_size]\n",
    "        \n",
    "        return lines\n",
    "\n",
    "    "
   ]
  },
  {
   "cell_type": "code",
   "execution_count": 4,
   "metadata": {},
   "outputs": [],
   "source": [
    "seed = 0\n",
    "# seed = 777\n",
    "# seed = 33333\n",
    "\n",
    "# fix seed\n",
    "def same_seeds(seed):\n",
    "    torch.manual_seed(seed)\n",
    "    if torch.cuda.is_available():\n",
    "        torch.cuda.manual_seed(seed)\n",
    "        torch.cuda.manual_seed_all(seed)  \n",
    "    np.random.seed(seed)\n",
    "    torch.backends.cudnn.benchmark = False\n",
    "    torch.backends.cudnn.deterministic = True\n",
    "\n",
    "same_seeds(seed)"
   ]
  },
  {
   "cell_type": "code",
   "execution_count": 5,
   "metadata": {},
   "outputs": [
    {
     "name": "stdout",
     "output_type": "stream",
     "text": [
      "{'save_model_path': '../models/transformer_bert_enc_attention.pth', 'log_file': '../logs/transformer_bert_enc_attention.txt', 'test_output_file': '../outputs/test_transformer_bert_enc_attention.txt', 'val_output_file': '../outputs/val_transformer_bert_enc_attention.txt', 'preprocessed_folder': '../data/preprocess_quora_bert_mask_predict/', 'dataset': 'quora_bert_dataset', 'num_epochs': 50, 'batch_size': 100, 'd_model': 450, 'd_inner_hid': 512, 'd_k': 50, 'd_v': 50, 'n_head': 9, 'n_layers': 3, 'n_warmup_steps': 12000, 'dropout': 0.1, 'embs_share_weight': True, 'proj_share_weight': True, 'label_smoothing': False, 'train_size': 100000, 'val_size': 4000, 'test_size': 20000, 'is_bow': False, 'lr': '1e-3'}\n",
      "seed:  0\n",
      "save model path:  ../../models/fixseed/seed0/transformer_key_enc_bert_val_attention_alpha0.5.pth\n",
      "log path:  ../../logs/fixseed/seed0/transformer_key_enc_bert_val_attention_alpha0.5.txt\n",
      "output path:  ../../outputs/fixseed/seed0/transformer_key_enc_bert_val_attention_alpha0.5.txt\n"
     ]
    }
   ],
   "source": [
    "##### Read Arguments from Config File #####\n",
    "\n",
    "config_path = '../../configs/dpng_transformer_bert_attention.yaml'\n",
    "\n",
    "with open(config_path) as f:\n",
    "    config = yaml.load(f, Loader=yaml.FullLoader)\n",
    "print(config)\n",
    "\n",
    "# save_model_path = config['save_model_path']\n",
    "# log_file = config['log_file']\n",
    "# preprocessed_folder = config['preprocessed_folder']\n",
    "save_model_path = '../../models/tune/transformer_key_enc_bert_val_attention_alpha0.5.pth'\n",
    "log_file = '../../logs/tune/transformer_key_enc_bert_val_attention_alpha0.5.txt'\n",
    "output_file = '../../outputs/tune/transformer_key_enc_bert_val_attention_alpha0.5.txt'\n",
    "\n",
    "# set model and log path\n",
    "seed_model_root = '../../models/fixseed/seed{}/'.format(seed)\n",
    "seed_log_root = '../../logs/fixseed/seed{}/'.format(seed)\n",
    "seed_output_root = '../../outputs/fixseed/seed{}/'.format(seed)\n",
    "\n",
    "if not os.path.exists(seed_model_root):\n",
    "    os.makedirs(seed_model_root)\n",
    "\n",
    "if not os.path.exists(seed_log_root):\n",
    "    os.makedirs(seed_log_root)\n",
    "\n",
    "save_model_path = seed_model_root + save_model_path.split('/')[-1]\n",
    "log_file = seed_log_root + log_file.split('/')[-1]\n",
    "output_file = seed_output_root + output_file.split('/')[-1]\n",
    "print('seed: ', seed)\n",
    "print('save model path: ', save_model_path)\n",
    "print('log path: ', log_file)\n",
    "print('output path: ', output_file)\n",
    "\n",
    "num_epochs = config['num_epochs']\n",
    "batch_size = config['batch_size']\n",
    "\n",
    "d_model = config['d_model']\n",
    "d_inner_hid = config['d_inner_hid']\n",
    "d_k = config['d_k']\n",
    "d_v = config['d_v']\n",
    "\n",
    "n_head = config['n_head']\n",
    "n_layers = config['n_layers']\n",
    "n_warmup_steps = config['n_warmup_steps']\n",
    "\n",
    "dropout = config['dropout']\n",
    "embs_share_weight = config['embs_share_weight']\n",
    "proj_share_weight = config['proj_share_weight']\n",
    "label_smoothing = config['label_smoothing']\n",
    "\n",
    "train_size = config['train_size']\n",
    "val_size = config['val_size']\n",
    "test_size = config['test_size']\n",
    "\n",
    "\n",
    "# ###################"
   ]
  },
  {
   "cell_type": "code",
   "execution_count": 6,
   "metadata": {},
   "outputs": [],
   "source": [
    "# bert_alpha = 0 # normal\n",
    "bert_alpha = 0.5 # half-half\n",
    "# bert_alpha = 1 # only bert attention"
   ]
  },
  {
   "cell_type": "code",
   "execution_count": null,
   "metadata": {},
   "outputs": [
    {
     "name": "stderr",
     "output_type": "stream",
     "text": [
      "Some weights of the model checkpoint at bert-base-cased were not used when initializing BertForMaskedLM: ['cls.seq_relationship.weight', 'cls.seq_relationship.bias']\n",
      "- This IS expected if you are initializing BertForMaskedLM from the checkpoint of a model trained on another task or with another architecture (e.g. initializing a BertForSequenceClassification model from a BertForPretraining model).\n",
      "- This IS NOT expected if you are initializing BertForMaskedLM from the checkpoint of a model that you expect to be exactly identical (initializing a BertForSequenceClassification model from a BertForSequenceClassification model).\n"
     ]
    }
   ],
   "source": [
    "def create_mini_batch(samples):\n",
    "    seq1_tensors = [s[0] for s in samples]\n",
    "    seq2_tensors = [s[1] for s in samples]\n",
    "    probs_tensors = [s[2] for s in samples]\n",
    "\n",
    "    # zero pad\n",
    "    seq1_tensors = pad_sequence(seq1_tensors,\n",
    "                                  batch_first=True)\n",
    "\n",
    "    seq2_tensors = pad_sequence(seq2_tensors,\n",
    "                                  batch_first=True)\n",
    "    probs_tensors = pad_sequence(probs_tensors,\n",
    "                                  batch_first=True)\n",
    "    \n",
    "    return seq1_tensors, seq2_tensors, probs_tensors\n",
    "\n",
    "dataset = QuoraBertMaskPredictProbDataset(\"train\", train_size, val_size, text_path='../../data/quora_train.txt')\n",
    "val_dataset = QuoraBertMaskPredictProbDataset(\"val\", train_size, val_size, text_path='../../data/quora_train.txt')\n",
    "\n",
    "data_loader = DataLoader(dataset, batch_size=batch_size, collate_fn=create_mini_batch, shuffle=True)\n",
    "val_data_loader = DataLoader(val_dataset, batch_size=batch_size, collate_fn=create_mini_batch, shuffle=False)"
   ]
  },
  {
   "cell_type": "code",
   "execution_count": null,
   "metadata": {},
   "outputs": [],
   "source": [
    "import torch\n",
    "import torch.nn as nn\n",
    "import numpy as np\n",
    "import torch.nn.functional as F\n",
    "\n",
    "from transformer.SubLayers import MultiHeadAttention, PositionwiseFeedForward\n",
    "from transformer.Models import get_pad_mask, get_subsequent_mask\n",
    "from transformer.Models import PositionalEncoding, Encoder\n",
    "\n",
    "# QKV: dec_out  enc_out  bert_out\n",
    "class DecoderLayer(nn.Module):\n",
    "    ''' Compose with three layers '''\n",
    "\n",
    "    def __init__(self, d_model, d_inner, n_head, d_k, d_v, dropout=0.1, bert_alpha=0):\n",
    "        super(DecoderLayer, self).__init__()\n",
    "        self.slf_attn = MultiHeadAttention(n_head, d_model, d_k, d_v, dropout=dropout)\n",
    "        self.enc_attn = MultiHeadAttention(n_head, d_model, d_k, d_v, dropout=dropout)\n",
    "        self.bert_attn = MultiHeadAttention(n_head, d_model, d_k, d_v, dropout=dropout)\n",
    "        self.pos_ffn = PositionwiseFeedForward(d_model, d_inner, dropout=dropout)\n",
    "        self.bert_alpha = bert_alpha\n",
    "\n",
    "    def forward(\n",
    "            self, dec_input, enc_output, bert_out,\n",
    "            slf_attn_mask=None, dec_enc_attn_mask=None):\n",
    "        \n",
    "        dec_output, dec_slf_attn = self.slf_attn(\n",
    "            dec_input, dec_input, dec_input, mask=slf_attn_mask)\n",
    "        \n",
    "        dec_output, dec_enc_attn = self.enc_attn(\n",
    "            dec_output, enc_output, enc_output, mask=dec_enc_attn_mask)\n",
    "        \n",
    "        dec_bert_output, dec_enc_bert_attn = self.bert_attn(\n",
    "            dec_output, enc_output, bert_out, mask=dec_enc_attn_mask)\n",
    "        \n",
    "        dec_output = (1-self.bert_alpha) *  dec_output + self.bert_alpha * dec_bert_output\n",
    "        \n",
    "        dec_output = self.pos_ffn(dec_output)\n",
    "        return dec_output, dec_slf_attn, dec_enc_attn\n",
    "\n",
    "\n",
    "\n"
   ]
  },
  {
   "cell_type": "code",
   "execution_count": null,
   "metadata": {},
   "outputs": [],
   "source": [
    "\n",
    "class Decoder(nn.Module):\n",
    "    ''' A decoder model with self attention mechanism. '''\n",
    "\n",
    "    def __init__(\n",
    "            self, n_trg_vocab, d_word_vec, n_layers, n_head, d_k, d_v,\n",
    "            d_model, d_inner, pad_idx, n_position=200, dropout=0.1, bert_alpha=0):\n",
    "\n",
    "        super().__init__()\n",
    "\n",
    "        self.trg_word_emb = nn.Embedding(n_trg_vocab, d_word_vec, padding_idx=pad_idx)\n",
    "        self.position_enc = PositionalEncoding(d_word_vec, n_position=n_position)\n",
    "        self.dropout = nn.Dropout(p=dropout)\n",
    "        self.layer_stack = nn.ModuleList([\n",
    "            DecoderLayer(d_model, d_inner, n_head, d_k, d_v, dropout=dropout, bert_alpha=bert_alpha)\n",
    "            for _ in range(n_layers)])\n",
    "        self.layer_norm = nn.LayerNorm(d_model, eps=1e-6)\n",
    "\n",
    "    def forward(self, trg_seq, trg_mask, enc_output, bert_out, src_mask, return_attns=False):\n",
    "\n",
    "        dec_slf_attn_list, dec_enc_attn_list = [], []\n",
    "\n",
    "        # -- Forward\n",
    "        dec_output = self.dropout(self.position_enc(self.trg_word_emb(trg_seq)))\n",
    "        dec_output = self.layer_norm(dec_output)\n",
    "        \n",
    "#         print('encoder output', enc_output.shape)\n",
    "#         print('decoder output', dec_output.shape)\n",
    "#         print('bert output', bert_out.shape)\n",
    "\n",
    "        for dec_layer in self.layer_stack:\n",
    "            dec_output, dec_slf_attn, dec_enc_attn = dec_layer(\n",
    "                dec_output, enc_output, bert_out, slf_attn_mask=trg_mask, dec_enc_attn_mask=src_mask)\n",
    "            dec_slf_attn_list += [dec_slf_attn] if return_attns else []\n",
    "            dec_enc_attn_list += [dec_enc_attn] if return_attns else []\n",
    "\n",
    "        if return_attns:\n",
    "            return dec_output, dec_slf_attn_list, dec_enc_attn_list\n",
    "        return dec_output,"
   ]
  },
  {
   "cell_type": "code",
   "execution_count": null,
   "metadata": {},
   "outputs": [],
   "source": [
    "class Transformer(nn.Module):\n",
    "    ''' A sequence to sequence model with attention mechanism. '''\n",
    "\n",
    "    def __init__(\n",
    "            self, n_src_vocab, n_trg_vocab, src_pad_idx, trg_pad_idx,\n",
    "            d_word_vec=512, d_model=512, d_inner=2048,\n",
    "            n_layers=6, n_head=8, d_k=64, d_v=64, dropout=0.1, n_position=200,\n",
    "            trg_emb_prj_weight_sharing=True, emb_src_trg_weight_sharing=True, bert_alpha=0):\n",
    "\n",
    "        super().__init__()\n",
    "\n",
    "        self.src_pad_idx, self.trg_pad_idx = src_pad_idx, trg_pad_idx\n",
    "        \n",
    "        self.probnn = nn.Linear(n_src_vocab, d_model)\n",
    "\n",
    "        self.encoder = Encoder(\n",
    "            n_src_vocab=n_src_vocab, n_position=n_position,\n",
    "            d_word_vec=d_word_vec, d_model=d_model, d_inner=d_inner,\n",
    "            n_layers=n_layers, n_head=n_head, d_k=d_k, d_v=d_v,\n",
    "            pad_idx=src_pad_idx, dropout=dropout)\n",
    "\n",
    "        self.decoder = Decoder(\n",
    "            n_trg_vocab=n_trg_vocab, n_position=n_position,\n",
    "            d_word_vec=d_word_vec, d_model=d_model, d_inner=d_inner,\n",
    "            n_layers=n_layers, n_head=n_head, d_k=d_k, d_v=d_v,\n",
    "            pad_idx=trg_pad_idx, dropout=dropout, bert_alpha=bert_alpha)\n",
    "\n",
    "        self.trg_word_prj = nn.Linear(d_model, n_trg_vocab, bias=False)\n",
    "\n",
    "        for p in self.parameters():\n",
    "            if p.dim() > 1:\n",
    "                nn.init.xavier_uniform_(p) \n",
    "\n",
    "        assert d_model == d_word_vec, \\\n",
    "        'To facilitate the residual connections, \\\n",
    "         the dimensions of all module outputs shall be the same.'\n",
    "\n",
    "        self.x_logit_scale = 1.\n",
    "        if trg_emb_prj_weight_sharing:\n",
    "            # Share the weight between target word embedding & last dense layer\n",
    "            self.trg_word_prj.weight = self.decoder.trg_word_emb.weight\n",
    "            self.x_logit_scale = (d_model ** -0.5)\n",
    "\n",
    "        if emb_src_trg_weight_sharing:\n",
    "            self.encoder.src_word_emb.weight = self.decoder.trg_word_emb.weight\n",
    "\n",
    "\n",
    "    def forward(self, src_seq, trg_seq, bert_prob, return_attns=False):\n",
    "        src_mask = get_pad_mask(src_seq, self.src_pad_idx)\n",
    "        trg_mask = get_pad_mask(trg_seq, self.trg_pad_idx) & get_subsequent_mask(trg_seq)\n",
    "\n",
    "        enc_output, enc_slf_attn_list = self.encoder(src_seq, src_mask, return_attns=True)\n",
    "        \n",
    "        bert_out = self.probnn(bert_prob)\n",
    "#         print(\"bert prod:\", bert_prob.shape)\n",
    "#         print(\"(trans) bert out: \", bert_out.shape)\n",
    "        \n",
    "        dec_output, dec_slf_attn_list, dec_enc_attn_list = self.decoder(trg_seq, trg_mask, enc_output, bert_out, src_mask, return_attns=True)\n",
    "        seq_logit = self.trg_word_prj(dec_output) * self.x_logit_scale\n",
    "\n",
    "        if return_attns:\n",
    "            return seq_logit.view(-1, seq_logit.size(2)), enc_slf_attn_list, dec_slf_attn_list, dec_enc_attn_list\n",
    "        return seq_logit.view(-1, seq_logit.size(2))\n"
   ]
  },
  {
   "cell_type": "code",
   "execution_count": null,
   "metadata": {},
   "outputs": [],
   "source": [
    "transformer = Transformer(\n",
    "    dataset.n_words,\n",
    "    dataset.n_words,\n",
    "    src_pad_idx=dataset.PAD_token_id,\n",
    "    trg_pad_idx=dataset.PAD_token_id,\n",
    "    trg_emb_prj_weight_sharing=proj_share_weight,\n",
    "    emb_src_trg_weight_sharing=embs_share_weight,\n",
    "    d_k=d_k,\n",
    "    d_v=d_v,\n",
    "    d_model=d_model,\n",
    "    d_word_vec=d_model,\n",
    "    d_inner=d_inner_hid,\n",
    "    n_layers=n_layers,\n",
    "    n_head=n_head,\n",
    "    dropout=dropout,\n",
    "    bert_alpha=bert_alpha\n",
    ")"
   ]
  },
  {
   "cell_type": "code",
   "execution_count": null,
   "metadata": {},
   "outputs": [],
   "source": [
    "device = torch.device(\"cuda\" if torch.cuda.is_available() else \"cpu\")\n",
    "model = transformer.to(device)"
   ]
  },
  {
   "cell_type": "code",
   "execution_count": null,
   "metadata": {},
   "outputs": [],
   "source": [
    "from transformer.CustomModels import Translator\n"
   ]
  },
  {
   "cell_type": "code",
   "execution_count": null,
   "metadata": {},
   "outputs": [],
   "source": [
    "import re\n",
    "import numpy as np\n",
    "\n",
    "class QuoraTextDataset(Dataset):\n",
    "    def __init__(self, mode, train_size=5000, val_size=1000, test_size=1000, text_path='../data/quora_train.txt'):\n",
    "        assert mode in [\"train\", \"val\", \"test\"]\n",
    "        self.mode = mode\n",
    "        self.train_size = train_size\n",
    "        self.val_size = val_size\n",
    "        self.test_size = test_size\n",
    "        self.sentences = []\n",
    "\n",
    "        self._init_sentences(text_path)\n",
    "\n",
    "    def __getitem__(self, idx):\n",
    "        return self.sentences[idx]\n",
    "        seq1, seq2 = self.sentences[idx]\n",
    "\n",
    "    def __len__(self):\n",
    "        if self.mode == 'train':\n",
    "            return self.train_size\n",
    "        elif self.mode == 'val':\n",
    "            return self.val_size\n",
    "        else:\n",
    "            return self.test_size\n",
    "    \n",
    "    def _init_sentences(self, text_path):\n",
    "        f = open(text_path, 'r')\n",
    "        lines = f.readlines()\n",
    "        np.random.shuffle(lines)\n",
    "        if self.mode == \"train\":\n",
    "            lines = lines[:self.train_size]\n",
    "        elif self.mode == 'val':\n",
    "            lines = lines[self.train_size:self.train_size+self.val_size]\n",
    "        else:\n",
    "            lines = lines[self.train_size+self.val_size:self.train_size+self.val_size+self.test_size]\n",
    "        \n",
    "        def normalize_sentence(s):\n",
    "            s = re.sub(r\"([.!?])\", r\" \\1\", s)\n",
    "            s = re.sub(r\"[^a-zA-Z.!?]+\", r\" \", s)\n",
    "            return s\n",
    "\n",
    "        for line in lines:\n",
    "            seq1, seq2 = [normalize_sentence(seq) for seq in line.split('\\t')]\n",
    "            self.sentences.append((seq1, seq2))\n",
    "\n",
    "        "
   ]
  },
  {
   "cell_type": "code",
   "execution_count": null,
   "metadata": {},
   "outputs": [],
   "source": [
    "tbatch_size = 1\n",
    "beam_size = 3\n",
    "max_seq_len = 30\n",
    "\n",
    "same_seeds(seed)\n",
    "\n",
    "# dataset = QuoraBertMaskPredictProbDataset(\"test\", train_size, val_size, test_size, preprocessed_folder=preprocessed_folder)\n",
    "test_dataset = QuoraBertMaskPredictProbDataset(\"test\", train_size, val_size, test_size, text_path='../../data/quora_train.txt')\n",
    "\n",
    "same_seeds(seed) \n",
    "text_dataset = QuoraTextDataset(\"test\", train_size, val_size, test_size, text_path='../../data/quora_train.txt')\n",
    "test_data_loader = DataLoader(test_dataset, batch_size=tbatch_size, collate_fn=create_mini_batch, shuffle=False)"
   ]
  },
  {
   "cell_type": "code",
   "execution_count": null,
   "metadata": {},
   "outputs": [],
   "source": [
    "model.load_state_dict((torch.load(\n",
    "        save_model_path, map_location=device)))"
   ]
  },
  {
   "cell_type": "code",
   "execution_count": null,
   "metadata": {},
   "outputs": [],
   "source": [
    "src_pad_idx = dataset.PAD_token_id\n",
    "trg_pad_idx = dataset.PAD_token_id\n",
    "    \n",
    "trg_bos_idx = dataset.SOS_token_id\n",
    "trg_eos_idx = dataset.EOS_token_id\n",
    "unk_idx = dataset.UNK_token_id"
   ]
  },
  {
   "cell_type": "code",
   "execution_count": 18,
   "metadata": {},
   "outputs": [],
   "source": [
    "translator = Translator(\n",
    "        model=model,\n",
    "        beam_size=beam_size,\n",
    "        max_seq_len=max_seq_len,\n",
    "        src_pad_idx=src_pad_idx,\n",
    "        trg_pad_idx=trg_pad_idx,\n",
    "        trg_bos_idx=trg_bos_idx,\n",
    "        trg_eos_idx=trg_eos_idx,\n",
    ").to(device)"
   ]
  },
  {
   "cell_type": "code",
   "execution_count": 19,
   "metadata": {},
   "outputs": [
    {
     "name": "stdout",
     "output_type": "stream",
     "text": [
      "['[CLS]', 'How', 'can', 'I', 'learn', 'faster', '?', '[SEP]']\n"
     ]
    }
   ],
   "source": [
    "# dry-run\n",
    "it = iter(test_data_loader)\n",
    "i = 1\n",
    "for _ in range(i):\n",
    "    next(it)\n",
    "\n",
    "seq1, seq2, bert_prob = next(it)\n",
    "input_seq = seq1.to(device)\n",
    "bert_prob = bert_prob.to(device)\n",
    "pred_seq = translator.translate_sentence(input_seq, bert_prob)\n",
    "print(dataset.tokenizer.convert_ids_to_tokens(pred_seq))"
   ]
  },
  {
   "cell_type": "code",
   "execution_count": 20,
   "metadata": {},
   "outputs": [
    {
     "name": "stdout",
     "output_type": "stream",
     "text": [
      "How can I speak faster?\tHow can you speak faster?\n",
      "\n",
      "torch.Size([8, 28996])\n",
      "tensor([0.2046, 0.1890, 0.1698, 0.1139, 0.1039, 0.0461, 0.0262, 0.0234, 0.0220,\n",
      "        0.0063, 0.0040, 0.0038, 0.0037, 0.0031, 0.0030, 0.0024, 0.0024, 0.0023,\n",
      "        0.0015, 0.0015, 0.0014, 0.0014, 0.0014, 0.0013, 0.0013, 0.0013, 0.0013,\n",
      "        0.0012, 0.0012, 0.0012, 0.0012, 0.0011, 0.0011, 0.0011, 0.0011, 0.0011,\n",
      "        0.0009, 0.0009, 0.0009, 0.0009])\n"
     ]
    },
    {
     "data": {
      "text/plain": [
       "['go',\n",
       " 'move',\n",
       " 'run',\n",
       " 'walk',\n",
       " 'be',\n",
       " 'get',\n",
       " 'travel',\n",
       " 'think',\n",
       " 'drive',\n",
       " 'breathe',\n",
       " 'swim',\n",
       " 'see',\n",
       " 'fly',\n",
       " 'heal',\n",
       " 'talk',\n",
       " 'turn',\n",
       " 'work',\n",
       " 'come',\n",
       " 'sprint',\n",
       " 'ride',\n",
       " 'live',\n",
       " 'race',\n",
       " 'do',\n",
       " 'fight',\n",
       " 'escape',\n",
       " 'fall',\n",
       " 'beat',\n",
       " 'know',\n",
       " 'jump',\n",
       " 'dance',\n",
       " 'speed',\n",
       " 'learn',\n",
       " 'step',\n",
       " 'die',\n",
       " 'function',\n",
       " 'speak',\n",
       " 'change',\n",
       " 'pass',\n",
       " 'shift',\n",
       " 'read']"
      ]
     },
     "execution_count": 20,
     "metadata": {},
     "output_type": "execute_result"
    }
   ],
   "source": [
    "print(test_dataset.sentences[i])\n",
    "_, _, mp = test_dataset[i]\n",
    "soft = torch.nn.Softmax(dim=1)\n",
    "mp = soft(mp)\n",
    "print(mp.shape)\n",
    "prob, indices = torch.topk(mp[4], 40)\n",
    "print(prob)\n",
    "dataset.tokenizer.convert_ids_to_tokens(list(indices.numpy()))"
   ]
  },
  {
   "cell_type": "code",
   "execution_count": 33,
   "metadata": {
    "scrolled": true
   },
   "outputs": [
    {
     "name": "stdout",
     "output_type": "stream",
     "text": [
      "tensor(-86045.5859, device='cuda:0')\n",
      "tensor(-84083.0859, device='cuda:0')\n"
     ]
    }
   ],
   "source": [
    "print(sum(bert_prob[0][1]))\n",
    "print(sum(bert_prob[0][4]))"
   ]
  },
  {
   "cell_type": "code",
   "execution_count": 29,
   "metadata": {},
   "outputs": [
    {
     "name": "stdout",
     "output_type": "stream",
     "text": [
      "torch.Size([1, 14])\n",
      "['[CLS]', 'What', 'is', 'the', 'best', 'laptop', 'under', 'IN', '##R', '30', ',', '000', '?', '[SEP]']\n"
     ]
    }
   ],
   "source": [
    "# diter = iter(test_data_loader)\n",
    "# _ = next(diter)\n",
    "# _ = next(diter)\n",
    "# seq1_tensor, seq2_tensor, mask_prob = next(diter)\n",
    "# print(seq1_tensor.shape)\n",
    "# print(dataset.tokenizer.convert_ids_to_tokens(seq1_tensor[0]))\n"
   ]
  },
  {
   "cell_type": "code",
   "execution_count": null,
   "metadata": {},
   "outputs": [],
   "source": [
    "dataset.tokenizer.convert_tokens_to_ids(['novels', 'books', 'book', 'comic', 'story'])"
   ]
  },
  {
   "cell_type": "code",
   "execution_count": 32,
   "metadata": {},
   "outputs": [
    {
     "ename": "NameError",
     "evalue": "name 'seq1_tensor' is not defined",
     "output_type": "error",
     "traceback": [
      "\u001b[0;31m---------------------------------------------------------------------------\u001b[0m",
      "\u001b[0;31mNameError\u001b[0m                                 Traceback (most recent call last)",
      "\u001b[0;32m<ipython-input-32-7407859f055c>\u001b[0m in \u001b[0;36m<module>\u001b[0;34m\u001b[0m\n\u001b[1;32m      7\u001b[0m \u001b[0;34m\u001b[0m\u001b[0m\n\u001b[1;32m      8\u001b[0m \u001b[0mmask_preds\u001b[0m \u001b[0;34m=\u001b[0m \u001b[0;34m[\u001b[0m\u001b[0;34m]\u001b[0m\u001b[0;34m\u001b[0m\u001b[0;34m\u001b[0m\u001b[0m\n\u001b[0;32m----> 9\u001b[0;31m \u001b[0;32mfor\u001b[0m \u001b[0mi\u001b[0m\u001b[0;34m,\u001b[0m \u001b[0midx\u001b[0m \u001b[0;32min\u001b[0m \u001b[0menumerate\u001b[0m\u001b[0;34m(\u001b[0m\u001b[0mseq1_tensor\u001b[0m\u001b[0;34m[\u001b[0m\u001b[0;36m0\u001b[0m\u001b[0;34m,\u001b[0m\u001b[0;34m:\u001b[0m\u001b[0;34m]\u001b[0m\u001b[0;34m)\u001b[0m\u001b[0;34m:\u001b[0m\u001b[0;34m\u001b[0m\u001b[0;34m\u001b[0m\u001b[0m\n\u001b[0m\u001b[1;32m     10\u001b[0m     \u001b[0mprob\u001b[0m \u001b[0;34m=\u001b[0m \u001b[0mtorch\u001b[0m\u001b[0;34m.\u001b[0m\u001b[0mzeros\u001b[0m\u001b[0;34m(\u001b[0m\u001b[0mdataset\u001b[0m\u001b[0;34m.\u001b[0m\u001b[0mn_words\u001b[0m\u001b[0;34m)\u001b[0m\u001b[0;34m\u001b[0m\u001b[0;34m\u001b[0m\u001b[0m\n\u001b[1;32m     11\u001b[0m     \u001b[0mprob\u001b[0m\u001b[0;34m[\u001b[0m\u001b[0midx\u001b[0m\u001b[0;34m]\u001b[0m \u001b[0;34m=\u001b[0m \u001b[0;36m1\u001b[0m\u001b[0;34m\u001b[0m\u001b[0;34m\u001b[0m\u001b[0m\n",
      "\u001b[0;31mNameError\u001b[0m: name 'seq1_tensor' is not defined"
     ]
    }
   ],
   "source": [
    "# build mask stack\n",
    "bos_prob = torch.zeros(dataset.n_words)\n",
    "bos_prob[dataset.SOS_token_id] = 1\n",
    "\n",
    "eos_prob = torch.zeros(dataset.n_words)\n",
    "eos_prob[dataset.EOS_token_id] = 1\n",
    "\n",
    "mask_preds = []\n",
    "for i, idx in enumerate(seq1_tensor[0,:]):\n",
    "    prob = torch.zeros(dataset.n_words)\n",
    "    prob[idx] = 1\n",
    "    \n",
    "    if idx == 5520:\n",
    "        prob[idx] = 0\n",
    "        prob[2146] = 0\n",
    "        prob[1520] = 0\n",
    "        prob[4824] = 0\n",
    "        prob[1642] = 0\n",
    "    mask_preds.append(prob)\n",
    "#     print(idx, prob[idx], len(mask_preds))\n",
    "mask_stack = torch.stack(mask_preds)\n",
    "print(mask_stack.shape)\n",
    "\n"
   ]
  },
  {
   "cell_type": "code",
   "execution_count": null,
   "metadata": {},
   "outputs": [],
   "source": [
    "mask_stack = mask_stack.reshape(1, len(seq1_tensor[0]), -1)\n",
    "print(mask_stack.shape)"
   ]
  },
  {
   "cell_type": "code",
   "execution_count": null,
   "metadata": {},
   "outputs": [],
   "source": [
    "# dry-run\n",
    "diter = iter(test_data_loader)\n",
    "# _ = next(diter)\n",
    "_ = next(diter)\n",
    "seq1, seq2, bert_prob = next(diter)\n",
    "input_seq = seq1.to(device)\n",
    "bert_prob = bert_prob.to(device)\n",
    "pred_seq = translator.translate_sentence(input_seq, bert_prob)\n",
    "print(dataset.tokenizer.convert_ids_to_tokens(pred_seq))"
   ]
  },
  {
   "cell_type": "code",
   "execution_count": null,
   "metadata": {},
   "outputs": [],
   "source": [
    "# analyze model probnn"
   ]
  },
  {
   "cell_type": "code",
   "execution_count": 23,
   "metadata": {},
   "outputs": [
    {
     "data": {
      "text/plain": [
       "torch.Size([28996])"
      ]
     },
     "execution_count": 23,
     "metadata": {},
     "output_type": "execute_result"
    }
   ],
   "source": [
    "weight = model.probnn.weight\n",
    "weight[0].shape"
   ]
  },
  {
   "cell_type": "code",
   "execution_count": 55,
   "metadata": {},
   "outputs": [
    {
     "name": "stdout",
     "output_type": "stream",
     "text": [
      "-----------------------------\n",
      "['ex', 'online', 'title', 'con', 'ID', 'ad', 'wanted', 'purpose', 'charge', 'kind', 'com', 'am', 'tax', 'f', '##able', 'needed', 'proof', 'insurance', 'myself', 'file', 'value', 'running', 'mi', 'que', 'address', 'pack', 'worth', 'want', 'murder', 'needs']\n",
      "-----------------------------\n",
      "['tone', '_', '#', 'market', 'box', 'London', 'value', 'word', 'itself', 'action', 'room', 'rather', 'house', 'industry', 'mostly', 'definitely', 'needs', 'voice', 'title', 'feature', 'bar', 'especially', 'obviously', 'written', 'field', '$', 'based', 'somewhere', '@', 'popular']\n",
      "-----------------------------\n",
      "['lost', 'truly', 'worth', 'living', 'm', 'quite', 'ones', 'such', 'unknown', 'fixed', 'nearly', 'outside', 'self', 'field', 'talent', 'million', 'myself', 'perfect', 'revolution', 'Masters', 'M', 'enemy', 'value', 'built', 'city', 'n', 'away', 'bottom', 'dead', 'building']\n",
      "-----------------------------\n",
      "['price', 'simple', 'common', 'cost', 'market', 'oil', 'health', 'least', 'basic', 'trade', 'needed', 'style', 'nature', 'usually', 'few', 'sales', 'road', 'industry', 'required', 'selling', 'auto', 'food', 'rent', 'need', 'French', 'large', 'value', 'non', 'damn', 'con']\n",
      "-----------------------------\n",
      "['quality', 'across', 'mixed', 'based', 'mostly', 'value', 'quite', 'especially', 'missing', 'ratings', 'status', 'seem', 'share', 'cast', 'online', 'entirely', 'chemistry', 'separate', 'Jones', 'issues', 'among', 'series', 'coffee', 'somewhat', 'compared', 'brand', 'Sam', 'away', 'such', 'beyond']\n"
     ]
    }
   ],
   "source": [
    "word = 'value'\n",
    "word2 = 'prefer'\n",
    "for i in range(450):\n",
    "    w = weight[i].cpu().detach()\n",
    "    prob, indices = torch.topk(w, 30)\n",
    "    tokens = dataset.tokenizer.convert_ids_to_tokens(list(indices.numpy()))\n",
    "#     print(\"-----------------------------\")\n",
    "#     print(tokens)\n",
    "    if word in tokens:\n",
    "        print(\"-----------------------------\")\n",
    "        if word2 in tokens:\n",
    "            print(\"[Info] Find word2 here!\")\n",
    "        print(tokens)\n",
    "        "
   ]
  },
  {
   "cell_type": "code",
   "execution_count": 35,
   "metadata": {},
   "outputs": [
    {
     "name": "stdout",
     "output_type": "stream",
     "text": [
      "['[CLS]', 'How', 'can', 'you', 'learn', 'fast', '?', '[SEP]'] ['[CLS]', 'How', 'can', 'I', 'learn', 'faster', '?', '[SEP]']\n",
      "torch.Size([8, 28996]) torch.Size([8, 28996])\n"
     ]
    }
   ],
   "source": [
    "# analyze the context embedding\n",
    "# s1 = \"How do I know my inner talent ?\"\n",
    "# s2 = \"How can I find my inner talent ?\"\n",
    "# fig_path = \"../../analysis/figs/cos_1.png\"\n",
    "\n",
    "# s1 = \"Why does society value skinny people more than overweight people ?\"\n",
    "# s2 = \"Why do people prefer skinny than others ?\"\n",
    "# fig_path = \"../../analysis/figs/cos_2.png\"\n",
    "\n",
    "# s1 = \"How can I speak faster ?\"\n",
    "# s2 = \"How can I learn faster ?\"\n",
    "# fig_path = \"../../analysis/figs/cos_3.png\"\n",
    "\n",
    "# s1 = \"Why does society value skinny people more than overweight people ?\"\n",
    "# s2 = \"Why does society prefer skinny people more than overweight people ?\"\n",
    "# fig_path = \"../../analysis/figs/cos_2.png\"\n",
    "\n",
    "s1 = \"How can you learn fast ?\"\n",
    "s2 = \"How can I learn faster ?\"\n",
    "\n",
    "tokens1 = dataset.tokenizer.tokenize(s1)\n",
    "word_pieces1 =  [dataset.SOS_token] + tokens1 + [dataset.EOS_token]\n",
    "idxes1 = dataset.tokenizer.convert_tokens_to_ids(word_pieces1)\n",
    "\n",
    "tokens2 = dataset.tokenizer.tokenize(s2)\n",
    "word_pieces2 =  [dataset.SOS_token] + tokens2 + [dataset.EOS_token]\n",
    "idxes2 = dataset.tokenizer.convert_tokens_to_ids(word_pieces2)\n",
    "\n",
    "print(word_pieces1, word_pieces2)\n",
    "\n",
    "seq1 = torch.tensor(idxes1, dtype=torch.long)\n",
    "seq2 = torch.tensor(idxes2, dtype=torch.long)\n",
    "\n",
    "pred1 = dataset.get_mask_pred_probs(seq1)\n",
    "pred2 = dataset.get_mask_pred_probs(seq2)\n",
    "\n",
    "probs1 = dataset.get_stack_probs(pred1)\n",
    "probs2 = dataset.get_stack_probs(pred2)\n",
    "print(probs1.shape, probs2.shape)"
   ]
  },
  {
   "cell_type": "code",
   "execution_count": 36,
   "metadata": {},
   "outputs": [
    {
     "name": "stdout",
     "output_type": "stream",
     "text": [
      "torch.Size([8, 450]) torch.Size([8, 450])\n"
     ]
    }
   ],
   "source": [
    "out1 = model.probnn(probs1.to(device))\n",
    "out2 = model.probnn(probs2.to(device))\n",
    "print(out1.shape, out2.shape)"
   ]
  },
  {
   "cell_type": "code",
   "execution_count": 37,
   "metadata": {},
   "outputs": [
    {
     "name": "stdout",
     "output_type": "stream",
     "text": [
      "8 8\n"
     ]
    }
   ],
   "source": [
    "from sklearn.metrics.pairwise import cosine_similarity\n",
    "out1 = out1.cpu().detach().numpy()\n",
    "out2 = out2.cpu().detach().numpy()\n",
    "ret = cosine_similarity(out1, out2)\n",
    "print(len(ret), len(ret[0]))"
   ]
  },
  {
   "cell_type": "code",
   "execution_count": 38,
   "metadata": {},
   "outputs": [
    {
     "name": "stdout",
     "output_type": "stream",
     "text": [
      "0.98913157\n"
     ]
    }
   ],
   "source": [
    "print(ret[3][3])"
   ]
  },
  {
   "cell_type": "code",
   "execution_count": 24,
   "metadata": {},
   "outputs": [
    {
     "data": {
      "text/plain": [
       "<matplotlib.colorbar.Colorbar at 0x7f3ca1278d90>"
      ]
     },
     "execution_count": 24,
     "metadata": {},
     "output_type": "execute_result"
    },
    {
     "data": {
      "image/png": "[encoded data removed]",
      "text/plain": [
       "<Figure size 720x720 with 2 Axes>"
      ]
     },
     "metadata": {
      "needs_background": "light"
     },
     "output_type": "display_data"
    }
   ],
   "source": [
    "from matplotlib import pyplot as plt\n",
    "\n",
    "# plt.figure(figsize = (6, 6))\n",
    "plt.figure(figsize = (10, 10))\n",
    "\n",
    "\n",
    "x = np.arange(0, len(word_pieces2), 1)\n",
    "y = np.arange(0, len(word_pieces1), 1)\n",
    "plt.xticks(x, word_pieces2)\n",
    "plt.yticks(y, word_pieces1)\n",
    "\n",
    "# im = plt.imshow(ret,  interpolation='nearest', aspect='auto')\n",
    "im = plt.imshow(ret,  interpolation='nearest')\n",
    "plt.title(\"cosine_similarity of the latent_bert_vec of the input and predicted sentence\", pad=20)\n",
    "\n",
    "plt.clim(1.0,0.0)\n",
    "plt.colorbar(im, fraction=0.045, pad=0.04)\n",
    "\n",
    "# plt.savefig(fig_path, dpi=100, bbox_inches='tight')"
   ]
  },
  {
   "cell_type": "code",
   "execution_count": 70,
   "metadata": {
    "collapsed": true
   },
   "outputs": [
    {
     "name": "stdout",
     "output_type": "stream",
     "text": [
      "tensor([ 1329,  1654,  4750,  1525,  3094,  4137,  3283,  5494, 17573, 20211,\n",
      "         4282, 21689,  3244, 23487,  1221,  7290,  1243,  3857,  3689,  9703])\n"
     ]
    },
    {
     "data": {
      "text/plain": [
       "['use',\n",
       " 'control',\n",
       " 'hide',\n",
       " 'find',\n",
       " 'channel',\n",
       " 'explain',\n",
       " 'master',\n",
       " 'manage',\n",
       " 'utilize',\n",
       " 'harness',\n",
       " 'handle',\n",
       " 'conceal',\n",
       " 'protect',\n",
       " 'manifest',\n",
       " 'know',\n",
       " 'discover',\n",
       " 'get',\n",
       " 'lose',\n",
       " 'develop',\n",
       " 'acquire']"
      ]
     },
     "execution_count": 70,
     "metadata": {},
     "output_type": "execute_result"
    }
   ],
   "source": [
    "_, indices = torch.topk(probs1[4], 20)\n",
    "print(indices)\n",
    "dataset.tokenizer.convert_ids_to_tokens(list(indices.numpy()))"
   ]
  },
  {
   "cell_type": "code",
   "execution_count": 184,
   "metadata": {},
   "outputs": [
    {
     "name": "stdout",
     "output_type": "stream",
     "text": [
      "['[CLS]', 'Why', 'does', 'society', 'value', 'skinny', 'people', 'more', 'than', 'over', '##weight', 'people', '?', '[SEP]'] ['[CLS]', 'Why', 'do', 'people', 'prefer', 'skinny', 'than', 'others', '?', '[SEP]']\n",
      "torch.Size([14, 28996]) torch.Size([10, 28996])\n"
     ]
    }
   ],
   "source": [
    "# analyze the context embedding\n",
    "# s1 = \"How do I know my inner talent ?\"\n",
    "# s2 = \"How can I find my inner talent ?\"\n",
    "# fig_path = \"../../analysis/figs/cos_enc_1.png\"\n",
    "\n",
    "s1 = \"Why does society value skinny people more than overweight people ?\"\n",
    "s2 = \"Why do people prefer skinny than others ?\"\n",
    "fig_path = \"../../analysis/figs/cos_enc_2.png\"\n",
    "\n",
    "# s1 = \"How can I speak faster ?\"\n",
    "# s2 = \"How can I learn faster ?\"\n",
    "# fig_path = \"../../analysis/figs/cos_enc_3.png\"\n",
    "\n",
    "tokens1 = dataset.tokenizer.tokenize(s1)\n",
    "word_pieces1 =  [dataset.SOS_token] + tokens1 + [dataset.EOS_token]\n",
    "idxes1 = dataset.tokenizer.convert_tokens_to_ids(word_pieces1)\n",
    "\n",
    "tokens2 = dataset.tokenizer.tokenize(s2)\n",
    "word_pieces2 =  [dataset.SOS_token] + tokens2 + [dataset.EOS_token]\n",
    "idxes2 = dataset.tokenizer.convert_tokens_to_ids(word_pieces2)\n",
    "\n",
    "print(word_pieces1, word_pieces2)\n",
    "\n",
    "seq1 = torch.tensor(idxes1, dtype=torch.long)\n",
    "seq2 = torch.tensor(idxes2, dtype=torch.long)\n",
    "\n",
    "pred1 = dataset.get_mask_pred_probs(seq1)\n",
    "pred2 = dataset.get_mask_pred_probs(seq2)\n",
    "\n",
    "probs1 = dataset.get_stack_probs(pred1)\n",
    "probs2 = dataset.get_stack_probs(pred2)\n",
    "print(probs1.shape, probs2.shape)"
   ]
  },
  {
   "cell_type": "code",
   "execution_count": 185,
   "metadata": {},
   "outputs": [],
   "source": [
    "# output of encoder\n",
    "src_seq = seq1.reshape(1, -1).to(device)\n",
    "src_mask = get_pad_mask(src_seq, model.src_pad_idx)\n",
    "enc_output, enc_slf_attn_list = model.encoder(src_seq, src_mask, return_attns=True)\n",
    "enc_out1 = enc_output.reshape(len(seq1), -1)\n",
    "\n",
    "src_seq = seq2.reshape(1, -1).to(device)\n",
    "src_mask = get_pad_mask(src_seq, model.src_pad_idx)\n",
    "enc_output, enc_slf_attn_list = model.encoder(src_seq, src_mask, return_attns=True)\n",
    "enc_out2 = enc_output.reshape(len(seq2), -1)"
   ]
  },
  {
   "cell_type": "code",
   "execution_count": 186,
   "metadata": {},
   "outputs": [
    {
     "name": "stdout",
     "output_type": "stream",
     "text": [
      "14 10\n"
     ]
    }
   ],
   "source": [
    "out1 = enc_out1.cpu().detach().numpy()\n",
    "out2 = enc_out2.cpu().detach().numpy()\n",
    "ret = cosine_similarity(out1, out2)\n",
    "print(len(ret), len(ret[0]))"
   ]
  },
  {
   "cell_type": "code",
   "execution_count": 187,
   "metadata": {},
   "outputs": [
    {
     "data": {
      "image/png": "[encoded data removed]",
      "text/plain": [
       "<Figure size 720x432 with 2 Axes>"
      ]
     },
     "metadata": {
      "needs_background": "light"
     },
     "output_type": "display_data"
    }
   ],
   "source": [
    "plt.figure(figsize = (10, 6))\n",
    "\n",
    "x = np.arange(0, len(word_pieces2), 1)\n",
    "y = np.arange(0, len(word_pieces1), 1)\n",
    "plt.xticks(x, word_pieces2)\n",
    "plt.yticks(y, word_pieces1)\n",
    "\n",
    "im = plt.imshow(ret,  interpolation='nearest', aspect='auto')\n",
    "# im = plt.imshow(ret,  interpolation='nearest')\n",
    "plt.title(\"cosine_similarity of the encoder output of the input and predicted sentence\", pad=20)\n",
    "\n",
    "plt.clim(1.0,0.0)\n",
    "plt.colorbar(im, fraction=0.045, pad=0.04)\n",
    "\n",
    "plt.savefig(fig_path, dpi=100, bbox_inches='tight')"
   ]
  },
  {
   "cell_type": "code",
   "execution_count": null,
   "metadata": {},
   "outputs": [],
   "source": []
  }
 ],
 "metadata": {
  "kernelspec": {
   "display_name": "Python 3",
   "language": "python",
   "name": "python3"
  },
  "language_info": {
   "codemirror_mode": {
    "name": "ipython",
    "version": 3
   },
   "file_extension": ".py",
   "mimetype": "text/x-python",
   "name": "python",
   "nbconvert_exporter": "python",
   "pygments_lexer": "ipython3",
   "version": "3.7.9"
  }
 },
 "nbformat": 4,
 "nbformat_minor": 4
}
