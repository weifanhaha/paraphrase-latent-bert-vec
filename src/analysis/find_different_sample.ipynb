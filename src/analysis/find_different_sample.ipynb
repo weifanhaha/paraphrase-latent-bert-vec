{
 "cells": [
  {
   "cell_type": "code",
   "execution_count": 2,
   "metadata": {},
   "outputs": [],
   "source": [
    "import re\n",
    "import yaml\n",
    "\n"
   ]
  },
  {
   "cell_type": "code",
   "execution_count": 5,
   "metadata": {},
   "outputs": [],
   "source": [
    "# config_path = '../configs/base_transformer.yaml'\n",
    "# config_path = '../configs/dpng_transformer.yaml'\n",
    "# config_path = '../configs/dpng_transformer_bert_tokenizer_bow_indivtopk.yaml'\n",
    "# config_path =  '../configs/dpng_transformer_bert_tokenizer_bow_indivtopk_onlybow.yaml'\n",
    "# config_path = '../configs/dpng_transformer_bert_tokenizer_bow_indivtopk_replace.yaml'\n",
    "config_path = '../configs/dpng_transformer_bert_tokenizer_bow_indivtopk_replace_nopreprocess.yaml'"
   ]
  },
  {
   "cell_type": "code",
   "execution_count": 6,
   "metadata": {},
   "outputs": [
    {
     "name": "stdout",
     "output_type": "stream",
     "text": [
      "{'save_model_path': '../models/DNPG_base_transformer_bert_tokenizer_bert_bow_indivtopk_replace_nopreprocess.pth', 'log_file': '../logs/DNPG_base_transformer_bert_tokenizer_training_bert_bow_indiv_topk_replace_nopreprocess.txt', 'test_output_file': '../outputs/test_DNPG_transformer_bert_tokenizer_bow_indivtopk_replace_out_nopreprocess.txt', 'val_output_file': '../outputs/val_DNPG_transformer_bert_tokenizer_bow_indivtopk_replace_out_nopreprocess.txt', 'dataset': 'quora_bert_mask_predict_dataset', 'num_epochs': 50, 'batch_size': 100, 'd_model': 450, 'd_inner_hid': 512, 'd_k': 50, 'd_v': 50, 'n_head': 9, 'n_layers': 3, 'n_warmup_steps': 12000, 'dropout': 0.1, 'embs_share_weight': True, 'proj_share_weight': True, 'label_smoothing': False, 'train_size': 100000, 'val_size': 4000, 'test_size': 20000, 'is_bow': True, 'bow_strategy': 'indiv_topk', 'indiv_topk': 10, 'topk': 50, 'lr': '1e-3', 'only_bow': False, 'replace_predict': True}\n"
     ]
    }
   ],
   "source": [
    "with open(config_path) as f:\n",
    "    config = yaml.load(f, Loader=yaml.FullLoader)\n",
    "    print(config)\n",
    "\n",
    "prediction_path = config['test_output_file']\n",
    "eval_log_path = prediction_path.replace('outputs', 'scores')\n",
    "\n",
    "train_size = config['train_size']\n",
    "val_size = config['val_size']\n",
    "test_size = config['test_size']"
   ]
  },
  {
   "cell_type": "code",
   "execution_count": 7,
   "metadata": {},
   "outputs": [],
   "source": [
    "reference_path = '../data/quora_train.txt'"
   ]
  },
  {
   "cell_type": "code",
   "execution_count": 10,
   "metadata": {},
   "outputs": [],
   "source": [
    "prediction_text = open(prediction_path, 'r').readlines()\n",
    "source_text = [text.replace('Source: ', '').strip() for text in prediction_text if 'Source: ' in text]\n",
    "input_text = [text.replace('Input: ', '').strip() for text in prediction_text if 'Input: ' in text]\n"
   ]
  },
  {
   "cell_type": "code",
   "execution_count": 14,
   "metadata": {},
   "outputs": [
    {
     "name": "stdout",
     "output_type": "stream",
     "text": [
      "**********\n",
      "Source: What is the food you can eat every day for breakfast lunch and dinner ?\n",
      "Input: What is the food you can eat every day for breakfast , lunch and dinner ?  , dinner lunch breakfast for - supper and tea coffee all with that after or ? this bed dessert meals ; one : ... day at before about night every morning eat . week get is Where each evening year must find of have month you the afternoon cook Sunday\n",
      "**********\n",
      "Source: Which are best novels one should must read before die ?\n",
      "Input: Which are 10 best novels one should must read before die ?  really the one that what ? . read or write to before What and of ! you have person books dowords Where complete finish always probably these ; study I words never not ever enjoy those Which choose There are be after my we watch reader try questions reading\n",
      "**********\n",
      "Source: What will be your New Year s resolution for ?\n",
      "Input: What will be your New Year ' s resolution for 2017 ?  , ' ? - . : ! s This Eve Day this be New next will What would the become in for should shall ; could might Year Parliament a what of make Who Government your Where our Council How influence may Leader Next Party shape affect can York new\n",
      "**********\n",
      "Source: How do I tell a friend that his legs body stinks of bad odor without hurting his feelings ?\n",
      "Input: How do I tell a friend that his legs / body stinks of bad odor without hurting his feelings ?  my the his and ,s that your face her of our s a - .tin body is theirk mindks blood with how this head stomach abouttan from skin ? Howtun those not hurtingcor convince tell you can allking do ...pecpic\n",
      "**********\n",
      "Source: What is the best platform media source to learn digital marketing ?\n",
      "Input: What is the best platform / media / source to learn digital marketing ?  for technology about to media and - . in of from information tool platform the ? communication service resource channel brand is , What your / was Who best our ! Where ; you knowledge How sourcely literacy on a Which learning beally or makes right with do\n",
      "**********\n",
      "Source: How can the drive from Edmonton to Auckland be described and how do these cities attractions compare to those in Windsor ?\n",
      "Input: How can the drive from Edmonton to Auckland be described , and how do these cities ' attractions compare to those in Windsor ?  and to attractions the in for from Toronto or can Ottawa Vancouver . London Windsor how ? do How will does those should with could of would cities through did Calgary around into may Sydney towards Edmonton , Montreal Winnipeg via ; what compare toward one be then our ...\n",
      "**********\n",
      "Source: What role does a father play in a child s life ?\n",
      "Input: What role does a father play in a child ' s life ?  the . a ? play s child his woman person mother ' man this family their our in her What , role : does part could - did \" would have can life what should must girl ! might on Which roles daughter take that son will d hold development\n",
      "**********\n",
      "Source: Super Smash Bros . Brawl What is the best strategy against Sheik ?\n",
      "Input: Super Smash Bros . Brawl : What is the best strategy against Sheik ?  . ? ! T Super :l ... , Sling Graw Bdmash VS game C theuria Bros is -lerslern vs Sc and What yourls wasB K Nintendowitch Chur ourikelotridashoutsT s\n",
      "**********\n",
      "Source: What opportunities exist after completing a B .Tech in mechanical engineering ?\n",
      "Input: What opportunities exist after completing a B . Tech in mechanical engineering ?  . for in ? M of ; C - B with ! ... engineering , : Sc S a earning getting the Tech What electrical receiving to mechanical would completing exist will obtaining after design his A E chemical civil T before could technology 3 arise BS beyond Engineering existed\n",
      "**********\n",
      "Source: Will the value of Indian rupee increase after the ban of and rupee notes ?\n",
      "Input: Will the value of Indian rupee increase after the ban of 500 and 1000 rupee notes ? upe the re of 1000 R 500 100es to fromudiaisupavan this l onR 800 2000 50 200 3000 a inn - with k car for ja ttr prices coins peri ? and its , each or . rise increase\n",
      "**********\n",
      "Source: If you recall your memory to the best you can what is the oldest memory of your life ? i .e What is the first memory in your life ?\n",
      "Input: If you recall your memory to the best you can , what is the oldest memory of your life ? i . e What is the first memory in your life ?  . the your , this you that my of a : memory time about ? life in best ; our one is their - earliest remember greatest what ... childhood I for day first was moment it to What last they we ) memories recall Is When from e !\n"
     ]
    }
   ],
   "source": [
    "count = 0\n",
    "for source, input in zip(source_text, input_text):\n",
    "    if source not in input:\n",
    "        print(\"**********\")\n",
    "        print(\"Source: {}\".format(source))\n",
    "        print(\"Input: {}\".format(input))\n",
    "        count += 1\n",
    "    \n",
    "    if count > 10:\n",
    "        break\n",
    "\n"
   ]
  },
  {
   "cell_type": "code",
   "execution_count": null,
   "metadata": {},
   "outputs": [],
   "source": []
  }
 ],
 "metadata": {
  "kernelspec": {
   "display_name": "Python 3",
   "language": "python",
   "name": "python3"
  },
  "language_info": {
   "codemirror_mode": {
    "name": "ipython",
    "version": 3
   },
   "file_extension": ".py",
   "mimetype": "text/x-python",
   "name": "python",
   "nbconvert_exporter": "python",
   "pygments_lexer": "ipython3",
   "version": "3.7.9"
  }
 },
 "nbformat": 4,
 "nbformat_minor": 4
}
