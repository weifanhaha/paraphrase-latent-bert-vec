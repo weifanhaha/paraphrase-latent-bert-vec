{
 "cells": [
  {
   "cell_type": "code",
   "execution_count": 45,
   "metadata": {},
   "outputs": [],
   "source": [
    "from nltk.translate.bleu_score import corpus_bleu\n",
    "from nltk.translate.bleu_score import sentence_bleu\n",
    "from bert_score import score as bscore\n",
    "import rouge\n",
    "from argparse import ArgumentParser\n",
    "import yaml\n",
    "import re\n",
    "import torch\n",
    "from sklearn.metrics.pairwise import cosine_similarity as cos_sim\n",
    "from sentence_transformers import SentenceTransformer\n",
    "\n",
    "# to do : evaluate with ibleu"
   ]
  },
  {
   "cell_type": "code",
   "execution_count": null,
   "metadata": {},
   "outputs": [],
   "source": [
    "parser = ArgumentParser()\n",
    "parser.add_argument(\"--config_path\", dest=\"config_path\",\n",
    "                    default='../configs/dpng_transformer_bert_tokenizer_bow_indivtopk.yaml')\n",
    "\n",
    "args = parser.parse_args()\n",
    "config_path = args.config_path\n",
    "print(\"config_path:\", config_path)\n"
   ]
  },
  {
   "cell_type": "code",
   "execution_count": 22,
   "metadata": {},
   "outputs": [],
   "source": [
    "# config_path = '../configs/base_transformer.yaml'\n",
    "# config_path = '../configs/dpng_transformer.yaml'\n",
    "# config_path = '../configs/dpng_transformer_bert_tokenizer_bow_indivtopk.yaml'\n",
    "# config_path =  '../configs/dpng_transformer_bert_tokenizer_bow_indivtopk_onlybow.yaml'\n",
    "config_path = '../configs/dpng_transformer_bert_attention.yaml'\n",
    "\n"
   ]
  },
  {
   "cell_type": "code",
   "execution_count": 23,
   "metadata": {},
   "outputs": [
    {
     "name": "stdout",
     "output_type": "stream",
     "text": [
      "{'save_model_path': '../models/transformer_bert_enc_attention.pth', 'log_file': '../logs/transformer_bert_enc_attention.txt', 'test_output_file': '../outputs/test_transformer_bert_enc_attention.txt', 'val_output_file': '../outputs/val_transformer_bert_enc_attention.txt', 'preprocessed_folder': '../data/preprocess_quora_bert_mask_predict/', 'dataset': 'quora_bert_dataset', 'num_epochs': 50, 'batch_size': 100, 'd_model': 450, 'd_inner_hid': 512, 'd_k': 50, 'd_v': 50, 'n_head': 9, 'n_layers': 3, 'n_warmup_steps': 12000, 'dropout': 0.1, 'embs_share_weight': True, 'proj_share_weight': True, 'label_smoothing': False, 'train_size': 100000, 'val_size': 4000, 'test_size': 20000, 'is_bow': False, 'lr': '1e-3'}\n"
     ]
    }
   ],
   "source": [
    "with open(config_path) as f:\n",
    "    config = yaml.load(f, Loader=yaml.FullLoader)\n",
    "    print(config)    \n",
    "    \n",
    "prediction_path = config['test_output_file']\n",
    "eval_log_path = prediction_path.replace('outputs', 'scores')\n",
    "\n",
    "train_size = config['train_size']\n",
    "val_size = config['val_size']\n",
    "test_size = config['test_size']\n",
    "\n"
   ]
  },
  {
   "cell_type": "code",
   "execution_count": 24,
   "metadata": {},
   "outputs": [],
   "source": [
    "# for bert attention experiments\n",
    "# prediction_path = '../outputs/tune/transformer_key_enc_bert_val_attention_alpha0.5.txt'\n",
    "eval_log_path = prediction_path.replace('outputs', 'scores')"
   ]
  },
  {
   "cell_type": "code",
   "execution_count": 25,
   "metadata": {},
   "outputs": [],
   "source": [
    "reference_path = '../data/quora_train.txt'"
   ]
  },
  {
   "cell_type": "code",
   "execution_count": 6,
   "metadata": {},
   "outputs": [],
   "source": [
    "##### Arguments #####\n",
    "# Arguments of DNPG\n",
    "\n",
    "# train_size = 100000\n",
    "# val_size = 4000\n",
    "# test_size = 20000\n",
    "\n",
    "# prediction_path = '../outputs/test_DNPG_transformer_out.txt'\n",
    "# eval_log_path = '../scores/test_DNPG_transformer_out.txt'\n",
    "\n",
    "# prediction_path = '../outputs/test_DNPG_transformer_bert_tokenizer_out.txt'\n",
    "# eval_log_path = '../scores/test_DNPG_transformer_bert_tokenizer_out.txt'\n",
    "\n",
    "# prediction_path = '../outputs/test_DNPG_transformer_bert_tokenizer_bow_out.txt'\n",
    "# eval_log_path = '../scores/test_DNPG_transformer_bert_tokenizer_bow_out.txt'\n",
    "\n",
    "# prediction_path = '../outputs/test_DNPG_transformer_bert_tokenizer_bow_indivtopk_out.txt'\n",
    "# eval_log_path = '../scores/test_DNPG_transformer_bert_tokenizer_bow_indivtop_out.txt'\n",
    "\n",
    "###################"
   ]
  },
  {
   "cell_type": "code",
   "execution_count": 26,
   "metadata": {},
   "outputs": [],
   "source": [
    "# read reference sentence and prediction sentence\n",
    "reference_text = open(reference_path, 'r').readlines()\n",
    "reference_text = reference_text[train_size+val_size:train_size+val_size+test_size]\n",
    "reference_text = [text.strip().split('\\t')[1] for text in reference_text]\n",
    "\n",
    "# normalize reference corpus , eg: seperate question mark , remove '(' ,')' etc\n",
    "reference_text = [re.sub(r\"([.!?])\", r\" \\1\", seq) for seq in reference_text]\n",
    "reference_text = [text.lower() for text in reference_text]\n",
    "# reference_text = [re.sub(r\"[^a-zA-Z.!?]+\", r\" \", seq) for seq in reference_text]\n",
    "reference_corpus = [[text.split()] for text in reference_text]"
   ]
  },
  {
   "cell_type": "code",
   "execution_count": 27,
   "metadata": {},
   "outputs": [],
   "source": [
    "prediction_text = open(prediction_path, 'r').readlines()\n",
    "prediction_text = [text.replace('Predict: ', '').strip().lower() for text in prediction_text if 'Predict: ' in text]\n",
    "prediction_corpus = [text.split() for text in prediction_text]"
   ]
  },
  {
   "cell_type": "code",
   "execution_count": 28,
   "metadata": {},
   "outputs": [
    {
     "name": "stdout",
     "output_type": "stream",
     "text": [
      "is it healthy to eat fish every day ? what are some good side dishes for a healthy time ? ['what', 'are', 'some', 'good', 'side', 'dishes', 'for', 'a', 'healthy', 'time', '?']\n"
     ]
    }
   ],
   "source": [
    "print(reference_text[0], prediction_text[0], prediction_corpus[0])"
   ]
  },
  {
   "cell_type": "code",
   "execution_count": 29,
   "metadata": {
    "scrolled": true
   },
   "outputs": [
    {
     "name": "stdout",
     "output_type": "stream",
     "text": [
      "20000\n",
      "20000\n"
     ]
    }
   ],
   "source": [
    "print(len(reference_text))\n",
    "print(len(prediction_text))"
   ]
  },
  {
   "cell_type": "code",
   "execution_count": 44,
   "metadata": {},
   "outputs": [],
   "source": [
    "# i = 15\n",
    "# print(reference_corpus[i])\n",
    "# print(prediction_corpus[i])\n",
    "# # sentence_bleu(reference_corpus[i], prediction_corpus[i], weights=(0.33, 0.33, 0.34, 0))\n",
    "# sentence_bleu(reference_corpus[i], prediction_corpus[i], weights=(0.25, 0.25, 0.25, 0.25))\n",
    "\n",
    "# # r = [['Why', 'is', 'chemistry', 'so', 'boring', '?']]\n",
    "# # p = ['Why', 'is', 'chemistry', 'so', 'boring', '?']\n",
    "# # sentence_bleu(r, p, weights=(0.25, 0.25, 0.25, 0.25))"
   ]
  },
  {
   "cell_type": "code",
   "execution_count": 77,
   "metadata": {
    "scrolled": true
   },
   "outputs": [],
   "source": [
    "# print(reference_corpus[:6])\n",
    "# print(prediction_corpus[:6])"
   ]
  },
  {
   "cell_type": "code",
   "execution_count": 57,
   "metadata": {
    "scrolled": true
   },
   "outputs": [
    {
     "name": "stdout",
     "output_type": "stream",
     "text": [
      "[Info] Calculating BLEU 1...\n",
      "[Info] Calculating BLEU 2...\n",
      "[Info] Calculating BLEU 3...\n",
      "[Info] Calculating BLEU 4...\n",
      "[Info] Done\n"
     ]
    }
   ],
   "source": [
    "print(\"[Info] Calculating BLEU 1...\")\n",
    "bleu1 = corpus_bleu(reference_corpus, prediction_corpus, weights=(1, 0, 0, 0))\n",
    "print(\"[Info] Calculating BLEU 2...\")\n",
    "bleu2 = corpus_bleu(reference_corpus, prediction_corpus, weights=(0.5, 0.5, 0, 0))\n",
    "print(\"[Info] Calculating BLEU 3...\")\n",
    "bleu3 = corpus_bleu(reference_corpus, prediction_corpus, weights=(0.33, 0.33, 0.34, 0))\n",
    "print(\"[Info] Calculating BLEU 4...\")\n",
    "bleu4 = corpus_bleu(reference_corpus, prediction_corpus, weights=(0.25, 0.25, 0.25, 0.25))\n",
    "print(\"[Info] Done\")"
   ]
  },
  {
   "cell_type": "code",
   "execution_count": 58,
   "metadata": {},
   "outputs": [
    {
     "name": "stdout",
     "output_type": "stream",
     "text": [
      "[Info] BLEU1 Score: 0.4515410119541843\n",
      "[Info] BLEU2 Score: 0.3122080569065922\n",
      "[Info] BLEU3 Score: 0.2315023877412737\n",
      "[Info] BLEU4 Score: 0.17811518172449067\n"
     ]
    }
   ],
   "source": [
    "print(\"[Info] BLEU1 Score: {}\".format(bleu1))\n",
    "print(\"[Info] BLEU2 Score: {}\".format(bleu2))\n",
    "print(\"[Info] BLEU3 Score: {}\".format(bleu3))\n",
    "print(\"[Info] BLEU4 Score: {}\".format(bleu4))"
   ]
  },
  {
   "cell_type": "code",
   "execution_count": 68,
   "metadata": {},
   "outputs": [],
   "source": [
    "rouge_evaluator = rouge.Rouge(metrics=['rouge-n', 'rouge-l'], max_n=2)\n",
    "rouge_scores = rouge_evaluator.get_scores(prediction_text, reference_text)"
   ]
  },
  {
   "cell_type": "code",
   "execution_count": 69,
   "metadata": {},
   "outputs": [
    {
     "name": "stdout",
     "output_type": "stream",
     "text": [
      "[Info] Rouge 1 score: 0.451004937367961\n",
      "[Info] Rouge 2 score: 0.2397663124055765\n",
      "[Info] Rouge l score: 0.4357079379192744\n"
     ]
    }
   ],
   "source": [
    "print(\"[Info] Rouge 1 score: {}\".format(rouge_scores[\"rouge-1\"][\"f\"]))\n",
    "print(\"[Info] Rouge 2 score: {}\".format(rouge_scores[\"rouge-2\"][\"f\"]))\n",
    "print(\"[Info] Rouge l score: {}\".format(rouge_scores[\"rouge-l\"][\"f\"]))\n"
   ]
  },
  {
   "cell_type": "code",
   "execution_count": null,
   "metadata": {},
   "outputs": [],
   "source": [
    "# rouge\n",
    "# lower\n",
    "# [Info] Rouge 1 score: 0.451004937367961\n",
    "# [Info] Rouge 2 score: 0.2397663124055765\n",
    "# [Info] Rouge l score: 0.4357079379192744\n",
    "\n",
    "# not lower"
   ]
  },
  {
   "cell_type": "code",
   "execution_count": 16,
   "metadata": {},
   "outputs": [],
   "source": [
    "# save to file\n",
    "f = open(eval_log_path, 'w')\n",
    "f.write(\"[Info] BLEU1 Score: {}\\n\".format(bleu1))\n",
    "f.write(\"[Info] BLEU2 Score: {}\\n\".format(bleu2))\n",
    "f.write(\"[Info] BLEU3 Score: {}\\n\".format(bleu3))\n",
    "f.write(\"[Info] BLEU4 Score: {}\\n\".format(bleu4))\n",
    "\n",
    "f.write(\"\\n\\n[Info] Rouge 1 score: {}\\n\".format(rouge_scores[\"rouge-1\"][\"f\"]))\n",
    "f.write(\"[Info] Rouge 2 score: {}\\n\".format(rouge_scores[\"rouge-2\"][\"f\"]))\n",
    "f.write(\"[Info] Rouge l score: {}\\n\".format(rouge_scores[\"rouge-l\"][\"f\"]))\n",
    "\n",
    "f.close()"
   ]
  },
  {
   "cell_type": "code",
   "execution_count": 9,
   "metadata": {},
   "outputs": [],
   "source": [
    "device = \"cuda:0\" if torch.cuda.is_available() else \"cpu\""
   ]
  },
  {
   "cell_type": "code",
   "execution_count": 10,
   "metadata": {},
   "outputs": [
    {
     "name": "stdout",
     "output_type": "stream",
     "text": [
      "['is it healthy to eat fish every day ?', 'how do we write the exam ?'] ['what are some good side dishes for a healthy time ?', 'what are some good ways to improve my concentration ?']\n"
     ]
    }
   ],
   "source": [
    "print(reference_text[:2], prediction_text[:2])"
   ]
  },
  {
   "cell_type": "code",
   "execution_count": 15,
   "metadata": {},
   "outputs": [
    {
     "name": "stdout",
     "output_type": "stream",
     "text": [
      "calculating scores...\n",
      "computing bert embedding.\n"
     ]
    },
    {
     "data": {
      "application/vnd.jupyter.widget-view+json": {
       "model_id": "431491ae37a147a384dde096dce5d1db",
       "version_major": 2,
       "version_minor": 0
      },
      "text/plain": [
       "HBox(children=(HTML(value=''), FloatProgress(value=0.0, max=468.0), HTML(value='')))"
      ]
     },
     "metadata": {},
     "output_type": "display_data"
    },
    {
     "name": "stdout",
     "output_type": "stream",
     "text": [
      "\n",
      "computing greedy matching.\n"
     ]
    },
    {
     "data": {
      "application/vnd.jupyter.widget-view+json": {
       "model_id": "578c72c749c04338bdf2cbdad33a33aa",
       "version_major": 2,
       "version_minor": 0
      },
      "text/plain": [
       "HBox(children=(HTML(value=''), FloatProgress(value=0.0, max=313.0), HTML(value='')))"
      ]
     },
     "metadata": {},
     "output_type": "display_data"
    },
    {
     "name": "stdout",
     "output_type": "stream",
     "text": [
      "\n",
      "done in 42.46 seconds, 470.98 sentences/sec\n"
     ]
    }
   ],
   "source": [
    "P, R, F1 = bscore(prediction_text, reference_text, lang=\"en\", model_type=\"bert-base-uncased\", device=device, verbose=True)"
   ]
  },
  {
   "cell_type": "code",
   "execution_count": 20,
   "metadata": {},
   "outputs": [
    {
     "name": "stdout",
     "output_type": "stream",
     "text": [
      "0.6827602386474609\n"
     ]
    }
   ],
   "source": [
    "print(F1.mean().item())"
   ]
  },
  {
   "cell_type": "code",
   "execution_count": 30,
   "metadata": {
    "collapsed": true
   },
   "outputs": [
    {
     "data": {
      "application/vnd.jupyter.widget-view+json": {
       "model_id": "5a64da75541f4ae987bc27e1eb12736b",
       "version_major": 2,
       "version_minor": 0
      },
      "text/plain": [
       "HBox(children=(HTML(value='Downloading'), FloatProgress(value=0.0, max=391.0), HTML(value='')))"
      ]
     },
     "metadata": {},
     "output_type": "display_data"
    },
    {
     "name": "stdout",
     "output_type": "stream",
     "text": [
      "\n"
     ]
    },
    {
     "data": {
      "application/vnd.jupyter.widget-view+json": {
       "model_id": "18032f017a1c43e09383d4c870a614bf",
       "version_major": 2,
       "version_minor": 0
      },
      "text/plain": [
       "HBox(children=(HTML(value='Downloading'), FloatProgress(value=0.0, max=3931.0), HTML(value='')))"
      ]
     },
     "metadata": {},
     "output_type": "display_data"
    },
    {
     "name": "stdout",
     "output_type": "stream",
     "text": [
      "\n"
     ]
    },
    {
     "data": {
      "application/vnd.jupyter.widget-view+json": {
       "model_id": "963d9e3362304222b60bcec5f5ed5ec2",
       "version_major": 2,
       "version_minor": 0
      },
      "text/plain": [
       "HBox(children=(HTML(value='Downloading'), FloatProgress(value=0.0, max=2.0), HTML(value='')))"
      ]
     },
     "metadata": {},
     "output_type": "display_data"
    },
    {
     "name": "stdout",
     "output_type": "stream",
     "text": [
      "\n"
     ]
    },
    {
     "data": {
      "application/vnd.jupyter.widget-view+json": {
       "model_id": "ba424dd499d647f2a261c8a22c27dc15",
       "version_major": 2,
       "version_minor": 0
      },
      "text/plain": [
       "HBox(children=(HTML(value='Downloading'), FloatProgress(value=0.0, max=625.0), HTML(value='')))"
      ]
     },
     "metadata": {},
     "output_type": "display_data"
    },
    {
     "name": "stdout",
     "output_type": "stream",
     "text": [
      "\n"
     ]
    },
    {
     "data": {
      "application/vnd.jupyter.widget-view+json": {
       "model_id": "4b50c972cafe4bdca5472bf30762dd49",
       "version_major": 2,
       "version_minor": 0
      },
      "text/plain": [
       "HBox(children=(HTML(value='Downloading'), FloatProgress(value=0.0, max=122.0), HTML(value='')))"
      ]
     },
     "metadata": {},
     "output_type": "display_data"
    },
    {
     "name": "stdout",
     "output_type": "stream",
     "text": [
      "\n"
     ]
    },
    {
     "data": {
      "application/vnd.jupyter.widget-view+json": {
       "model_id": "4d309b611b044dcca282cb30eeb5b9ad",
       "version_major": 2,
       "version_minor": 0
      },
      "text/plain": [
       "HBox(children=(HTML(value='Downloading'), FloatProgress(value=0.0, max=229.0), HTML(value='')))"
      ]
     },
     "metadata": {},
     "output_type": "display_data"
    },
    {
     "name": "stdout",
     "output_type": "stream",
     "text": [
      "\n"
     ]
    },
    {
     "data": {
      "application/vnd.jupyter.widget-view+json": {
       "model_id": "89c673f62b2247fe8100a5b28178b513",
       "version_major": 2,
       "version_minor": 0
      },
      "text/plain": [
       "HBox(children=(HTML(value='Downloading'), FloatProgress(value=0.0, max=438007537.0), HTML(value='')))"
      ]
     },
     "metadata": {},
     "output_type": "display_data"
    },
    {
     "name": "stdout",
     "output_type": "stream",
     "text": [
      "\n"
     ]
    },
    {
     "data": {
      "application/vnd.jupyter.widget-view+json": {
       "model_id": "dbb1fb80ae3846a796c041266eab18b4",
       "version_major": 2,
       "version_minor": 0
      },
      "text/plain": [
       "HBox(children=(HTML(value='Downloading'), FloatProgress(value=0.0, max=53.0), HTML(value='')))"
      ]
     },
     "metadata": {},
     "output_type": "display_data"
    },
    {
     "name": "stdout",
     "output_type": "stream",
     "text": [
      "\n"
     ]
    },
    {
     "data": {
      "application/vnd.jupyter.widget-view+json": {
       "model_id": "c975f64284aa489b8f212521008ee744",
       "version_major": 2,
       "version_minor": 0
      },
      "text/plain": [
       "HBox(children=(HTML(value='Downloading'), FloatProgress(value=0.0, max=112.0), HTML(value='')))"
      ]
     },
     "metadata": {},
     "output_type": "display_data"
    },
    {
     "name": "stdout",
     "output_type": "stream",
     "text": [
      "\n"
     ]
    },
    {
     "data": {
      "application/vnd.jupyter.widget-view+json": {
       "model_id": "753856e569044a81aac9c134324ce814",
       "version_major": 2,
       "version_minor": 0
      },
      "text/plain": [
       "HBox(children=(HTML(value='Downloading'), FloatProgress(value=0.0, max=466081.0), HTML(value='')))"
      ]
     },
     "metadata": {},
     "output_type": "display_data"
    },
    {
     "name": "stdout",
     "output_type": "stream",
     "text": [
      "\n"
     ]
    },
    {
     "data": {
      "application/vnd.jupyter.widget-view+json": {
       "model_id": "c337d270dcdf47be9b791056f8f3d7f2",
       "version_major": 2,
       "version_minor": 0
      },
      "text/plain": [
       "HBox(children=(HTML(value='Downloading'), FloatProgress(value=0.0, max=399.0), HTML(value='')))"
      ]
     },
     "metadata": {},
     "output_type": "display_data"
    },
    {
     "name": "stdout",
     "output_type": "stream",
     "text": [
      "\n"
     ]
    },
    {
     "data": {
      "application/vnd.jupyter.widget-view+json": {
       "model_id": "c9859146ee134d4ebea9d7b27e3f5d5b",
       "version_major": 2,
       "version_minor": 0
      },
      "text/plain": [
       "HBox(children=(HTML(value='Downloading'), FloatProgress(value=0.0, max=231508.0), HTML(value='')))"
      ]
     },
     "metadata": {},
     "output_type": "display_data"
    },
    {
     "name": "stdout",
     "output_type": "stream",
     "text": [
      "\n"
     ]
    },
    {
     "data": {
      "application/vnd.jupyter.widget-view+json": {
       "model_id": "23df7def7248435c86cd30b119f849dd",
       "version_major": 2,
       "version_minor": 0
      },
      "text/plain": [
       "HBox(children=(HTML(value='Downloading'), FloatProgress(value=0.0, max=190.0), HTML(value='')))"
      ]
     },
     "metadata": {},
     "output_type": "display_data"
    },
    {
     "name": "stdout",
     "output_type": "stream",
     "text": [
      "\n"
     ]
    }
   ],
   "source": [
    "model = SentenceTransformer('sentence-transformers/bert-base-nli-mean-tokens')"
   ]
  },
  {
   "cell_type": "code",
   "execution_count": 46,
   "metadata": {},
   "outputs": [],
   "source": [
    "pred_embeddings = model.encode(prediction_text)\n",
    "ref_embeddings = model.encode(reference_text)"
   ]
  },
  {
   "cell_type": "code",
   "execution_count": 47,
   "metadata": {},
   "outputs": [],
   "source": [
    "bertcs = []"
   ]
  },
  {
   "cell_type": "code",
   "execution_count": 48,
   "metadata": {},
   "outputs": [],
   "source": [
    "for pred_emb, ref_emb in zip(pred_embeddings, ref_embeddings):\n",
    "    sim = cos_sim(pred_emb.reshape(1, -1), ref_emb.reshape(1, -1))\n",
    "    bertcs.append(sim[0][0])"
   ]
  },
  {
   "cell_type": "code",
   "execution_count": 51,
   "metadata": {},
   "outputs": [
    {
     "data": {
      "text/plain": [
       "0.7037093"
      ]
     },
     "execution_count": 51,
     "metadata": {},
     "output_type": "execute_result"
    }
   ],
   "source": [
    "import numpy as np\n",
    "np.mean(bertcs)"
   ]
  },
  {
   "cell_type": "code",
   "execution_count": null,
   "metadata": {},
   "outputs": [],
   "source": []
  }
 ],
 "metadata": {
  "kernelspec": {
   "display_name": "Python 3",
   "language": "python",
   "name": "python3"
  },
  "language_info": {
   "codemirror_mode": {
    "name": "ipython",
    "version": 3
   },
   "file_extension": ".py",
   "mimetype": "text/x-python",
   "name": "python",
   "nbconvert_exporter": "python",
   "pygments_lexer": "ipython3",
   "version": "3.7.9"
  }
 },
 "nbformat": 4,
 "nbformat_minor": 4
}
