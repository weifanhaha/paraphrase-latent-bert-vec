{
 "cells": [
  {
   "cell_type": "code",
   "execution_count": 2,
   "metadata": {},
   "outputs": [],
   "source": [
    "import torch\n",
    "from torch.nn.utils.rnn import pad_sequence\n",
    "from torch.utils.data import Dataset\n",
    "from torch.utils.data import DataLoader\n",
    "from tqdm import tqdm\n",
    "import re\n",
    "import numpy as np"
   ]
  },
  {
   "cell_type": "code",
   "execution_count": 3,
   "metadata": {},
   "outputs": [],
   "source": [
    "class QuoraDataset(Dataset):\n",
    "    def __init__(self, mode, train_size=5000, val_size=1000, test_size=1000, text_path='../data/quora_train.txt', \n",
    "                 dic_sentences_num=150000, load_dic=True):\n",
    "        assert mode in [\"train\", \"val\", \"test\"]\n",
    "        self.mode = mode\n",
    "        self.train_size = train_size\n",
    "        self.val_size = val_size\n",
    "        self.test_size = test_size\n",
    "        self.sentences = []\n",
    "\n",
    "        self._init_constants()\n",
    "        self._init_sentences(text_path)\n",
    "        self.word2idx, self.idx2word = QuoraDataset.build_dictionary(\n",
    "            text_path=text_path, sentences_num=dic_sentences_num, load_dic=load_dic\n",
    "        )\n",
    "        self.n_words = len(self.word2idx)\n",
    "\n",
    "    def __getitem__(self, idx):\n",
    "        seq1, seq2 = self.sentences[idx]\n",
    "        \n",
    "        idxes1 = [self._get_index(word) for word in seq1.split(' ')]\n",
    "        idxes1 = [self.SOS_token_id] + idxes1 + [self.EOS_token_id]\n",
    "        \n",
    "        idxes2 = [self._get_index(word) for word in seq2.split(' ')]\n",
    "        idxes2 = [self.SOS_token_id] + idxes2 + [self.EOS_token_id]\n",
    "\n",
    "        seq1_tensor = torch.tensor(idxes1, dtype=torch.long)        \n",
    "        seq2_tensor = torch.tensor(idxes2, dtype=torch.long)\n",
    "        \n",
    "        return (seq1_tensor, seq2_tensor)\n",
    "\n",
    "    def __len__(self):\n",
    "        if self.mode == 'train':\n",
    "            return self.train_size\n",
    "        elif self.mode == 'val':\n",
    "            return self.val_size\n",
    "        else:\n",
    "            return self.test_size\n",
    "    \n",
    "    def _get_index(self, word):\n",
    "        try: \n",
    "            index = self.word2idx[word]\n",
    "        except KeyError:\n",
    "            index = self.UNK_token_id\n",
    "        return index\n",
    "\n",
    "    def _init_constants(self):\n",
    "        self.PAD_token = '<PAD>'\n",
    "        self.SOS_token = '<SOS>'\n",
    "        self.EOS_token = '<EOS>'\n",
    "        self.UNK_token = '<UNK>'\n",
    "        self.PAD_token_id = 0\n",
    "        self.SOS_token_id = 1\n",
    "        self.EOS_token_id = 2\n",
    "        self.UNK_token_id = 3\n",
    "    \n",
    "    def _init_sentences(self, text_path):\n",
    "        f = open(text_path, 'r')\n",
    "        lines = f.readlines()\n",
    "        # shuffle\n",
    "        np.random.shuffle(lines)\n",
    "        if self.mode == \"train\":\n",
    "            lines = lines[:self.train_size]\n",
    "        elif self.mode == 'val':\n",
    "            lines = lines[self.train_size:self.train_size+self.val_size]\n",
    "        else:\n",
    "            lines = lines[self.train_size+self.val_size:self.train_size+self.val_size+self.test_size]\n",
    "        \n",
    "        def normalize_sentence(s):\n",
    "            s = re.sub(r\"([.!?])\", r\" \\1\", s)\n",
    "            s = re.sub(r\"[^a-zA-Z.!?]+\", r\" \", s)\n",
    "            s = s.lower()\n",
    "\n",
    "            return s\n",
    "\n",
    "        for line in tqdm(lines):\n",
    "            seq1, seq2 = [normalize_sentence(seq) for seq in line.split('\\t')]\n",
    "            self.sentences.append((seq1, seq2))\n",
    "\n",
    "    @staticmethod\n",
    "    def build_dictionary(\n",
    "        sentences_num=10000, text_path='../data/quora_train.txt', \n",
    "        word2idx_path='../data/word2idx.npy', idx2word_path='../data/idx2word_path.npy', load_dic=True\n",
    "    ):\n",
    "        if (load_dic):\n",
    "            try:\n",
    "                print(\"[Info] Loading the Dictionary...\")\n",
    "                word2idx = np.load(word2idx_path, allow_pickle=True).item()\n",
    "                idx2word = np.load(idx2word_path, allow_pickle=True).item()\n",
    "                print(\"[Info] Dictionary Loaded\")\n",
    "                return word2idx, idx2word\n",
    "            except FileNotFoundError :\n",
    "                print(\"[Info] Saved dictionary not found. Initialize the Dictionary...\")\n",
    "\n",
    "        # init constances\n",
    "        PAD_token = '<PAD>'\n",
    "        SOS_token = '<SOS>'\n",
    "        EOS_token = '<EOS>'\n",
    "        UNK_token = '<UNK>'\n",
    "        PAD_token_id = 0\n",
    "        SOS_token_id = 1\n",
    "        EOS_token_id = 2\n",
    "        UNK_token_id = 3\n",
    "        \n",
    "        # init dictionary\n",
    "        word2idx = {\n",
    "            SOS_token: SOS_token_id, \n",
    "            EOS_token: EOS_token_id,\n",
    "            PAD_token: PAD_token_id,\n",
    "            UNK_token: UNK_token_id\n",
    "        }\n",
    "        idx2word = {\n",
    "            SOS_token_id: SOS_token, \n",
    "            EOS_token_id: EOS_token,\n",
    "            PAD_token_id: PAD_token,\n",
    "            UNK_token_id: UNK_token\n",
    "        }\n",
    "        word2count = {}\n",
    "        n_words = 4 \n",
    "\n",
    "        # add words to dictionary\n",
    "        f = open(text_path, 'r')\n",
    "        lines = f.readlines()\n",
    "        lines = lines[:sentences_num]\n",
    "\n",
    "        def normalize_sentence(s):\n",
    "            s = re.sub(r\"([.!?])\", r\" \\1\", s)\n",
    "            s = re.sub(r\"[^a-zA-Z.!?]+\", r\" \", s)\n",
    "            s = s.lower()\n",
    "            return s\n",
    "\n",
    "        for line in tqdm(lines):\n",
    "            seq1, seq2 = [normalize_sentence(seq) for seq in line.split('\\t')]\n",
    "            for word in seq1.split(' ') + seq2.split(' '):\n",
    "                if word not in word2idx:\n",
    "                    word2idx[word] = n_words\n",
    "                    word2count[word] = 1\n",
    "                    idx2word[n_words] = word\n",
    "                    n_words += 1\n",
    "                else:\n",
    "                    word2count[word] += 1\n",
    "\n",
    "        np.save(word2idx_path, word2idx)\n",
    "        np.save(idx2word_path, idx2word)\n",
    "        print(\"[Info] Saved the dictionary\")\n",
    "        return word2idx, idx2word\n",
    "        \n",
    "        "
   ]
  },
  {
   "cell_type": "code",
   "execution_count": 3,
   "metadata": {
    "scrolled": true
   },
   "outputs": [],
   "source": [
    "# word2idx, idx2word = QuoraDataset.build_dictionary(sentences_num=100000, load_dic=False)"
   ]
  },
  {
   "cell_type": "code",
   "execution_count": 4,
   "metadata": {},
   "outputs": [],
   "source": [
    "# def create_mini_batch(samples):\n",
    "#     seq1_tensors = [s[0] for s in samples]\n",
    "#     seq2_tensors = [s[1] for s in samples]\n",
    "\n",
    "#     # zero pad\n",
    "#     seq1_tensors = pad_sequence(seq1_tensors,\n",
    "#                                   batch_first=True)\n",
    "\n",
    "#     seq2_tensors = pad_sequence(seq2_tensors,\n",
    "#                                   batch_first=True)    \n",
    "    \n",
    "#     return seq1_tensors, seq2_tensors\n",
    "\n",
    "\n",
    "# # dataset = QuoraDataset(\"train\", 50000, 1000, load_dic=False)\n",
    "# # data_loader = DataLoader(dataset, batch_size=1, collate_fn=create_mini_batch)\n",
    "# # seq1, seq2 = next(iter(data_loader))"
   ]
  },
  {
   "cell_type": "code",
   "execution_count": 5,
   "metadata": {},
   "outputs": [
    {
     "name": "stderr",
     "output_type": "stream",
     "text": [
      "100%|██████████| 124000/124000 [00:01<00:00, 74733.85it/s]\n",
      "100%|██████████| 149263/149263 [00:02<00:00, 53763.01it/s]"
     ]
    },
    {
     "name": "stdout",
     "output_type": "stream",
     "text": [
      "[Info] Saved the dictionary\n"
     ]
    },
    {
     "name": "stderr",
     "output_type": "stream",
     "text": [
      "\n"
     ]
    }
   ],
   "source": [
    "# dataset = QuoraDataset(\"train\", 124000, 1000, load_dic=False)\n",
    "# data_loader = DataLoader(dataset, batch_size=128, collate_fn=create_mini_batch)\n"
   ]
  },
  {
   "cell_type": "code",
   "execution_count": 7,
   "metadata": {},
   "outputs": [
    {
     "name": "stderr",
     "output_type": "stream",
     "text": [
      "100%|██████████| 969/969 [00:03<00:00, 303.23it/s]"
     ]
    },
    {
     "name": "stdout",
     "output_type": "stream",
     "text": [
      "60\n"
     ]
    },
    {
     "name": "stderr",
     "output_type": "stream",
     "text": [
      "\n"
     ]
    }
   ],
   "source": [
    "# from tqdm import tqdm\n",
    "# max_size = 0\n",
    "# for seq1, seq2 in tqdm(data_loader):\n",
    "#     max_size = max(max_size, seq1.shape[1])\n",
    "# print(max_size) # 60"
   ]
  },
  {
   "cell_type": "code",
   "execution_count": null,
   "metadata": {},
   "outputs": [],
   "source": []
  }
 ],
 "metadata": {
  "kernelspec": {
   "display_name": "Python 3",
   "language": "python",
   "name": "python3"
  },
  "language_info": {
   "codemirror_mode": {
    "name": "ipython",
    "version": 3
   },
   "file_extension": ".py",
   "mimetype": "text/x-python",
   "name": "python",
   "nbconvert_exporter": "python",
   "pygments_lexer": "ipython3",
   "version": "3.7.9"
  }
 },
 "nbformat": 4,
 "nbformat_minor": 4
}
