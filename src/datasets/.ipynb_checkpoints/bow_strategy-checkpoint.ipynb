{
 "cells": [
  {
   "cell_type": "code",
   "execution_count": null,
   "metadata": {},
   "outputs": [],
   "source": [
    "import torch"
   ]
  },
  {
   "cell_type": "code",
   "execution_count": 1,
   "metadata": {},
   "outputs": [],
   "source": [
    "def get_bow(bow_strategy, n_words, pred, topk, indiv_topk):\n",
    "    if bow_strategy == 'simple_sum':\n",
    "        return get_simple_sum_bow(n_words, pred, topk)\n",
    "\n",
    "    elif bow_strategy == 'indiv_topk':\n",
    "        return get_indiv_topk_bow(n_words, pred, topk, indiv_topk)\n",
    "        \n",
    "    elif bow_strategy == 'indiv_topk':\n",
    "        return get_indiv_neighbors_bow(pred, topk, indiv_topk)\n",
    "\n",
    "    else:\n",
    "        raise ValueError(\"bow strategy is not defined\")\n",
    "\n",
    "        \n",
    "# [CLS]  [M]  w2  w3  [SEP]        \n",
    "# [CLS]  w1  [M]  w3  [SEP]        \n",
    "# [CLS]  w1 w2  [M]  [SEP]        \n",
    "# Given the probability of [M] for each mask-prediction case\n",
    "\n",
    "# sum all the probability and do topk to get bag of words        \n",
    "def get_simple_sum_bow(n_words, pred, topk):\n",
    "    bows = torch.zeros(n_words)\n",
    "    for i in range(pred.shape[0]):\n",
    "        prob = pred[i][i+1]\n",
    "        bows += prob\n",
    "    _, indices = torch.topk(bows, topk)\n",
    "    \n",
    "    return indices\n",
    "\n",
    "# do topk first for each probability distribution\n",
    "# sum them up and do topk again to get bag of words\n",
    "def get_indiv_topk_bow(n_words, pred, topk, indiv_topk):\n",
    "    # todo: try to improve efficiency with matrix calculation\n",
    "    probs, indiv_indices = torch.topk(pred, indiv_topk)\n",
    "    bows = torch.zeros(n_words)\n",
    "    for i in range(indiv_indices.shape[0]):\n",
    "        prob, indices = probs[i][i+1], indiv_indices[i][i+1]\n",
    "        res = torch.zeros(n_words)\n",
    "        res = res.scatter(0, indices, prob)\n",
    "        bows += res\n",
    "    _, indices = torch.topk(bows, topk)\n",
    "\n",
    "    return indices\n",
    "\n",
    "\n",
    "# do topk first for each probability distribution\n",
    "# get the topk words for each mask words as bag of words\n",
    "def get_indiv_neighbors_bow(pred, topk, indiv_topk):\n",
    "    probs, indiv_indices = torch.topk(pred, indiv_topk)\n",
    "    final_indices = []\n",
    "    for i in range(indiv_indices.shape[0]):\n",
    "        _, indices = probs[i][i+1], indiv_indices[i][i+1]\n",
    "        final_indices.append(indices)\n",
    "\n",
    "    return torch.cat(final_indices)"
   ]
  },
  {
   "cell_type": "code",
   "execution_count": null,
   "metadata": {},
   "outputs": [],
   "source": []
  }
 ],
 "metadata": {
  "kernelspec": {
   "display_name": "Python 3",
   "language": "python",
   "name": "python3"
  },
  "language_info": {
   "codemirror_mode": {
    "name": "ipython",
    "version": 3
   },
   "file_extension": ".py",
   "mimetype": "text/x-python",
   "name": "python",
   "nbconvert_exporter": "python",
   "pygments_lexer": "ipython3",
   "version": "3.7.9"
  }
 },
 "nbformat": 4,
 "nbformat_minor": 4
}
