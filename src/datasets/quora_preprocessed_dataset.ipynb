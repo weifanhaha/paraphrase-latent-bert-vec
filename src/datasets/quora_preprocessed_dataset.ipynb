{
 "cells": [
  {
   "cell_type": "code",
   "execution_count": 6,
   "metadata": {},
   "outputs": [],
   "source": [
    "import torch\n",
    "from torch.nn.utils.rnn import pad_sequence\n",
    "from torch.utils.data import Dataset\n",
    "from torch.utils.data import DataLoader\n",
    "from tqdm import tqdm\n",
    "import numpy as np\n",
    "from transformers import BertTokenizer\n"
   ]
  },
  {
   "cell_type": "code",
   "execution_count": 9,
   "metadata": {},
   "outputs": [],
   "source": [
    "class QuoraPreprocessedDataset(Dataset):\n",
    "    def __init__(self, mode, train_size=5000, val_size=1000, test_size=1000, preprocessed_file='', tokenizer='bert-base-cased'):\n",
    "        assert mode in [\"train\", \"val\", \"test\"]\n",
    "        assert preprocessed_file != ''\n",
    "        self.mode = mode\n",
    "        self.train_size = train_size\n",
    "        self.val_size = val_size\n",
    "        self.test_size = test_size\n",
    "        self.preprocessed_file = preprocessed_file\n",
    "        \n",
    "        self.tokenizer = self.init_tokenizer(tokenizer)\n",
    "        self.init_constants()\n",
    "        self.load_preprocessed_file()\n",
    "        self.n_words = len(self.tokenizer)\n",
    "        \n",
    "        self.n_words = len(self.tokenizer)\n",
    "\n",
    "    def __getitem__(self, idx):\n",
    "        return self.tensors[idx]\n",
    "\n",
    "    def __len__(self):\n",
    "        if self.mode == 'train':\n",
    "            return self.train_size\n",
    "        elif self.mode == 'val':\n",
    "            return self.val_size\n",
    "        else:\n",
    "            return self.test_size\n",
    "\n",
    "    def init_tokenizer(self, tokenizer):\n",
    "        if tokenizer == 'bert-base-cased':\n",
    "            pretrained_model_name = \"bert-base-cased\"\n",
    "            tokenizer = BertTokenizer.from_pretrained(pretrained_model_name)\n",
    "            return tokenizer\n",
    "    \n",
    "    def init_constants(self):\n",
    "        PAD_id,  SOS_id, EOS_id, UNK_id = self.tokenizer.convert_tokens_to_ids([\"[PAD]\", \"[CLS]\", \"[SEP]\", \"[UNK]\"])\n",
    "        self.PAD_token_id = PAD_id\n",
    "        self.SOS_token_id = SOS_id\n",
    "        self.EOS_token_id = EOS_id\n",
    "        self.UNK_token_id = UNK_id\n",
    "        \n",
    "        self.PAD_token = '[PAD]'\n",
    "        self.SOS_token = '[CLS]'\n",
    "        self.EOS_token = '[SEP]'\n",
    "        self.UNK_token = '[UNK]'\n",
    "    \n",
    "    def load_preprocessed_file(self):\n",
    "        tensors = np.load(self.preprocessed_file, allow_pickle=True)\n",
    "\n",
    "        if self.mode == \"train\":\n",
    "            tensors = tensors[:self.train_size]\n",
    "        elif self.mode == 'val':\n",
    "            tensors = tensors[self.train_size:self.train_size+self.val_size]\n",
    "        else:\n",
    "            tensors = tensors[self.train_size+self.val_size:self.train_size+self.val_size+self.test_size]\n",
    "        \n",
    "        self.tensors = tensors\n"
   ]
  },
  {
   "cell_type": "code",
   "execution_count": 27,
   "metadata": {},
   "outputs": [],
   "source": [
    "# dataset = QuoraPreprocessedDataset(\"train\", 124000, 100, preprocessed_file='../../data/preprocess_all_dpng_transformer_bert_tokenizer_bow_indivtopk.npy')"
   ]
  },
  {
   "cell_type": "code",
   "execution_count": 28,
   "metadata": {},
   "outputs": [],
   "source": [
    "# def create_mini_batch(samples):\n",
    "#     seq1_tensors = [s[0] for s in samples]\n",
    "#     seq2_tensors = [s[1] for s in samples]\n",
    "\n",
    "#     # zero pad\n",
    "#     seq1_tensors = pad_sequence(seq1_tensors,\n",
    "#                                   batch_first=True)\n",
    "\n",
    "#     seq2_tensors = pad_sequence(seq2_tensors,\n",
    "#                                   batch_first=True)    \n",
    "    \n",
    "#     return seq1_tensors, seq2_tensors\n",
    "\n",
    "\n",
    "# # it takes time to predict masked component\n",
    "# # to improve -> use gpu and calculate outside the dataset\n",
    "# data_loader = DataLoader(dataset, batch_size=64, collate_fn=create_mini_batch)"
   ]
  },
  {
   "cell_type": "code",
   "execution_count": 30,
   "metadata": {},
   "outputs": [
    {
     "name": "stderr",
     "output_type": "stream",
     "text": [
      "100%|██████████| 1938/1938 [00:01<00:00, 1335.80it/s]\n"
     ]
    }
   ],
   "source": [
    "# from tqdm import tqdm\n",
    "# for seq1, seq2 in tqdm(data_loader):\n",
    "#     pass\n"
   ]
  },
  {
   "cell_type": "code",
   "execution_count": null,
   "metadata": {},
   "outputs": [],
   "source": []
  }
 ],
 "metadata": {
  "kernelspec": {
   "display_name": "Python 3",
   "language": "python",
   "name": "python3"
  },
  "language_info": {
   "codemirror_mode": {
    "name": "ipython",
    "version": 3
   },
   "file_extension": ".py",
   "mimetype": "text/x-python",
   "name": "python",
   "nbconvert_exporter": "python",
   "pygments_lexer": "ipython3",
   "version": "3.7.9"
  }
 },
 "nbformat": 4,
 "nbformat_minor": 4
}
