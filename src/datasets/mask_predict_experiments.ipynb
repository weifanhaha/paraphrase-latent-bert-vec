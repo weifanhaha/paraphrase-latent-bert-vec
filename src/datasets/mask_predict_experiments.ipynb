{
 "cells": [
  {
   "cell_type": "code",
   "execution_count": 4,
   "metadata": {},
   "outputs": [],
   "source": [
    "import torch\n",
    "from torch.nn.utils.rnn import pad_sequence\n",
    "from torch.utils.data import Dataset\n",
    "from torch.utils.data import DataLoader\n",
    "from tqdm import tqdm\n",
    "import numpy as np\n",
    "from transformers import BertTokenizer, BertForMaskedLM\n",
    "\n",
    "from quora_bert_mask_predict_dataset import QuoraBertMaskPredictDataset"
   ]
  },
  {
   "cell_type": "code",
   "execution_count": 5,
   "metadata": {},
   "outputs": [
    {
     "name": "stderr",
     "output_type": "stream",
     "text": [
      "Some weights of the model checkpoint at bert-base-cased were not used when initializing BertForMaskedLM: ['cls.seq_relationship.weight', 'cls.seq_relationship.bias']\n",
      "- This IS expected if you are initializing BertForMaskedLM from the checkpoint of a model trained on another task or with another architecture (e.g. initializing a BertForSequenceClassification model from a BertForPretraining model).\n",
      "- This IS NOT expected if you are initializing BertForMaskedLM from the checkpoint of a model that you expect to be exactly identical (initializing a BertForSequenceClassification model from a BertForSequenceClassification model).\n"
     ]
    }
   ],
   "source": [
    "# dataset = QuoraBertMaskPredictDataset(\"train\", 1000, 100, text_path='../../data/quora_train.txt')\n",
    "dataset = QuoraBertMaskPredictDataset(\"train\", 1000, 100, text_path='../../data/quora_train.txt', bow_strategy='indiv_topk')\n",
    "# dataset = QuoraBertMaskPredictDataset(\"train\", 124000, 100, text_path='../../data/quora_train.txt', bow_strategy='indiv_neighbors')\n",
    "# dataset = QuoraBertMaskPredictDataset(\"train\", 1000, 100, text_path='../../data/quora_train.txt', bow_strategy='indiv_topk', only_bow=True, use_origin=True)"
   ]
  },
  {
   "cell_type": "code",
   "execution_count": 6,
   "metadata": {},
   "outputs": [],
   "source": [
    "def create_mini_batch(samples):\n",
    "    seq1_tensors = [s[0] for s in samples]\n",
    "    seq2_tensors = [s[1] for s in samples]\n",
    "#     bows_tensors = [s[2] for s in samples]\n",
    "\n",
    "    # zero pad\n",
    "    seq1_tensors = pad_sequence(seq1_tensors,\n",
    "                                  batch_first=True)\n",
    "\n",
    "    seq2_tensors = pad_sequence(seq2_tensors,\n",
    "                                  batch_first=True)    \n",
    "    \n",
    "#     return seq1_tensors, seq2_tensors, torch.stack(bows_tensors)\n",
    "    return seq1_tensors, seq2_tensors\n",
    "\n",
    "\n",
    "# it takes time to predict masked component\n",
    "# to improve -> use gpu and calculate outside the dataset\n",
    "data_loader = DataLoader(dataset, batch_size=64, collate_fn=create_mini_batch)"
   ]
  },
  {
   "cell_type": "code",
   "execution_count": 19,
   "metadata": {},
   "outputs": [],
   "source": [
    "def get_replaced_sentence(seq1, pred):\n",
    "    softmax = torch.nn.Softmax(dim=0)\n",
    "    # add BOS and EOS\n",
    "    pred_ws = [seq1[0].item()]\n",
    "    for i in range(pred.shape[0]):\n",
    "        # 1. top1, when prob > 0.5\n",
    "#         prob, idx = torch.topk(softmax(pred[i][i+1]), 1)\n",
    "#         w = idx.item() if prob > 0.5 else seq1[i+1].item() \n",
    "        \n",
    "#         # 2. top1\n",
    "#         prob, idx = torch.topk(softmax(pred[i][i+1]), 1)\n",
    "#         w = idx.item()\n",
    "        \n",
    "        # 3. sample\n",
    "        idx = torch.multinomial(softmax(pred[i][i+1]), 1)[0]\n",
    "        w = idx.item()\n",
    "\n",
    "        pred_ws.append(w)\n",
    "        \n",
    "    pred_ws.append(seq1[-1].item())\n",
    "    return torch.tensor(pred_ws, dtype=torch.long)"
   ]
  },
  {
   "cell_type": "code",
   "execution_count": 20,
   "metadata": {},
   "outputs": [
    {
     "name": "stdout",
     "output_type": "stream",
     "text": [
      "What if I hired two private eyes and ordered them to follow each other?\n"
     ]
    }
   ],
   "source": [
    "si = 61\n",
    "seq = dataset.sentences[si].split('\\t')[0]\n",
    "print(seq)\n",
    "\n",
    "tokenizer = dataset.tokenizer\n",
    "tokens = [dataset.SOS_token] + tokenizer.tokenize(seq) + [dataset.EOS_token]\n",
    "\n",
    "ids = tokenizer.convert_tokens_to_ids(tokens)\n",
    "ids = torch.tensor(ids, dtype=torch.long)"
   ]
  },
  {
   "cell_type": "code",
   "execution_count": 21,
   "metadata": {},
   "outputs": [],
   "source": [
    "device = torch.device(\"cuda\" if torch.cuda.is_available() else \"cpu\")"
   ]
  },
  {
   "cell_type": "code",
   "execution_count": 22,
   "metadata": {},
   "outputs": [],
   "source": [
    "mask_sentences = []\n",
    "for i in range(1, len(ids) - 1):\n",
    "    mask_seq = ids.detach().clone()\n",
    "    mask_seq[i] = dataset.MASK_token_id\n",
    "    mask_sentences.append(mask_seq)\n",
    "\n",
    "mask_stack = torch.stack(mask_sentences)\n",
    "mask_stack = mask_stack.to(device)\n"
   ]
  },
  {
   "cell_type": "code",
   "execution_count": 23,
   "metadata": {},
   "outputs": [],
   "source": [
    "dataset.mask_predict_model.eval()\n",
    "\n",
    "with torch.no_grad():\n",
    "        pred = dataset.mask_predict_model(mask_stack)[0]\n",
    "#     pred = dataset.mask_predict_model(mask_stack, attention_mask=attention_mask)[0]\n",
    "pred = pred.cpu()\n",
    "\n"
   ]
  },
  {
   "cell_type": "code",
   "execution_count": 24,
   "metadata": {},
   "outputs": [
    {
     "name": "stdout",
     "output_type": "stream",
     "text": [
      "What if I hired two private eyes and ordered them to follow each other?\n",
      "[CLS] What if he sent their wandering investigators and taught them to stalk each other ? [SEP]\n"
     ]
    }
   ],
   "source": [
    "res = get_replaced_sentence(ids, pred)\n",
    "print(seq)\n",
    "print(' '.join(tokenizer.convert_ids_to_tokens(res)))"
   ]
  },
  {
   "cell_type": "code",
   "execution_count": 16,
   "metadata": {},
   "outputs": [],
   "source": [
    "softmax = torch.nn.Softmax(dim=0)"
   ]
  },
  {
   "cell_type": "code",
   "execution_count": 17,
   "metadata": {},
   "outputs": [
    {
     "name": "stdout",
     "output_type": "stream",
     "text": [
      "['What', 'if', 'he', 'held', 'two', 'steady', 'detectives', 'and', 'thought', 'them', 'to', 'see', 'each', 'other', '?']\n",
      "['What', 'if', 'he', 'held', 'two', 'dogs', 'detectives', 'and', 'set', 'them', 'to', 'find', 'each', 'other', '?']\n",
      "['What', 'if', 'I', 'called', 'two', 'calculating', 'investigators', 'and', 'wanted', 'them', 'to', 'see', 'each', 'other', '?']\n",
      "['What', 'if', 'he', 'hid', 'their', 'little', 'detectives', 'and', 'had', 'them', 'to', 'copy', 'each', 'other', '?']\n",
      "['What', 'if', 'he', 'opened', 'her', 'grey', 'investigators', 'and', 'asked', 'them', 'to', 'kill', 'each', 'other', '?']\n",
      "['What', 'if', 'he', 'locked', 'his', 'card', 'investigators', 'and', 'told', 'them', 'to', 'get', 'each', 'other', '?']\n",
      "['What', 'if', 'he', 'met', 'two', 'human', 'investigators', 'and', 'allowed', 'them', 'to', 'kill', 'each', 'other', '?']\n",
      "['What', 'if', 'she', 'had', 'two', 'new', 'killers', 'and', 'told', 'them', 'to', 'kill', 'each', 'other', '?']\n",
      "['What', 'if', 'he', 'removed', 'some', 'blind', 'detectives', 'and', 'forced', 'them', 'to', 'love', 'each', 'other', '?']\n",
      "['What', 'if', 'she', 'got', 'two', 'evil', 'investigators', 'and', 'took', 'them', 'to', 'kill', 'each', 'other', '?']\n"
     ]
    }
   ],
   "source": [
    "for _ in range(10):\n",
    "    pred_ws = []\n",
    "    for i in range(pred.shape[0]):\n",
    "        sample = torch.multinomial(softmax(pred[i][i+1]), 1)\n",
    "        w = tokenizer.convert_ids_to_tokens(sample[0].item())\n",
    "        pred_ws.append(w)\n",
    "    print(pred_ws)"
   ]
  },
  {
   "cell_type": "code",
   "execution_count": 18,
   "metadata": {},
   "outputs": [
    {
     "name": "stdout",
     "output_type": "stream",
     "text": [
      "evil\n",
      "deep\n",
      "dark\n",
      "dark\n",
      "evil\n",
      "evil\n",
      "private\n",
      "blind\n",
      "vampire\n",
      "sort\n",
      "blue\n",
      "green\n",
      "evil\n",
      "exotic\n",
      "cat\n",
      "wandering\n",
      "yellow\n",
      "green\n",
      "green\n",
      "vampire\n"
     ]
    }
   ],
   "source": [
    "for i in range(20):\n",
    "    sample = torch.multinomial(softmax(pred[5][6]), 1)\n",
    "    out = tokenizer.convert_ids_to_tokens(sample[0].item())\n",
    "    print(out)"
   ]
  },
  {
   "cell_type": "code",
   "execution_count": null,
   "metadata": {},
   "outputs": [],
   "source": []
  }
 ],
 "metadata": {
  "kernelspec": {
   "display_name": "Python 3",
   "language": "python",
   "name": "python3"
  },
  "language_info": {
   "codemirror_mode": {
    "name": "ipython",
    "version": 3
   },
   "file_extension": ".py",
   "mimetype": "text/x-python",
   "name": "python",
   "nbconvert_exporter": "python",
   "pygments_lexer": "ipython3",
   "version": "3.7.9"
  }
 },
 "nbformat": 4,
 "nbformat_minor": 4
}
