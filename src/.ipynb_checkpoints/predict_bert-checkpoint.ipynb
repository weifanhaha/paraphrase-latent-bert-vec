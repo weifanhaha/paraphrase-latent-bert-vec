{
 "cells": [
  {
   "cell_type": "code",
   "execution_count": 71,
   "metadata": {},
   "outputs": [],
   "source": [
    "import torch\n",
    "import argparse\n",
    "from tqdm import tqdm\n",
    "from torch.nn.utils.rnn import pad_sequence\n",
    "from torch.utils.data import DataLoader\n",
    "import yaml\n",
    "from argparse import ArgumentParser\n",
    "import os\n",
    "\n",
    "# from datasets.quora_bert_mask_predict_dataset import QuoraBertMaskPredictDataset\n",
    "# from datasets.quora_bert_dataset import QuoraBertDataset\n",
    "from transformer.Models import Transformer\n",
    "from transformer.Translator import Translator\n",
    "from utils import same_seeds\n",
    "from utils import cal_loss, cal_performance, log_performances"
   ]
  },
  {
   "cell_type": "code",
   "execution_count": 29,
   "metadata": {},
   "outputs": [],
   "source": [
    "# import os\n",
    "# os.environ[\"CUDA_DEVICE_ORDER\"]=\"PCI_BUS_ID\"   # see issue #152\n",
    "# os.environ[\"CUDA_VISIBLE_DEVICES\"]=\"1\""
   ]
  },
  {
   "cell_type": "code",
   "execution_count": 4,
   "metadata": {},
   "outputs": [
    {
     "name": "stderr",
     "output_type": "stream",
     "text": [
      "usage: ipykernel_launcher.py [-h] [--config_path CONFIG_PATH] [--preprocessed]\n",
      "                             [--seed SEED]\n",
      "ipykernel_launcher.py: error: unrecognized arguments: -f /shared_home/r08922168/.local/share/jupyter/runtime/kernel-d90c4d4a-8568-449c-b73d-37d4c9bd157a.json\n"
     ]
    },
    {
     "ename": "SystemExit",
     "evalue": "2",
     "output_type": "error",
     "traceback": [
      "An exception has occurred, use %tb to see the full traceback.\n",
      "\u001b[0;31mSystemExit\u001b[0m\u001b[0;31m:\u001b[0m 2\n"
     ]
    },
    {
     "name": "stderr",
     "output_type": "stream",
     "text": [
      "/shared_home/r08922168/miniconda3/envs/my_paraphrase_env/lib/python3.7/site-packages/IPython/core/interactiveshell.py:3425: UserWarning: To exit: use 'exit', 'quit', or Ctrl-D.\n",
      "  warn(\"To exit: use 'exit', 'quit', or Ctrl-D.\", stacklevel=1)\n"
     ]
    }
   ],
   "source": [
    "# parse argument\n",
    "parser = ArgumentParser()\n",
    "parser.add_argument(\"--config_path\", dest=\"config_path\",\n",
    "                    default='../configs/dpng_transformer_bert_tokenizer_bow_indivtopk.yaml')\n",
    "parser.add_argument(\"--preprocessed\", dest=\"preprocessed\", action=\"store_true\")\n",
    "parser.add_argument(\"--seed\", dest=\"seed\", default=0, type=int)\n",
    "\n",
    "args = parser.parse_args()\n",
    "config_path = args.config_path\n",
    "preprocessed = args.preprocessed\n",
    "seed = args.seed\n",
    "print(\"config_path:\", config_path)\n",
    "print(\"preprocessed: \", preprocessed)\n",
    "print(\"seed: \", seed)"
   ]
  },
  {
   "cell_type": "code",
   "execution_count": 60,
   "metadata": {},
   "outputs": [],
   "source": [
    "# fix seed\n",
    "# seed = 0\n",
    "same_seeds(seed)"
   ]
  },
  {
   "cell_type": "code",
   "execution_count": 61,
   "metadata": {},
   "outputs": [
    {
     "name": "stdout",
     "output_type": "stream",
     "text": [
      "{'save_model_path': '../models/DNPG_base_transformer_bert_tokenizer_bert_bow_indivtopk_replace_nopreprocess.pth', 'log_file': '../logs/DNPG_base_transformer_bert_tokenizer_training_bert_bow_indiv_topk_replace_nopreprocess.txt', 'test_output_file': '../outputs/test_DNPG_transformer_bert_tokenizer_bow_indivtopk_replace_out_nopreprocess.txt', 'val_output_file': '../outputs/val_DNPG_transformer_bert_tokenizer_bow_indivtopk_replace_out_nopreprocess.txt', 'dataset': 'quora_bert_mask_predict_dataset', 'num_epochs': 50, 'batch_size': 100, 'd_model': 450, 'd_inner_hid': 512, 'd_k': 50, 'd_v': 50, 'n_head': 9, 'n_layers': 3, 'n_warmup_steps': 12000, 'dropout': 0.1, 'embs_share_weight': True, 'proj_share_weight': True, 'label_smoothing': False, 'train_size': 100000, 'val_size': 4000, 'test_size': 20000, 'is_bow': True, 'bow_strategy': 'indiv_topk', 'indiv_topk': 10, 'topk': 25, 'lr': '1e-3', 'only_bow': False, 'replace_predict': True, 'append_bow': True}\n"
     ]
    }
   ],
   "source": [
    "##### Read Arguments from Config File #####\n",
    "\n",
    "# config_path = '../configs/dpng_transformer_bert_tokenizer.yaml'\n",
    "# config_path = '../configs/dpng_transformer_bert_tokenizer_bow.yaml'\n",
    "# config_path = '../configs/dpng_transformer_bert_tokenizer_bow_indivtopk.yaml'\n",
    "# config_path = '../configs/dpng_transformer_bert_tokenizer_bow_indivtopk_onlybow.yaml'\n",
    "# config_path = '../configs/dpng_transformer_bert_tokenizer_bow_indivtopk_replace.yaml'\n",
    "# config_path = '../configs/dpng_transformer_bert_tokenizer_bow_indivtopk_replace_nopreprocess.yaml'\n",
    "\n",
    "\n",
    "with open(config_path) as f:\n",
    "    config = yaml.load(f, Loader=yaml.FullLoader)\n",
    "    print(config)\n",
    "\n",
    "save_model_path = config['save_model_path']\n",
    "output_file = config['test_output_file']\n",
    "use_dataset = config['dataset']\n",
    "\n",
    "batch_size = 1\n",
    "\n",
    "d_model = config['d_model']\n",
    "d_inner_hid = config['d_inner_hid']\n",
    "d_k = config['d_k']\n",
    "d_v = config['d_v']\n",
    "\n",
    "n_head = config['n_head']\n",
    "n_layers = config['n_layers']\n",
    "n_warmup_steps = config['n_warmup_steps']\n",
    "\n",
    "dropout = config['dropout']\n",
    "embs_share_weight = config['embs_share_weight']\n",
    "proj_share_weight = config['proj_share_weight']\n",
    "label_smoothing = config['label_smoothing']\n",
    "\n",
    "train_size = config['train_size']\n",
    "val_size = config['val_size']\n",
    "test_size = config['test_size']\n",
    "\n",
    "beam_size = 3\n",
    "max_seq_len = 30\n",
    "\n",
    "try:\n",
    "    is_bow = config['is_bow']\n",
    "\n",
    "    if is_bow:\n",
    "        bow_strategy = config['bow_strategy']\n",
    "        topk = config['topk']\n",
    "        if bow_strategy != 'simple_sum':\n",
    "            indiv_topk = config['indiv_topk']\n",
    "        else:\n",
    "            # not used but use default value for simplicity\n",
    "            indiv_topk = 50\n",
    "            \n",
    "        only_bow = config['only_bow']\n",
    "        replace_predict = config['replace_predict']\n",
    "        append_bow = config['append_bow']\n",
    "\n",
    "except KeyError:\n",
    "    is_bow = False\n",
    "    \n",
    "try:\n",
    "    only_bow = config['only_bow']\n",
    "except KeyError:\n",
    "    only_bow = False \n",
    "# ###################"
   ]
  },
  {
   "cell_type": "code",
   "execution_count": 62,
   "metadata": {},
   "outputs": [
    {
     "name": "stdout",
     "output_type": "stream",
     "text": [
      "seed:  0\n",
      "save model path:  ../models/fixseed/seed0/DNPG_base_transformer_bert_tokenizer_bert_bow_indivtopk_replace_nopreprocess.pth\n",
      "output file:  ../outputs/fixseed/seed0/test_DNPG_transformer_bert_tokenizer_bow_indivtopk_replace_out_nopreprocess.txt\n"
     ]
    }
   ],
   "source": [
    "# set model and log path\n",
    "seed_model_root = '../models/fixseed/seed{}/'.format(seed)\n",
    "seed_output_root = '../outputs/fixseed/seed{}/'.format(seed)\n",
    "\n",
    "if not os.path.exists(seed_model_root):\n",
    "    os.makedirs(seed_model_root)\n",
    "\n",
    "if not os.path.exists(seed_output_root):\n",
    "    os.makedirs(seed_output_root)\n",
    "\n",
    "save_model_path = seed_model_root + save_model_path.split('/')[-1]\n",
    "output_file = seed_output_root + output_file.split('/')[-1]\n",
    "print('seed: ', seed)\n",
    "print('save model path: ', save_model_path)\n",
    "print('output file: ', output_file)"
   ]
  },
  {
   "cell_type": "code",
   "execution_count": 63,
   "metadata": {},
   "outputs": [],
   "source": [
    "# load dataset\n",
    "preprocessed = False\n",
    "\n",
    "from datasets.quora_text_dataset import QuoraTextDataset\n",
    "\n",
    "if preprocessed:\n",
    "    from datasets.quora_preprocessed_dataset import QuoraPreprocessedDataset as Dataset\n",
    "else:\n",
    "    if use_dataset == 'quora_dataset':\n",
    "        from datasets.quora_dataset import QuoraDataset as Dataset\n",
    "    elif use_dataset == 'quora_bert_dataset':\n",
    "        from datasets.quora_bert_dataset import QuoraBertDataset as Dataset\n",
    "    elif use_dataset == 'quora_bert_mask_predict_dataset':\n",
    "        from datasets.quora_bert_mask_predict_dataset import QuoraBertMaskPredictDataset as Dataset\n",
    "    elif use_dataset == 'quora_word_mask_prediction_dataset':\n",
    "        from datasets.quora_word_mask_prediction_dataset import QuoraWordMaskPredictDataset as Dataset\n",
    "    else:\n",
    "        raise NotImplementedError(\"Dataset is not defined or not implemented\")\n",
    "        \n"
   ]
  },
  {
   "cell_type": "code",
   "execution_count": 79,
   "metadata": {},
   "outputs": [
    {
     "name": "stderr",
     "output_type": "stream",
     "text": [
      "Some weights of the model checkpoint at bert-base-cased were not used when initializing BertForMaskedLM: ['cls.seq_relationship.weight', 'cls.seq_relationship.bias']\n",
      "- This IS expected if you are initializing BertForMaskedLM from the checkpoint of a model trained on another task or with another architecture (e.g. initializing a BertForSequenceClassification model from a BertForPretraining model).\n",
      "- This IS NOT expected if you are initializing BertForMaskedLM from the checkpoint of a model that you expect to be exactly identical (initializing a BertForSequenceClassification model from a BertForSequenceClassification model).\n"
     ]
    }
   ],
   "source": [
    "def create_mini_batch(samples):\n",
    "    seq1_tensors = [s[0] for s in samples]\n",
    "    seq2_tensors = [s[1] for s in samples]\n",
    "\n",
    "    # zero pad\n",
    "    seq1_tensors = pad_sequence(seq1_tensors,\n",
    "                                  batch_first=True)\n",
    "\n",
    "    seq2_tensors = pad_sequence(seq2_tensors,\n",
    "                                  batch_first=True)    \n",
    "    \n",
    "    return seq1_tensors, seq2_tensors\n",
    "\n",
    "# force not to replace the tokens when predicting\n",
    "# replace_predict = False\n",
    "\n",
    "if preprocessed:\n",
    "    model_name = config_path.split('/')[-1][:-5]\n",
    "    preprocessed_file = '../data/preprocess_all_{}.npy'.format(model_name)\n",
    "    dataset = Dataset(\"test\", train_size, val_size, test_size, preprocessed_file=preprocessed_file)\n",
    "elif is_bow:\n",
    "    dataset = Dataset(\n",
    "        \"test\", train_size, val_size, test_size, bow_strategy=bow_strategy, topk=topk, \n",
    "        indiv_topk=indiv_topk, only_bow=only_bow, use_origin=only_bow, \n",
    "        replace_predict=False, append_bow=append_bow\n",
    "    )\n",
    "#     dataset = Dataset(\n",
    "#         \"val\", train_size, val_size, test_size, bow_strategy=bow_strategy, topk=topk, \n",
    "#         indiv_topk=indiv_topk, only_bow=only_bow, use_origin=only_bow, \n",
    "#         replace_predict=False, append_bow=append_bow\n",
    "#     )\n",
    "else:\n",
    "    dataset = Dataset(\"test\", train_size, val_size, test_size)\n",
    "\n",
    "same_seeds(seed)\n",
    "text_dataset = QuoraTextDataset(\"test\", train_size, val_size, test_size)\n",
    "data_loader = DataLoader(dataset, batch_size=batch_size, collate_fn=create_mini_batch, shuffle=False)"
   ]
  },
  {
   "cell_type": "code",
   "execution_count": 66,
   "metadata": {
    "scrolled": true
   },
   "outputs": [
    {
     "name": "stdout",
     "output_type": "stream",
     "text": [
      "('What are the benefits of using digital signage for your business ?', 'What would digital signage do for your business ? ')\n",
      "['[CLS]', 'What', 'are', 'the', 'benefits', 'of', 'using', 'digital', 'sign', '##age', 'for', 'your', 'business', '?', '[SEP]', 'the', 'in', 'your', 'of', 'for', 'to', '.', 'on', 'about', 'a', '?', 'our', 'this', 'broker', 'are', ',', '##age', 'What', 'sign', 'advantages', 'link', 'were', 'benefits', 'chances', 'mile', '[SEP]']\n",
      "['[CLS]', 'What', 'would', 'digital', 'sign', '##age', 'do', 'for', 'your', 'business', '?', '[SEP]']\n"
     ]
    }
   ],
   "source": [
    "# # text_dataset[0]\n",
    "# i = 0\n",
    "# idxs, idxs2 = dataset[i]\n",
    "# print(text_dataset[i])\n",
    "# print(dataset.tokenizer.convert_ids_to_tokens(idxs))\n",
    "# print(dataset.tokenizer.convert_ids_to_tokens(idxs2))\n"
   ]
  },
  {
   "cell_type": "code",
   "execution_count": 67,
   "metadata": {},
   "outputs": [
    {
     "data": {
      "text/plain": [
       "<All keys matched successfully>"
      ]
     },
     "execution_count": 67,
     "metadata": {},
     "output_type": "execute_result"
    }
   ],
   "source": [
    "device = torch.device(\"cuda\" if torch.cuda.is_available() else \"cpu\")\n",
    "\n",
    "transformer = Transformer(\n",
    "    dataset.n_words,\n",
    "    dataset.n_words,\n",
    "    src_pad_idx=dataset.PAD_token_id,\n",
    "    trg_pad_idx=dataset.PAD_token_id,\n",
    "    trg_emb_prj_weight_sharing=proj_share_weight,\n",
    "    emb_src_trg_weight_sharing=embs_share_weight,\n",
    "    d_k=d_k,\n",
    "    d_v=d_v,\n",
    "    d_model=d_model,\n",
    "    d_word_vec=d_model,\n",
    "    d_inner=d_inner_hid,\n",
    "    n_layers=n_layers,\n",
    "    n_head=n_head,\n",
    "    dropout=dropout    \n",
    ")\n",
    "\n",
    "model = transformer.to(device)\n",
    "\n",
    "model.load_state_dict((torch.load(\n",
    "        save_model_path, map_location=device)))"
   ]
  },
  {
   "cell_type": "code",
   "execution_count": null,
   "metadata": {},
   "outputs": [],
   "source": [
    "# eval, replace predict\n",
    "# 1.0310528681413182, 0.7787169811320754\n",
    "\n",
    "# eval, no replace predict\n",
    "# 2.117869621312843, 0.5975849056603774\n",
    "# test\n",
    "# 2.???, 0.59???"
   ]
  },
  {
   "cell_type": "code",
   "execution_count": 68,
   "metadata": {},
   "outputs": [],
   "source": [
    "src_pad_idx = dataset.PAD_token_id\n",
    "trg_pad_idx = dataset.PAD_token_id\n",
    "    \n",
    "trg_bos_idx = dataset.SOS_token_id\n",
    "trg_eos_idx = dataset.EOS_token_id\n",
    "unk_idx = dataset.UNK_token_id"
   ]
  },
  {
   "cell_type": "code",
   "execution_count": 69,
   "metadata": {},
   "outputs": [],
   "source": [
    "translator = Translator(\n",
    "        model=model,\n",
    "        beam_size=beam_size,\n",
    "        max_seq_len=max_seq_len,\n",
    "        src_pad_idx=src_pad_idx,\n",
    "        trg_pad_idx=trg_pad_idx,\n",
    "        trg_bos_idx=trg_bos_idx,\n",
    "        trg_eos_idx=trg_eos_idx).to(device)"
   ]
  },
  {
   "cell_type": "code",
   "execution_count": 70,
   "metadata": {},
   "outputs": [
    {
     "name": "stderr",
     "output_type": "stream",
     "text": [
      "  0%|          | 2/20000 [00:00<25:07, 13.27it/s]"
     ]
    },
    {
     "name": "stdout",
     "output_type": "stream",
     "text": [
      "********************************************************************************\n",
      "Source:  What are the benefits of using digital signage for your business ?\n",
      "Target:  What would digital signage do for your business ?\n",
      "Input:  [CLS] What are the benefits of using digital signage for your business ? [SEP] the in your of for to . on about a ? our this broker are ,age What sign advantages link were benefits chances mile [SEP]\n",
      "Predict:  What are the benefits of a mileage ?\n",
      "********************************************************************************\n",
      "Source:  How can I speak faster ?\n",
      "Target:  How can you speak faster ?\n",
      "Input:  [CLS] How can I speak faster ? [SEP] . you ? it How that could can go do move run walk be did ! I get he she But would travel think Why [SEP]\n",
      "Predict:  Is time travel possible ? If yes , how ?\n",
      "********************************************************************************\n",
      "Source:  How do I tell a girl I like her ?\n",
      "Target:  What is the best way to tell a girl that you really like her ?\n",
      "Input:  [CLS] How do I tell a girl I like her ? [SEP] you to I that one this know ? something they not just me love How girl do a can could tell the . woman guy [SEP]\n",
      "Predict:  How do I tell a girl I love me ?\n"
     ]
    },
    {
     "name": "stderr",
     "output_type": "stream",
     "text": [
      "  0%|          | 6/20000 [00:00<23:41, 14.07it/s]"
     ]
    },
    {
     "name": "stdout",
     "output_type": "stream",
     "text": [
      "********************************************************************************\n",
      "Source:  How can you lose weight quickly ?\n",
      "Target:  How do I lose weight and reduce my waist quickly ?\n",
      "Input:  [CLS] How can you lose weight quickly ? [SEP] ? lose too How that do can gain did could But so . I shed ! will shift you how would she And lost he [SEP]\n",
      "Predict:  How can I remember my lost person ?\n",
      "********************************************************************************\n",
      "Source:  How can I travel the world for free ?\n",
      "Target:  What is the best way to travel around the world for free ?\n",
      "Input:  [CLS] How can I travel the world for free ? [SEP] that this . you ? her , the could can How world do did ! for I would rule see leave But run will we [SEP]\n",
      "Predict:  How can we save the world ?\n",
      "********************************************************************************\n",
      "Source:  What are some good hosts that have free website builders ?\n",
      "Target:  What is the best free mobile website builder ?\n",
      "Input:  [CLS] What are some good hosts that have free website builders ? [SEP] , with are - sites the Who ? about who . websites that access Where There What How of these blogs ! companies to schools [SEP]\n",
      "Predict:  What are the best blogs ?\n"
     ]
    },
    {
     "name": "stderr",
     "output_type": "stream",
     "text": [
      "  0%|          | 8/20000 [00:00<40:56,  8.14it/s]"
     ]
    },
    {
     "name": "stdout",
     "output_type": "stream",
     "text": [
      "********************************************************************************\n",
      "Source:  If someone is standing at a close distance and he shoots me in the face with a AE Desert Eagle do I have any chance to survive ?\n",
      "Target:  Has the 50AE Desert eagle a almost 99 % kill chance with a headshot at close range ?\n",
      "Input:  [CLS] If someone is standing at a close distance and he shoots me in the face with a 50AE Desert Eagle , do I have any chance to survive ? [SEP] the a , in to at I . someone my he and on this one some with H that SP of such from will it [SEP]\n",
      "Predict:  If I have a shot in the head with a Desert at a . Can I survive ?\n",
      "********************************************************************************\n",
      "Source:  How long does it take to get pregnant after sex during ovulation ?\n",
      "Target:  How many days does it take before a woman becomes pregnant after sex ?\n",
      "Input:  [CLS] How long does it take to get pregnant after sex during ovulation ? [SEP] and , or belation o .vu without - after take with for to beforelating O long ?m wouldcumy How [SEP]\n",
      "Predict:  How long could I wait to obsercribe in my period ?\n"
     ]
    },
    {
     "name": "stderr",
     "output_type": "stream",
     "text": [
      "  0%|          | 11/20000 [00:01<46:51,  7.11it/s]"
     ]
    },
    {
     "name": "stdout",
     "output_type": "stream",
     "text": [
      "********************************************************************************\n",
      "Source:  Whenever I am arguing or sometimes before I even choose to start arguing back my heart beats REALLY loud heavy and fast do I have a heart problem ?\n",
      "Target:  Whenever I am arguing or sometimes before I even choose to start arguing back my heart beats REALLY loud , heavy and fast , do I have a , heart problem ?\n",
      "Input:  [CLS] Whenever I am arguing or sometimes before I even choose to start arguing back my heart beats REALLY loud , heavy and fast do I have a heart problem ? [SEP] , and or I . ... start because when begin stop try to do heart have we fighting yelling my but ? - get the [SEP]\n",
      "Predict:  I ' m a heart . How can I start ?\n",
      "********************************************************************************\n",
      "Source:  How do I hack Android games ?\n",
      "Target:  How do I hack android games ? I have rooted device !\n",
      "Input:  [CLS] How do I hack Android games ? [SEP] ha ?ck ta ni How you so ho . re do Ha cu ! Why waunt can Mo they we Wherenk I [SEP]\n",
      "Predict:  How can we habate ?\n",
      "********************************************************************************\n",
      "Source:  Why do you need to multiply the denominators when you multiply fractions ?\n",
      "Target:  Why are denominators multiplied together when we multiply fractions ?\n",
      "Input:  [CLS] Why do you need to multiply the denominators when you multiply fractions ? [SEP]p multily you we multiple Multi twopipp pPpsppingnatlify people -mpsplierlyinglishomi to [SEP]\n",
      "Predict:  How do you quickly when you have a multipnea ?\n"
     ]
    },
    {
     "name": "stderr",
     "output_type": "stream",
     "text": [
      "  0%|          | 14/20000 [00:01<42:21,  7.86it/s]"
     ]
    },
    {
     "name": "stdout",
     "output_type": "stream",
     "text": [
      "********************************************************************************\n",
      "Source:  Why are the large stadiums like Camp Nou Bernabau and Signal Iduna Park not hosting for the UEFA Euro ?\n",
      "Target:  Why are large stadiums like Camp Nou , Bernabau or Signal Iduna park not hosting UEFA euro 2020 ?\n",
      "Input:  [CLS] Why are the large stadiums like Camp Nou , Bernabau and Signal Iduna Park not hosting for the UEFA Euro 2020 ? [SEP] , Stadium in thes 2020 at of and Euroaba stadium Oru Mont all 2012 also upcoming . 2019 or other Park - [SEP]\n",
      "Predict:  What are the new technologies that US national flags can improve on Messenger ?\n",
      "********************************************************************************\n",
      "Source:  Why does society value skinny people more than overweight people ?\n",
      "Target:  Does society care about skinny people more than overweight people ?\n",
      "Input:  [CLS] Why does society value skinny people more than overweight people ? [SEP] over people - men women . girls likeweight guys ones kids individuals ? children skinny , older than more ... did does would and [SEP]\n",
      "Predict:  As a female , would you prefer skinny or fit ?\n",
      "********************************************************************************\n",
      "Source:  What is hip hop ?\n",
      "Target:  What is the hip hop genre ?\n",
      "Input:  [CLS] What is hip hop ? [SEP] ? , to . What ! Where about was is hoppie Who How This ; apy the what Whichpo ofpies where [SEP]\n",
      "Predict:  What is a syncpoina ?\n"
     ]
    },
    {
     "name": "stderr",
     "output_type": "stream",
     "text": [
      "\r",
      "  0%|          | 16/20000 [00:01<41:27,  8.03it/s]"
     ]
    },
    {
     "name": "stdout",
     "output_type": "stream",
     "text": [
      "********************************************************************************\n",
      "Source:  Is the e commerce industry in India a bubble ?\n",
      "Target:  Is this e - commerce industry in India a bubble ?\n",
      "Input:  [CLS] Is the e - commerce industry in India a bubble ? [SEP] in - the . business of reality electronic book ? at for e Is ... commerce Was industry E market mail ! problem sector gonna [SEP]\n",
      "Predict:  Is e - commerce sector really important ?\n",
      "********************************************************************************\n",
      "Source:  What was the significance of the battle of Somme and how did this battle compare and contrast to the Battle of Matapan ?\n",
      "Target:  What was the significance of the battle of Somme , and how did this battle compare and contrast to the Battle of The Yellow Sea ?\n",
      "Input:  [CLS] What was the significance of the battle of Somme , and how did this battle compare and contrast to the Battle of Matapan ? [SEP] the in of this a at with that for The and Battle battle , . to ? its on did was anyrak their then [SEP]\n",
      "Predict:  What was the significance of the Battle of Somme ?\n"
     ]
    },
    {
     "name": "stderr",
     "output_type": "stream",
     "text": [
      "\r",
      "  0%|          | 18/20000 [00:01<37:10,  8.96it/s]"
     ]
    },
    {
     "name": "stdout",
     "output_type": "stream",
     "text": [
      "********************************************************************************\n",
      "Source:  How can I control emotional stress ?\n",
      "Target:  How do I control my emotion and sadness ?\n",
      "Input:  [CLS] How can I control emotional stress ? [SEP] . ? that How do can could did ! the handle would I this my you But will how should she feel ; we does [SEP]\n",
      "Predict:  How can I handle my life ?\n",
      "********************************************************************************\n",
      "Source:  How different are the Spanish spoken in all Hispanic countries ? Are they mutually intelligible ?\n",
      "Target:  How mutually intelligible is the Spanish spoken in Spain with that spoken in Mexico , Chile , Argentina , Colombia , etc . ?\n",
      "Input:  [CLS] How different are the Spanish spoken in all Hispanic countries ? Are they mutually intelligible ? [SEP] in these languages the all ? dialects . How those ourlitel are , theygible communities words varieties ! language other from we [SEP]\n",
      "Predict:  How are humans different from other languages ?\n"
     ]
    },
    {
     "name": "stderr",
     "output_type": "stream",
     "text": [
      "\r",
      "  0%|          | 20/20000 [00:02<34:24,  9.68it/s]"
     ]
    },
    {
     "name": "stdout",
     "output_type": "stream",
     "text": [
      "********************************************************************************\n",
      "Source:  How can I get a complete list of all my gmail accounts ?\n",
      "Target:  How can I get a list of my Gmail accounts ?\n",
      "Input:  [CLS] How can I get a complete list of all my gmail accounts ? [SEP] the my your his in ? a all ... one of list Iuild do How did black hot listing messages .mail have could [SEP]\n",
      "Predict:  How do I find all of my Gmail accounts ?\n",
      "********************************************************************************\n",
      "Source:  What s the purpose of life ? What is life actually about ?\n",
      "Target:  What is the purpose of life ? Why are we here ?\n",
      "Input:  [CLS] What ' s the purpose of life ? What is life actually about ? [SEP] ? . is What that , this s - what life meaning : Where ! really it about Who for ' Is \" Whatever the [SEP]\n",
      "Predict:  What is the meaning of life ?\n",
      "********************************************************************************\n",
      "Source:  Why do people think Trump is racist ?\n",
      "Target:  How did Donald Trump become such a racist ?\n",
      "Input:  [CLS] Why do people think Trump is racist ? [SEP] . I ? think do Why believe you would is should say was they feel assume people did ! does How we claim must Or [SEP]\n",
      "Predict:  Why do we feel think ?\n"
     ]
    },
    {
     "name": "stderr",
     "output_type": "stream",
     "text": [
      "\r",
      "  0%|          | 22/20000 [00:02<31:00, 10.74it/s]"
     ]
    },
    {
     "name": "stdout",
     "output_type": "stream",
     "text": [
      "********************************************************************************\n",
      "Source:  What can we study after pursuing graduation in Physics ?\n",
      "Target:  What are the fields of study after graduating with a BSc in Physics ?\n",
      "Input:  [CLS] What can we study after pursuing graduation in Physics ? [SEP] . do ? in college school , - while before How would our What will expect should Where say about for did can I when [SEP]\n",
      "Predict:  What can a high school do when you are in school ?\n",
      "********************************************************************************\n",
      "Source:  Who was the worst teacher or professor you ve come across ?\n",
      "Target:  Who was your worst teacher and why ?\n",
      "Input:  [CLS] Who was the worst teacher or professor you ' ve come across ? [SEP] , to I could . teacher come across d ' student and ? run the one ve can - ... came you is ll we [SEP]\n",
      "Predict:  How can I look as a student ?\n"
     ]
    },
    {
     "name": "stderr",
     "output_type": "stream",
     "text": [
      "  0%|          | 26/20000 [00:02<30:06, 11.06it/s]"
     ]
    },
    {
     "name": "stdout",
     "output_type": "stream",
     "text": [
      "********************************************************************************\n",
      "Source:  What is the best thing to say when a police officer asks do you know why I pulled you over ?\n",
      "Target:  What should you say when asked \" Do you know why I pulled you over ? \"\n",
      "Input:  [CLS] What is the best thing to say when a police officer asks do you know why I pulled you over ? [SEP] , you that they I if the a to we know do and people remember when he your . how see like asked her my [SEP]\n",
      "Predict:  How do you know if your partner was posted ?\n",
      "********************************************************************************\n",
      "Source:  Should I trust answers on Quora ?\n",
      "Target:  Should I trust everything I read on Quora ?\n",
      "Input:  [CLS] Should I trust answers on Quora ? [SEP] ? you ,uadua anyoneadaasui someone .ant ituoaeal Q have !ut getrum to from ; [SEP]\n",
      "Predict:  How do you get from Quora ?\n",
      "********************************************************************************\n",
      "Source:  What should I do to reduce weight ?\n",
      "Target:  How do I lose weight ?\n",
      "Input:  [CLS] What should I do to reduce weight ? [SEP] do ? . add , it ... - : What lose to can could did gain should wear would I must say what ! eat [SEP]\n",
      "Predict:  How can I eat more ?\n"
     ]
    },
    {
     "name": "stderr",
     "output_type": "stream",
     "text": [
      "\r",
      "  0%|          | 28/20000 [00:02<28:47, 11.56it/s]"
     ]
    },
    {
     "name": "stdout",
     "output_type": "stream",
     "text": [
      "********************************************************************************\n",
      "Source:  What is the most disturbing dream you ve ever had ?\n",
      "Target:  What is the most bizarre dream you have ever had ?\n",
      "Input:  [CLS] What is the most disturbing dream you ' ve ever had ? [SEP] , ? I this . ever ve most ! ' had the ... \" d experienced - least you : ll that was re amazing [SEP]\n",
      "Predict:  What is the most amazing act you have ever had ?\n",
      "********************************************************************************\n",
      "Source:  Is it bad for health to eat eggs every day ?\n",
      "Target:  Are peanuts healthy , especially to eat every day ?\n",
      "Input:  [CLS] Is it bad for health to eat eggs every day ? [SEP] to that it . you one time ? I , every and day Was this all - Is morning night for week each month year [SEP]\n",
      "Predict:  Is it time for a day ?\n"
     ]
    },
    {
     "name": "stderr",
     "output_type": "stream",
     "text": [
      "\r",
      "  0%|          | 30/20000 [00:03<34:24,  9.67it/s]"
     ]
    },
    {
     "name": "stdout",
     "output_type": "stream",
     "text": [
      "********************************************************************************\n",
      "Source:  Do you think Indian governments decision to demonetize the and rupee note is a sudden action ?\n",
      "Target:  What do you think of the decision by the Indian government to demonetize 500 and 1000 rupee notes ?\n",
      "Input:  [CLS] Do you think Indian governments decision to demonetize the 500 and 1000 rupee note is a sudden action ? [SEP] to a - 500 1000 the .eti 5000upe 3000 200 100 monkesrailie decision anditize r political [SEP]\n",
      "Predict:  What do you think of the decision by the Indian Government to replace 1000 notes with 2000 notes ?\n",
      "********************************************************************************\n",
      "Source:  How can I edit a question which has already been asked on Quora ?\n",
      "Target:  How do I edit my question on Quora when I realize that I misspelled a word ?\n",
      "Input:  [CLS] How can I edit a question which has already been asked on Quora ? [SEP] I one that already never about this been it ? , has she haduad answer question the not a .rum How do just [SEP]\n",
      "Predict:  How do I ask questions on Quora ?\n"
     ]
    },
    {
     "name": "stderr",
     "output_type": "stream",
     "text": [
      "\r",
      "  0%|          | 32/20000 [00:03<34:41,  9.59it/s]"
     ]
    },
    {
     "name": "stdout",
     "output_type": "stream",
     "text": [
      "********************************************************************************\n",
      "Source:  Why do so may people ask questions on Quora that can easily be found by a simple Google searh ?\n",
      "Target:  Why do people on Quora ask silly questions about the facts which can be googled very easily ?\n",
      "Input:  [CLS] Why do so may people ask questions on Quora that can easily be found by a simple Google searh ? [SEP] , . have not easily and be just in on to do get as from at then I now C you ... are t they [SEP]\n",
      "Predict:  How do I get so old on Google ?\n",
      "********************************************************************************\n",
      "Source:  What is Wall Street ?\n",
      "Target:  What does Wall Street mean ?\n",
      "Input:  [CLS] What is Wall Street ? [SEP] ? . about ! Where What How Who This was is ; of Which where Main Street if on in Why That It withington [SEP]\n",
      "Predict:  What is the function of tube ?\n",
      "********************************************************************************\n",
      "Source:  How do you factory reset a Toshiba laptop ?\n",
      "Target:  How do you factory reset a Toshiba Satellite Pro ?\n",
      "Input:  [CLS] How do you factory reset a Toshiba laptop ? [SEP] a the canshiko your To So ? someba re to that - How pre . didchi dodai couldcyclek [SEP]\n",
      "Predict:  How do I reset a Toshik ?\n"
     ]
    },
    {
     "name": "stderr",
     "output_type": "stream",
     "text": [
      "\r",
      "  0%|          | 34/20000 [00:03<32:27, 10.25it/s]"
     ]
    },
    {
     "name": "stdout",
     "output_type": "stream",
     "text": [
      "********************************************************************************\n",
      "Source:  How do I set a goal ?\n",
      "Target:  How do I set my goal in life ?\n",
      "Input:  [CLS] How do I set a goal ? [SEP] that one ? my you How this a I the . do could reach did Where achieve can we ! When Why accomplish trap score [SEP]\n",
      "Predict:  How do I find a plan for my first summer ?\n",
      "********************************************************************************\n",
      "Source:  How can I impress my crush ?\n",
      "Target:  How do you impress your crush ?\n",
      "Input:  [CLS] How can I impress my crush ? [SEP] that . this ? How I my do can a ! could did his her the forget would your he will should she resist When [SEP]\n",
      "Predict:  How can I reach my life ?\n"
     ]
    },
    {
     "name": "stderr",
     "output_type": "stream",
     "text": [
      "  0%|          | 38/20000 [00:03<29:25, 11.31it/s]"
     ]
    },
    {
     "name": "stdout",
     "output_type": "stream",
     "text": [
      "********************************************************************************\n",
      "Source:  How can the drive from Edmonton to Auckland be described and how does the history of these cities compare and contrast ?\n",
      "Target:  How can the drive from Edmonton to Auckland be described , and how do these cities ' attractions compare to those in Ottawa ?\n",
      "Input:  [CLS] How can the drive from Edmonton to Auckland be described , and how does the history of these cities compare and contrast ? [SEP] the and for to in or can does . how roads of ? our How from this will could should between do did contrast may [SEP]\n",
      "Predict:  How can one compare and contrast to the Canadian cities ?\n",
      "********************************************************************************\n",
      "Source:  How did aurangzeb die ?\n",
      "Target:  How did Mughal Emperor Aurangzeb die ?\n",
      "Input:  [CLS] How did aurangzeb die ? [SEP] Rala ? do Hi He he Y could did Lu How Ni would laulu Xiua hi . ! know When canio [SEP]\n",
      "Predict:  How can I start lazine ?\n",
      "********************************************************************************\n",
      "Source:  How do I get rid of ingrown hair ?\n",
      "Target:  How do you remove ingrown hair ?\n",
      "Input:  [CLS] How do I get rid of ingrown hair ? [SEP]row my get ? ofotteeni ingraw How fn Iraze ganne doonia yououau that .ani d [SEP]\n",
      "Predict:  How can I get rid of ghon ?\n"
     ]
    },
    {
     "name": "stderr",
     "output_type": "stream",
     "text": [
      "\r",
      "  0%|          | 40/20000 [00:03<28:02, 11.87it/s]"
     ]
    },
    {
     "name": "stdout",
     "output_type": "stream",
     "text": [
      "********************************************************************************\n",
      "Source:  What will happen if electrons get crashed into into the nucleus ?\n",
      "Target:  Why don ' t electrons crash into the nucleus ?\n",
      "Input:  [CLS] What will happen if electrons get crashed into into the nucleus ? [SEP] back . we be should happen in ... What ? will would if when - are I the occur \" could what does might can [SEP]\n",
      "Predict:  What is the use of \" what we live \" ?\n",
      "********************************************************************************\n",
      "Source:  Which is the best phone below ?\n",
      "Target:  Which is the best phone to buy within Rs . 15000 ?\n",
      "Input:  [CLS] Which is the best phone below 15000 ? [SEP] is ? , : the - . was your What 800 ! Where our 600 210 220 my 700 How ; 900 at 108 MHz [SEP]\n",
      "Predict:  What is the use of 9k ?\n",
      "********************************************************************************\n",
      "Source:  How can I extract email addresses from a list of websites ?\n",
      "Target:  How can I extract email addresses from websites ?\n",
      "Input:  [CLS] How can I extract email addresses from a list of websites ? [SEP] of and addresses my the your messages their numbers on or our ? for people about that from How do a number . get variety [SEP]\n",
      "Predict:  How do I increase the capital of a number ?\n"
     ]
    },
    {
     "name": "stderr",
     "output_type": "stream",
     "text": [
      "  0%|          | 44/20000 [00:04<26:22, 12.61it/s]"
     ]
    },
    {
     "name": "stdout",
     "output_type": "stream",
     "text": [
      "********************************************************************************\n",
      "Source:  What impact do the different size tracks have on NASCAR racing ?\n",
      "Target:  What impact do the different sizes tracks have on NASCAR racing ?\n",
      "Input:  [CLS] What impact do the different size tracks have on NASCAR racing ? [SEP] the have . racing races ? NASCAR teams What on road dirt did do impact what would effect influence could does these had in will [SEP]\n",
      "Predict:  What is the impact of road road ?\n",
      "********************************************************************************\n",
      "Source:  What s your biggest fear if Trump becomes President ?\n",
      "Target:  What would you fear most if Donald Trump becomes president ?\n",
      "Input:  [CLS] What ' s your biggest fear if Trump becomes President ? [SEP] ? . ' is s that , : \" becomes What your president President when biggest the if his fear our my d problem - [SEP]\n",
      "Predict:  What is your biggest president ?\n",
      "********************************************************************************\n",
      "Source:  What are some examples of easy similes ?\n",
      "Target:  What are examples of similes ?\n",
      "Input:  [CLS] What are some examples of easy similes ? [SEP] of , about si these the ?mile and some other - are .ssie kindszzle What kindeves sort typesbling were [SEP]\n",
      "Predict:  What are some of the unlucks of each other ?\n"
     ]
    },
    {
     "name": "stderr",
     "output_type": "stream",
     "text": [
      "\r",
      "  0%|          | 46/20000 [00:04<29:18, 11.35it/s]"
     ]
    },
    {
     "name": "stdout",
     "output_type": "stream",
     "text": [
      "********************************************************************************\n",
      "Source:  Which is your best Korean Drama and why ?\n",
      "Target:  What are best Korean dramas to watch ?\n",
      "Input:  [CLS] Which is your best Korean Drama and why ? [SEP] ? , . : favorite ! ; of ... in - the is This What my was favourite It Which and your Drama Who Where [SEP]\n",
      "Predict:  What is your favorite drama of any country ?\n",
      "********************************************************************************\n",
      "Source:  Is it true that currency notes in India are embedded with GPS chips ? Can it be done at all ?\n",
      "Target:  Is it true that the new 2000 rupees notes have a GPS chips ?\n",
      "Input:  [CLS] Is it true that ₹ 2000 currency notes in India are embedded with GPS chips ? Can it be done at all ? [SEP] that in ? by . , not it be all the with true for get this from possible is on of ! issued have within [SEP]\n",
      "Predict:  Is it true that the US currency is pro Plus ?\n"
     ]
    },
    {
     "name": "stderr",
     "output_type": "stream",
     "text": [
      "\r",
      "  0%|          | 48/20000 [00:04<30:28, 10.91it/s]"
     ]
    },
    {
     "name": "stdout",
     "output_type": "stream",
     "text": [
      "********************************************************************************\n",
      "Source:  What is the introduction about changes in size and pattern of primary sector to national income of India ?\n",
      "Target:  Contribution of primary sector to national income in India introduction ?\n",
      "Input:  [CLS] What is the introduction about changes in size and pattern of primary sector to national income of India ? [SEP] of in , to for and the from by or on / contribution - ratio level education access this ? difference quality employment scale average [SEP]\n",
      "Predict:  What is the average day of education ?\n",
      "********************************************************************************\n",
      "Source:  How can I make my Snapchat score increase faster ?\n",
      "Target:  How does score increase on Snapchat ?\n",
      "Input:  [CLS] How can I make my Snapchat score increase faster ? [SEP] that St .cha this s ?nap will up makert Howtsstar anyinhhate dott myshot [SEP]\n",
      "Predict:  How can I make my Snapchat faster ?\n",
      "********************************************************************************\n",
      "Source:  Is backward time travel possible ?\n",
      "Target:  Is time travel possible after the discovery of gravitational waves ?\n",
      "Input:  [CLS] Is backward time travel possible ? [SEP] . ? ... Was true Is time possible even ! really space actually ; this impossible was ever still is Make air not the Were [SEP]\n",
      "Predict:  Is time ?\n"
     ]
    },
    {
     "name": "stderr",
     "output_type": "stream",
     "text": [
      "  0%|          | 52/20000 [00:04<26:38, 12.48it/s]"
     ]
    },
    {
     "name": "stdout",
     "output_type": "stream",
     "text": [
      "********************************************************************************\n",
      "Source:  Why is China not supporting India s bid to list Azhar as designated terrorist ?\n",
      "Target:  Why is China blocking the move at UN to ban Masood Azhar as terrorist ?\n",
      "Input:  [CLS] Why is China not supporting India ' s bid to list Azhar as designated terrorist ? [SEP] a . the ? s A ' , Pakistan - India Russia Iran America China Israelszfs to and another \" is for [SEP]\n",
      "Predict:  Why does China support India ?\n",
      "********************************************************************************\n",
      "Source:  What tools are needed for a data scientist ?\n",
      "Target:  What are must know tools for a data scientist ?\n",
      "Input:  [CLS] What tools are needed for a data scientist ? [SEP] this ? that , What . a as by skills for ! in there resources needed the from what tools were those ; good Whatever [SEP]\n",
      "Predict:  What are some good resources ?\n",
      "********************************************************************************\n",
      "Source:  What are your views about bisexuality ?\n",
      "Target:  How do you view bisexuality ?\n",
      "Input:  [CLS] What are your views about bisexuality ? [SEP] about of ? What are onity theories thoughts feelings ideas beliefs . views fears concerns opinions your arguments were !s regarding stupid van [SEP]\n",
      "Predict:  What are your views on stupid nature ?\n"
     ]
    },
    {
     "name": "stderr",
     "output_type": "stream",
     "text": [
      "\r",
      "  0%|          | 54/20000 [00:05<27:01, 12.30it/s]"
     ]
    },
    {
     "name": "stdout",
     "output_type": "stream",
     "text": [
      "********************************************************************************\n",
      "Source:  Which is the best state to live in India ?\n",
      "Target:  Which ' s the best state in India ?\n",
      "Input:  [CLS] Which is the best state to live in India ? [SEP] , ? way in for what ... the : which next - . is to place What reason was of you ! Where I we [SEP]\n",
      "Predict:  What is the reason for to live in ?\n",
      "********************************************************************************\n",
      "Source:  West Bengal is to the east of India . Why is it called West Bengal ?\n",
      "Target:  West bengal is in east India . Then why is it named West ?\n",
      "Input:  [CLS] West Bengal is to the east of India . Why is it called West Bengal ? [SEP] Bengal , India Bangladesh Kolkata West Calcutta . East in Pakistan is North South ? it was north of - south ! west But ; [SEP]\n",
      "Predict:  Why is Nepal called the West China ?\n",
      "********************************************************************************\n",
      "Source:  Does green tea really help in losing weight ?\n",
      "Target:  Why is Lipton ' s green tea helpful for losing weight ?\n",
      "Input:  [CLS] Does green tea really help in losing weight ? [SEP] help tea ? you people my her Would that aid result Could Did with assist losing . Does Will really gaining succeed adding work benefit [SEP]\n",
      "Predict:  How does work hard help you lose ?\n"
     ]
    },
    {
     "name": "stderr",
     "output_type": "stream",
     "text": [
      "\r",
      "  0%|          | 56/20000 [00:05<27:58, 11.88it/s]"
     ]
    },
    {
     "name": "stdout",
     "output_type": "stream",
     "text": [
      "********************************************************************************\n",
      "Source:  Which is the best QuickBooks Tech Support Number in Las Vegas ?\n",
      "Target:  What is the best QuickBooks support number in Arkansas ?\n",
      "Input:  [CLS] Which is the best QuickBooks Tech Support Number in Las Vegas ? [SEP] - for the ? ofer VegassB Las . and / : ,ookL with 'GT inJ WhatM [SEP]\n",
      "Predict:  What is the importance of pros and cons in eBooks ?\n",
      "********************************************************************************\n",
      "Source:  If you were my Quora crush how should I approach you ?\n",
      "Target:  If you are my Quora crush , how should I approach you ?\n",
      "Input:  [CLS] If you were my Quora crush , how should I approach you ? [SEP] it you then know , I that this .uadua she ? ... he ; whyuo -rumuiant how anyoneada [SEP]\n",
      "Predict:  How do you know if you ' ve never met you ?\n"
     ]
    },
    {
     "name": "stderr",
     "output_type": "stream",
     "text": [
      "  0%|          | 60/20000 [00:05<27:49, 11.95it/s]"
     ]
    },
    {
     "name": "stdout",
     "output_type": "stream",
     "text": [
      "********************************************************************************\n",
      "Source:  How can I see the saved Wi Fi passwords on my mobile ?\n",
      "Target:  How do I know a typed Wi - Fi password in my mobile ?\n",
      "Input:  [CLS] How can I see the saved Wi - Fi passwords on my mobile ? [SEP] Fi - / . W myi the Channel your ... fi his screen their ? w ' Sc V * on B Cis [SEP]\n",
      "Predict:  What is the Wi - Fi systems ?\n",
      "********************************************************************************\n",
      "Source:  Where can I get a list of Forbes billionaires ?\n",
      "Target:  Where can I find a list of Forbes 400 billionaires ?\n",
      "Input:  [CLS] Where can I get a list of Forbes 400 billionaires ? [SEP] the my his likes ? people find of with did do a list : would How get . you can I and see could [SEP]\n",
      "Predict:  How can I find a list of people ?\n",
      "********************************************************************************\n",
      "Source:  Which government job is best in India ?\n",
      "Target:  What is the best government job in India ?\n",
      "Input:  [CLS] Which government job is best in India ? [SEP] is it ? , government was in . for What Which worked works ! the ; went paid what The sector A came ranked that [SEP]\n",
      "Predict:  What are the best government bike inventions ?\n"
     ]
    },
    {
     "name": "stderr",
     "output_type": "stream",
     "text": [
      "\r",
      "  0%|          | 62/20000 [00:05<29:09, 11.39it/s]"
     ]
    },
    {
     "name": "stdout",
     "output_type": "stream",
     "text": [
      "********************************************************************************\n",
      "Source:  I know nothing about programming . What is the best way and the best language to start learning how to program ?\n",
      "Target:  What is the best way to learn to code ? And the best language to learn ?\n",
      "Input:  [CLS] I know nothing about programming . What is the best way and the best language to start learning how to program ? [SEP] , and ... to - is . ; the I you or with they we about ? a best : right of how way ! [SEP]\n",
      "Predict:  How do I start learning programming ?\n",
      "********************************************************************************\n",
      "Source:  Who is first person in this world ?\n",
      "Target:  Who was the first person in the world ?\n",
      "Input:  [CLS] Who is first person in this world ? [SEP] the this that a my ? , in place Who . of What was ! Where is to ; one on another How every who [SEP]\n",
      "Predict:  What is the place in which we live in ?\n",
      "********************************************************************************\n",
      "Source:  What is it like to be a man with histrionic personality disorder HPD ?\n",
      "Target:  What does it feel like to have histrionic personality disorder ?\n",
      "Input:  [CLS] What is it like to be a man with histrionic personality disorder ( HPD ) ? [SEP] ,D foronic ( ) .V - he to in thetri his disorder like having ?HDoticPDological withSD [SEP]\n",
      "Predict:  How does it feel like to have your personality disorder ?\n"
     ]
    },
    {
     "name": "stderr",
     "output_type": "stream",
     "text": [
      "  0%|          | 66/20000 [00:06<27:26, 12.11it/s]"
     ]
    },
    {
     "name": "stdout",
     "output_type": "stream",
     "text": [
      "********************************************************************************\n",
      "Source:  What are the seven deadly sins ?\n",
      "Target:  What are the seven deadly sins ? Doctor Faustus ?\n",
      "Input:  [CLS] What are the seven deadly sins ? [SEP] ? , What the . Where about ! of deadly these sins were those are most ; weapons truly your These other Who Those what [SEP]\n",
      "Predict:  What is the most weapons ?\n",
      "********************************************************************************\n",
      "Source:  Why do I find medieval history so interesting ?\n",
      "Target:  Why is medieval history so interesting ?\n",
      "Input:  [CLS] Why do I find medieval history so interesting ? [SEP] this find ? Why do did so you I How would should make fascinating . found does keep why miss think ! confusing people interesting [SEP]\n",
      "Predict:  Why do people find everything interesting ?\n",
      "********************************************************************************\n",
      "Source:  What is the easiest way to crack gate ?\n",
      "Target:  How I do crack gate ?\n",
      "Input:  [CLS] What is the easiest way to crack gate ? [SEP] the thisest easi her , our . your my a that his their E ? une oferi way te wasaster [SEP]\n",
      "Predict:  What is the easiest way to remember yourself ?\n",
      "********************************************************************************\n",
      "Source:  Why men watch porn ?\n",
      "Target:  Why do men have to watch porn ?\n",
      "Input:  [CLS] Why men watch porn ? [SEP] doorn ? not . monies Alrank th Do Did ! picsiracy aloo Fang Wouldawsonyews Couldoop [SEP]\n",
      "Predict:  Why do we poop ?\n"
     ]
    },
    {
     "name": "stderr",
     "output_type": "stream",
     "text": [
      "  0%|          | 69/20000 [00:06<30:44, 10.80it/s]"
     ]
    },
    {
     "name": "stdout",
     "output_type": "stream",
     "text": [
      "********************************************************************************\n",
      "Source:  What are some of the best songs by Linkin Park ?\n",
      "Target:  What is the best Linkin Park song ?\n",
      "Input:  [CLS] What are some of the best songs by Linkin Park ? [SEP] of Park about in , Linkin more ? the some with and say . on songs are from byins were ! Where many [SEP]\n",
      "Predict:  What are some songs on Linkin ?\n",
      "********************************************************************************\n",
      "Source:  Which is currently the best IAS coaching centre in Hyderabad ?\n",
      "Target:  Could anyone help me with the best IAS coaching centers in Hyderabad ?\n",
      "Input:  [CLS] Which is currently the best IAS coaching centre in Hyderabad ? [SEP] in ,M ofC . at IndiaCT is the I U ; What IF training AIB IT O BC !R only [SEP]\n",
      "Predict:  What is the best MPR training course at BCA ?\n"
     ]
    },
    {
     "name": "stderr",
     "output_type": "stream",
     "text": [
      "\n"
     ]
    },
    {
     "ename": "KeyboardInterrupt",
     "evalue": "",
     "output_type": "error",
     "traceback": [
      "\u001b[0;31m---------------------------------------------------------------------------\u001b[0m",
      "\u001b[0;31mKeyboardInterrupt\u001b[0m                         Traceback (most recent call last)",
      "\u001b[0;32m<ipython-input-70-19dfb3b35ff3>\u001b[0m in \u001b[0;36m<module>\u001b[0;34m\u001b[0m\n\u001b[1;32m      2\u001b[0m \u001b[0moutput_file\u001b[0m \u001b[0;34m=\u001b[0m \u001b[0;34m'../outputs/tmp.txt'\u001b[0m\u001b[0;34m\u001b[0m\u001b[0;34m\u001b[0m\u001b[0m\n\u001b[1;32m      3\u001b[0m \u001b[0;32mwith\u001b[0m \u001b[0mopen\u001b[0m\u001b[0;34m(\u001b[0m\u001b[0moutput_file\u001b[0m\u001b[0;34m,\u001b[0m \u001b[0;34m'w'\u001b[0m\u001b[0;34m)\u001b[0m \u001b[0;32mas\u001b[0m \u001b[0mf\u001b[0m\u001b[0;34m:\u001b[0m\u001b[0;34m\u001b[0m\u001b[0;34m\u001b[0m\u001b[0m\n\u001b[0;32m----> 4\u001b[0;31m     \u001b[0;32mfor\u001b[0m \u001b[0mi\u001b[0m\u001b[0;34m,\u001b[0m \u001b[0;34m(\u001b[0m\u001b[0mseq1\u001b[0m\u001b[0;34m,\u001b[0m \u001b[0mseq2\u001b[0m\u001b[0;34m)\u001b[0m \u001b[0;32min\u001b[0m \u001b[0menumerate\u001b[0m\u001b[0;34m(\u001b[0m\u001b[0mtqdm\u001b[0m\u001b[0;34m(\u001b[0m\u001b[0mdata_loader\u001b[0m\u001b[0;34m)\u001b[0m\u001b[0;34m)\u001b[0m\u001b[0;34m:\u001b[0m\u001b[0;34m\u001b[0m\u001b[0;34m\u001b[0m\u001b[0m\n\u001b[0m\u001b[1;32m      5\u001b[0m         \u001b[0msrc_line\u001b[0m\u001b[0;34m,\u001b[0m \u001b[0mtrg_line\u001b[0m \u001b[0;34m=\u001b[0m \u001b[0mtext_dataset\u001b[0m\u001b[0;34m.\u001b[0m\u001b[0msentences\u001b[0m\u001b[0;34m[\u001b[0m\u001b[0mi\u001b[0m\u001b[0;34m]\u001b[0m\u001b[0;34m\u001b[0m\u001b[0;34m\u001b[0m\u001b[0m\n\u001b[1;32m      6\u001b[0m \u001b[0;34m\u001b[0m\u001b[0m\n",
      "\u001b[0;32m~/miniconda3/envs/my_paraphrase_env/lib/python3.7/site-packages/tqdm/std.py\u001b[0m in \u001b[0;36m__iter__\u001b[0;34m(self)\u001b[0m\n\u001b[1;32m   1169\u001b[0m \u001b[0;34m\u001b[0m\u001b[0m\n\u001b[1;32m   1170\u001b[0m         \u001b[0;32mtry\u001b[0m\u001b[0;34m:\u001b[0m\u001b[0;34m\u001b[0m\u001b[0;34m\u001b[0m\u001b[0m\n\u001b[0;32m-> 1171\u001b[0;31m             \u001b[0;32mfor\u001b[0m \u001b[0mobj\u001b[0m \u001b[0;32min\u001b[0m \u001b[0miterable\u001b[0m\u001b[0;34m:\u001b[0m\u001b[0;34m\u001b[0m\u001b[0;34m\u001b[0m\u001b[0m\n\u001b[0m\u001b[1;32m   1172\u001b[0m                 \u001b[0;32myield\u001b[0m \u001b[0mobj\u001b[0m\u001b[0;34m\u001b[0m\u001b[0;34m\u001b[0m\u001b[0m\n\u001b[1;32m   1173\u001b[0m                 \u001b[0;31m# Update and possibly print the progressbar.\u001b[0m\u001b[0;34m\u001b[0m\u001b[0;34m\u001b[0m\u001b[0;34m\u001b[0m\u001b[0m\n",
      "\u001b[0;32m~/miniconda3/envs/my_paraphrase_env/lib/python3.7/site-packages/torch/utils/data/dataloader.py\u001b[0m in \u001b[0;36m__next__\u001b[0;34m(self)\u001b[0m\n\u001b[1;32m    433\u001b[0m         \u001b[0;32mif\u001b[0m \u001b[0mself\u001b[0m\u001b[0;34m.\u001b[0m\u001b[0m_sampler_iter\u001b[0m \u001b[0;32mis\u001b[0m \u001b[0;32mNone\u001b[0m\u001b[0;34m:\u001b[0m\u001b[0;34m\u001b[0m\u001b[0;34m\u001b[0m\u001b[0m\n\u001b[1;32m    434\u001b[0m             \u001b[0mself\u001b[0m\u001b[0;34m.\u001b[0m\u001b[0m_reset\u001b[0m\u001b[0;34m(\u001b[0m\u001b[0;34m)\u001b[0m\u001b[0;34m\u001b[0m\u001b[0;34m\u001b[0m\u001b[0m\n\u001b[0;32m--> 435\u001b[0;31m         \u001b[0mdata\u001b[0m \u001b[0;34m=\u001b[0m \u001b[0mself\u001b[0m\u001b[0;34m.\u001b[0m\u001b[0m_next_data\u001b[0m\u001b[0;34m(\u001b[0m\u001b[0;34m)\u001b[0m\u001b[0;34m\u001b[0m\u001b[0;34m\u001b[0m\u001b[0m\n\u001b[0m\u001b[1;32m    436\u001b[0m         \u001b[0mself\u001b[0m\u001b[0;34m.\u001b[0m\u001b[0m_num_yielded\u001b[0m \u001b[0;34m+=\u001b[0m \u001b[0;36m1\u001b[0m\u001b[0;34m\u001b[0m\u001b[0;34m\u001b[0m\u001b[0m\n\u001b[1;32m    437\u001b[0m         \u001b[0;32mif\u001b[0m \u001b[0mself\u001b[0m\u001b[0;34m.\u001b[0m\u001b[0m_dataset_kind\u001b[0m \u001b[0;34m==\u001b[0m \u001b[0m_DatasetKind\u001b[0m\u001b[0;34m.\u001b[0m\u001b[0mIterable\u001b[0m \u001b[0;32mand\u001b[0m\u001b[0;31m \u001b[0m\u001b[0;31m\\\u001b[0m\u001b[0;34m\u001b[0m\u001b[0;34m\u001b[0m\u001b[0m\n",
      "\u001b[0;32m~/miniconda3/envs/my_paraphrase_env/lib/python3.7/site-packages/torch/utils/data/dataloader.py\u001b[0m in \u001b[0;36m_next_data\u001b[0;34m(self)\u001b[0m\n\u001b[1;32m    473\u001b[0m     \u001b[0;32mdef\u001b[0m \u001b[0m_next_data\u001b[0m\u001b[0;34m(\u001b[0m\u001b[0mself\u001b[0m\u001b[0;34m)\u001b[0m\u001b[0;34m:\u001b[0m\u001b[0;34m\u001b[0m\u001b[0;34m\u001b[0m\u001b[0m\n\u001b[1;32m    474\u001b[0m         \u001b[0mindex\u001b[0m \u001b[0;34m=\u001b[0m \u001b[0mself\u001b[0m\u001b[0;34m.\u001b[0m\u001b[0m_next_index\u001b[0m\u001b[0;34m(\u001b[0m\u001b[0;34m)\u001b[0m  \u001b[0;31m# may raise StopIteration\u001b[0m\u001b[0;34m\u001b[0m\u001b[0;34m\u001b[0m\u001b[0m\n\u001b[0;32m--> 475\u001b[0;31m         \u001b[0mdata\u001b[0m \u001b[0;34m=\u001b[0m \u001b[0mself\u001b[0m\u001b[0;34m.\u001b[0m\u001b[0m_dataset_fetcher\u001b[0m\u001b[0;34m.\u001b[0m\u001b[0mfetch\u001b[0m\u001b[0;34m(\u001b[0m\u001b[0mindex\u001b[0m\u001b[0;34m)\u001b[0m  \u001b[0;31m# may raise StopIteration\u001b[0m\u001b[0;34m\u001b[0m\u001b[0;34m\u001b[0m\u001b[0m\n\u001b[0m\u001b[1;32m    476\u001b[0m         \u001b[0;32mif\u001b[0m \u001b[0mself\u001b[0m\u001b[0;34m.\u001b[0m\u001b[0m_pin_memory\u001b[0m\u001b[0;34m:\u001b[0m\u001b[0;34m\u001b[0m\u001b[0;34m\u001b[0m\u001b[0m\n\u001b[1;32m    477\u001b[0m             \u001b[0mdata\u001b[0m \u001b[0;34m=\u001b[0m \u001b[0m_utils\u001b[0m\u001b[0;34m.\u001b[0m\u001b[0mpin_memory\u001b[0m\u001b[0;34m.\u001b[0m\u001b[0mpin_memory\u001b[0m\u001b[0;34m(\u001b[0m\u001b[0mdata\u001b[0m\u001b[0;34m)\u001b[0m\u001b[0;34m\u001b[0m\u001b[0;34m\u001b[0m\u001b[0m\n",
      "\u001b[0;32m~/miniconda3/envs/my_paraphrase_env/lib/python3.7/site-packages/torch/utils/data/_utils/fetch.py\u001b[0m in \u001b[0;36mfetch\u001b[0;34m(self, possibly_batched_index)\u001b[0m\n\u001b[1;32m     42\u001b[0m     \u001b[0;32mdef\u001b[0m \u001b[0mfetch\u001b[0m\u001b[0;34m(\u001b[0m\u001b[0mself\u001b[0m\u001b[0;34m,\u001b[0m \u001b[0mpossibly_batched_index\u001b[0m\u001b[0;34m)\u001b[0m\u001b[0;34m:\u001b[0m\u001b[0;34m\u001b[0m\u001b[0;34m\u001b[0m\u001b[0m\n\u001b[1;32m     43\u001b[0m         \u001b[0;32mif\u001b[0m \u001b[0mself\u001b[0m\u001b[0;34m.\u001b[0m\u001b[0mauto_collation\u001b[0m\u001b[0;34m:\u001b[0m\u001b[0;34m\u001b[0m\u001b[0;34m\u001b[0m\u001b[0m\n\u001b[0;32m---> 44\u001b[0;31m             \u001b[0mdata\u001b[0m \u001b[0;34m=\u001b[0m \u001b[0;34m[\u001b[0m\u001b[0mself\u001b[0m\u001b[0;34m.\u001b[0m\u001b[0mdataset\u001b[0m\u001b[0;34m[\u001b[0m\u001b[0midx\u001b[0m\u001b[0;34m]\u001b[0m \u001b[0;32mfor\u001b[0m \u001b[0midx\u001b[0m \u001b[0;32min\u001b[0m \u001b[0mpossibly_batched_index\u001b[0m\u001b[0;34m]\u001b[0m\u001b[0;34m\u001b[0m\u001b[0;34m\u001b[0m\u001b[0m\n\u001b[0m\u001b[1;32m     45\u001b[0m         \u001b[0;32melse\u001b[0m\u001b[0;34m:\u001b[0m\u001b[0;34m\u001b[0m\u001b[0;34m\u001b[0m\u001b[0m\n\u001b[1;32m     46\u001b[0m             \u001b[0mdata\u001b[0m \u001b[0;34m=\u001b[0m \u001b[0mself\u001b[0m\u001b[0;34m.\u001b[0m\u001b[0mdataset\u001b[0m\u001b[0;34m[\u001b[0m\u001b[0mpossibly_batched_index\u001b[0m\u001b[0;34m]\u001b[0m\u001b[0;34m\u001b[0m\u001b[0;34m\u001b[0m\u001b[0m\n",
      "\u001b[0;32m~/miniconda3/envs/my_paraphrase_env/lib/python3.7/site-packages/torch/utils/data/_utils/fetch.py\u001b[0m in \u001b[0;36m<listcomp>\u001b[0;34m(.0)\u001b[0m\n\u001b[1;32m     42\u001b[0m     \u001b[0;32mdef\u001b[0m \u001b[0mfetch\u001b[0m\u001b[0;34m(\u001b[0m\u001b[0mself\u001b[0m\u001b[0;34m,\u001b[0m \u001b[0mpossibly_batched_index\u001b[0m\u001b[0;34m)\u001b[0m\u001b[0;34m:\u001b[0m\u001b[0;34m\u001b[0m\u001b[0;34m\u001b[0m\u001b[0m\n\u001b[1;32m     43\u001b[0m         \u001b[0;32mif\u001b[0m \u001b[0mself\u001b[0m\u001b[0;34m.\u001b[0m\u001b[0mauto_collation\u001b[0m\u001b[0;34m:\u001b[0m\u001b[0;34m\u001b[0m\u001b[0;34m\u001b[0m\u001b[0m\n\u001b[0;32m---> 44\u001b[0;31m             \u001b[0mdata\u001b[0m \u001b[0;34m=\u001b[0m \u001b[0;34m[\u001b[0m\u001b[0mself\u001b[0m\u001b[0;34m.\u001b[0m\u001b[0mdataset\u001b[0m\u001b[0;34m[\u001b[0m\u001b[0midx\u001b[0m\u001b[0;34m]\u001b[0m \u001b[0;32mfor\u001b[0m \u001b[0midx\u001b[0m \u001b[0;32min\u001b[0m \u001b[0mpossibly_batched_index\u001b[0m\u001b[0;34m]\u001b[0m\u001b[0;34m\u001b[0m\u001b[0;34m\u001b[0m\u001b[0m\n\u001b[0m\u001b[1;32m     45\u001b[0m         \u001b[0;32melse\u001b[0m\u001b[0;34m:\u001b[0m\u001b[0;34m\u001b[0m\u001b[0;34m\u001b[0m\u001b[0m\n\u001b[1;32m     46\u001b[0m             \u001b[0mdata\u001b[0m \u001b[0;34m=\u001b[0m \u001b[0mself\u001b[0m\u001b[0;34m.\u001b[0m\u001b[0mdataset\u001b[0m\u001b[0;34m[\u001b[0m\u001b[0mpossibly_batched_index\u001b[0m\u001b[0;34m]\u001b[0m\u001b[0;34m\u001b[0m\u001b[0;34m\u001b[0m\u001b[0m\n",
      "\u001b[0;32m~/paraphrase/paraphrase-bert/src/datasets/quora_bert_mask_predict_dataset.py\u001b[0m in \u001b[0;36m__getitem__\u001b[0;34m(self, idx)\u001b[0m\n\u001b[1;32m     66\u001b[0m         \u001b[0;31m# mask each word from the begining to the end\u001b[0m\u001b[0;34m\u001b[0m\u001b[0;34m\u001b[0m\u001b[0;34m\u001b[0m\u001b[0m\n\u001b[1;32m     67\u001b[0m         \u001b[0;31m# get the probability distribution of the mask tokens\u001b[0m\u001b[0;34m\u001b[0m\u001b[0;34m\u001b[0m\u001b[0;34m\u001b[0m\u001b[0m\n\u001b[0;32m---> 68\u001b[0;31m         \u001b[0mpred\u001b[0m \u001b[0;34m=\u001b[0m \u001b[0mself\u001b[0m\u001b[0;34m.\u001b[0m\u001b[0mget_mask_pred_probs\u001b[0m\u001b[0;34m(\u001b[0m\u001b[0mseq1_tensor\u001b[0m\u001b[0;34m)\u001b[0m\u001b[0;34m\u001b[0m\u001b[0;34m\u001b[0m\u001b[0m\n\u001b[0m\u001b[1;32m     69\u001b[0m \u001b[0;34m\u001b[0m\u001b[0m\n\u001b[1;32m     70\u001b[0m         \u001b[0;31m# get the predicted bag of words with the probability distribution above\u001b[0m\u001b[0;34m\u001b[0m\u001b[0;34m\u001b[0m\u001b[0;34m\u001b[0m\u001b[0m\n",
      "\u001b[0;32m~/paraphrase/paraphrase-bert/src/datasets/quora_bert_mask_predict_dataset.py\u001b[0m in \u001b[0;36mget_mask_pred_probs\u001b[0;34m(self, seq1)\u001b[0m\n\u001b[1;32m    124\u001b[0m         \u001b[0;32mwith\u001b[0m \u001b[0mtorch\u001b[0m\u001b[0;34m.\u001b[0m\u001b[0mno_grad\u001b[0m\u001b[0;34m(\u001b[0m\u001b[0;34m)\u001b[0m\u001b[0;34m:\u001b[0m\u001b[0;34m\u001b[0m\u001b[0;34m\u001b[0m\u001b[0m\n\u001b[1;32m    125\u001b[0m             \u001b[0mpred\u001b[0m \u001b[0;34m=\u001b[0m \u001b[0mself\u001b[0m\u001b[0;34m.\u001b[0m\u001b[0mmask_predict_model\u001b[0m\u001b[0;34m(\u001b[0m\u001b[0mmask_stack\u001b[0m\u001b[0;34m)\u001b[0m\u001b[0;34m[\u001b[0m\u001b[0;36m0\u001b[0m\u001b[0;34m]\u001b[0m\u001b[0;34m\u001b[0m\u001b[0;34m\u001b[0m\u001b[0m\n\u001b[0;32m--> 126\u001b[0;31m         \u001b[0mpred\u001b[0m \u001b[0;34m=\u001b[0m \u001b[0mpred\u001b[0m\u001b[0;34m.\u001b[0m\u001b[0mcpu\u001b[0m\u001b[0;34m(\u001b[0m\u001b[0;34m)\u001b[0m\u001b[0;34m\u001b[0m\u001b[0;34m\u001b[0m\u001b[0m\n\u001b[0m\u001b[1;32m    127\u001b[0m         \u001b[0;32mreturn\u001b[0m \u001b[0mpred\u001b[0m\u001b[0;34m\u001b[0m\u001b[0;34m\u001b[0m\u001b[0m\n\u001b[1;32m    128\u001b[0m \u001b[0;34m\u001b[0m\u001b[0m\n",
      "\u001b[0;31mKeyboardInterrupt\u001b[0m: "
     ]
    }
   ],
   "source": [
    "tokenizer = dataset.tokenizer\n",
    "# output_file = '../outputs/tmp.txt'\n",
    "with open(output_file, 'w') as f:\n",
    "    for i, (seq1, seq2) in enumerate(tqdm(data_loader)):\n",
    "        src_line, trg_line = text_dataset.sentences[i]\n",
    "        \n",
    "        input_seq = seq1.to(device)\n",
    "        trg_seq = seq2[0].tolist()\n",
    "        \n",
    "        pred_seq = translator.translate_sentence(input_seq)\n",
    "        pred_tokens = tokenizer.convert_ids_to_tokens(pred_seq)\n",
    "        pred_line = tokenizer.convert_tokens_to_string(pred_tokens)\n",
    "        pred_line = pred_line.replace(dataset.SOS_token, '').replace(dataset.EOS_token, '')\n",
    "            \n",
    "        input_tokens = tokenizer.convert_ids_to_tokens(input_seq[0].tolist())\n",
    "        input_line = tokenizer.convert_tokens_to_string(input_tokens)\n",
    "#         input_line = input_line.replace(dataset.SOS_token, '').replace(dataset.EOS_token, '')\n",
    "        \n",
    "        \n",
    "        trg_tokens = tokenizer.convert_ids_to_tokens(trg_seq)\n",
    "        trg_line = tokenizer.convert_tokens_to_string(trg_tokens)\n",
    "        trg_line = trg_line.replace(dataset.SOS_token, '').replace(dataset.EOS_token, '')\n",
    "\n",
    "#         print('*' * 80)\n",
    "#         print('Source: ', src_line.strip())\n",
    "#         print('Target: ', trg_line.strip())\n",
    "#         print('Input: ', input_line.strip())\n",
    "#         print('Predict: ', pred_line.strip())\n",
    "        \n",
    "        f.write('*' * 80)\n",
    "        f.write('\\n')\n",
    "        f.write('Source: {}\\n'.format(src_line.strip()))\n",
    "        f.write('Target: {}\\n'.format(trg_line.strip()))\n",
    "        f.write('Input: {}\\n'.format(input_line.strip()))\n",
    "        f.write('Predict: {}\\n'.format(pred_line.strip()))\n",
    "        f.flush()\n",
    "\n"
   ]
  },
  {
   "cell_type": "code",
   "execution_count": null,
   "metadata": {},
   "outputs": [],
   "source": [
    "\n"
   ]
  },
  {
   "cell_type": "code",
   "execution_count": null,
   "metadata": {},
   "outputs": [],
   "source": []
  }
 ],
 "metadata": {
  "kernelspec": {
   "display_name": "Python 3",
   "language": "python",
   "name": "python3"
  },
  "language_info": {
   "codemirror_mode": {
    "name": "ipython",
    "version": 3
   },
   "file_extension": ".py",
   "mimetype": "text/x-python",
   "name": "python",
   "nbconvert_exporter": "python",
   "pygments_lexer": "ipython3",
   "version": "3.7.9"
  }
 },
 "nbformat": 4,
 "nbformat_minor": 4
}
