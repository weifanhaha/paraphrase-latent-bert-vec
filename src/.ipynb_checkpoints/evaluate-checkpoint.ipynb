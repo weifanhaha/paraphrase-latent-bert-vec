{
 "cells": [
  {
   "cell_type": "code",
   "execution_count": 1,
   "metadata": {},
   "outputs": [],
   "source": [
    "from nltk.translate.bleu_score import corpus_bleu\n",
    "from nltk.translate.bleu_score import sentence_bleu\n",
    "from bert_score import score as bscore\n",
    "import rouge\n",
    "from argparse import ArgumentParser\n",
    "import yaml\n",
    "import re\n",
    "import torch\n",
    "\n",
    "# to do : evaluate with ibleu"
   ]
  },
  {
   "cell_type": "code",
   "execution_count": null,
   "metadata": {},
   "outputs": [],
   "source": [
    "parser = ArgumentParser()\n",
    "parser.add_argument(\"--config_path\", dest=\"config_path\",\n",
    "                    default='../configs/dpng_transformer_bert_tokenizer_bow_indivtopk.yaml')\n",
    "\n",
    "args = parser.parse_args()\n",
    "config_path = args.config_path\n",
    "print(\"config_path:\", config_path)\n"
   ]
  },
  {
   "cell_type": "code",
   "execution_count": 2,
   "metadata": {},
   "outputs": [],
   "source": [
    "# config_path = '../configs/base_transformer.yaml'\n",
    "# config_path = '../configs/dpng_transformer.yaml'\n",
    "# config_path = '../configs/dpng_transformer_bert_tokenizer_bow_indivtopk.yaml'\n",
    "# config_path =  '../configs/dpng_transformer_bert_tokenizer_bow_indivtopk_onlybow.yaml'\n",
    "config_path = '../configs/dpng_transformer_bert_attention.yaml'\n",
    "\n"
   ]
  },
  {
   "cell_type": "code",
   "execution_count": 3,
   "metadata": {},
   "outputs": [
    {
     "name": "stdout",
     "output_type": "stream",
     "text": [
      "{'save_model_path': '../models/transformer_bert_enc_attention.pth', 'log_file': '../logs/transformer_bert_enc_attention.txt', 'test_output_file': '../outputs/test_transformer_bert_enc_attention.txt', 'val_output_file': '../outputs/val_transformer_bert_enc_attention.txt', 'preprocessed_folder': '../data/preprocess_quora_bert_mask_predict/', 'dataset': 'quora_bert_dataset', 'num_epochs': 50, 'batch_size': 100, 'd_model': 450, 'd_inner_hid': 512, 'd_k': 50, 'd_v': 50, 'n_head': 9, 'n_layers': 3, 'n_warmup_steps': 12000, 'dropout': 0.1, 'embs_share_weight': True, 'proj_share_weight': True, 'label_smoothing': False, 'train_size': 100000, 'val_size': 4000, 'test_size': 20000, 'is_bow': False, 'lr': '1e-3'}\n",
      "{'save_model_path': '../models/transformer_bert_enc_attention.pth', 'log_file': '../logs/transformer_bert_enc_attention.txt', 'test_output_file': '../outputs/test_transformer_bert_enc_attention.txt', 'val_output_file': '../outputs/val_transformer_bert_enc_attention.txt', 'preprocessed_folder': '../data/preprocess_quora_bert_mask_predict/', 'dataset': 'quora_bert_dataset', 'num_epochs': 50, 'batch_size': 100, 'd_model': 450, 'd_inner_hid': 512, 'd_k': 50, 'd_v': 50, 'n_head': 9, 'n_layers': 3, 'n_warmup_steps': 12000, 'dropout': 0.1, 'embs_share_weight': True, 'proj_share_weight': True, 'label_smoothing': False, 'train_size': 100000, 'val_size': 4000, 'test_size': 20000, 'is_bow': False, 'lr': '1e-3'}\n",
      "{'save_model_path': '../models/transformer_bert_enc_attention.pth', 'log_file': '../logs/transformer_bert_enc_attention.txt', 'test_output_file': '../outputs/test_transformer_bert_enc_attention.txt', 'val_output_file': '../outputs/val_transformer_bert_enc_attention.txt', 'preprocessed_folder': '../data/preprocess_quora_bert_mask_predict/', 'dataset': 'quora_bert_dataset', 'num_epochs': 50, 'batch_size': 100, 'd_model': 450, 'd_inner_hid': 512, 'd_k': 50, 'd_v': 50, 'n_head': 9, 'n_layers': 3, 'n_warmup_steps': 12000, 'dropout': 0.1, 'embs_share_weight': True, 'proj_share_weight': True, 'label_smoothing': False, 'train_size': 100000, 'val_size': 4000, 'test_size': 20000, 'is_bow': False, 'lr': '1e-3'}\n"
     ]
    }
   ],
   "source": [
    "with open(config_path) as f:\n",
    "    config = yaml.load(f, Loader=yaml.FullLoader)\n",
    "    print(config)    \n",
    "    \n",
    "prediction_path = config['test_output_file']\n",
    "eval_log_path = prediction_path.replace('outputs', 'scores')\n",
    "\n",
    "train_size = config['train_size']\n",
    "val_size = config['val_size']\n",
    "test_size = config['test_size']\n",
    "\n"
   ]
  },
  {
   "cell_type": "code",
   "execution_count": 4,
   "metadata": {},
   "outputs": [],
   "source": [
    "# for bert attention experiments\n",
    "# prediction_path = '../outputs/tune/transformer_key_enc_bert_val_attention_alpha0.5.txt'\n",
    "eval_log_path = prediction_path.replace('outputs', 'scores')"
   ]
  },
  {
   "cell_type": "code",
   "execution_count": 5,
   "metadata": {},
   "outputs": [],
   "source": [
    "reference_path = '../data/quora_train.txt'"
   ]
  },
  {
   "cell_type": "code",
   "execution_count": 6,
   "metadata": {},
   "outputs": [],
   "source": [
    "##### Arguments #####\n",
    "# Arguments of DNPG\n",
    "\n",
    "# train_size = 100000\n",
    "# val_size = 4000\n",
    "# test_size = 20000\n",
    "\n",
    "# prediction_path = '../outputs/test_DNPG_transformer_out.txt'\n",
    "# eval_log_path = '../scores/test_DNPG_transformer_out.txt'\n",
    "\n",
    "# prediction_path = '../outputs/test_DNPG_transformer_bert_tokenizer_out.txt'\n",
    "# eval_log_path = '../scores/test_DNPG_transformer_bert_tokenizer_out.txt'\n",
    "\n",
    "# prediction_path = '../outputs/test_DNPG_transformer_bert_tokenizer_bow_out.txt'\n",
    "# eval_log_path = '../scores/test_DNPG_transformer_bert_tokenizer_bow_out.txt'\n",
    "\n",
    "# prediction_path = '../outputs/test_DNPG_transformer_bert_tokenizer_bow_indivtopk_out.txt'\n",
    "# eval_log_path = '../scores/test_DNPG_transformer_bert_tokenizer_bow_indivtop_out.txt'\n",
    "\n",
    "###################"
   ]
  },
  {
   "cell_type": "code",
   "execution_count": 7,
   "metadata": {},
   "outputs": [],
   "source": [
    "# read reference sentence and prediction sentence\n",
    "reference_text = open(reference_path, 'r').readlines()\n",
    "reference_text = reference_text[train_size+val_size:train_size+val_size+test_size]\n",
    "reference_text = [text.strip().split('\\t')[1] for text in reference_text]\n",
    "\n",
    "# normalize reference corpus , eg: seperate question mark , remove '(' ,')' etc\n",
    "reference_text = [re.sub(r\"([.!?])\", r\" \\1\", seq) for seq in reference_text]\n",
    "reference_text = [text.lower() for text in reference_text]\n",
    "# reference_text = [re.sub(r\"[^a-zA-Z.!?]+\", r\" \", seq) for seq in reference_text]\n",
    "reference_corpus = [[text.split()] for text in reference_text]"
   ]
  },
  {
   "cell_type": "code",
   "execution_count": 8,
   "metadata": {},
   "outputs": [],
   "source": [
    "prediction_text = open(prediction_path, 'r').readlines()\n",
    "prediction_text = [text.replace('Predict: ', '').strip().lower() for text in prediction_text if 'Predict: ' in text]\n",
    "prediction_corpus = [text.split() for text in prediction_text]"
   ]
  },
  {
   "cell_type": "code",
   "execution_count": 9,
   "metadata": {},
   "outputs": [
    {
     "name": "stdout",
     "output_type": "stream",
     "text": [
      "is it healthy to eat fish every day ? what are some good side dishes for a healthy time ? ['what', 'are', 'some', 'good', 'side', 'dishes', 'for', 'a', 'healthy', 'time', '?']\n",
      "is it healthy to eat fish every day ? what are some good side dishes for a healthy time ? ['what', 'are', 'some', 'good', 'side', 'dishes', 'for', 'a', 'healthy', 'time', '?']\n",
      "is it healthy to eat fish every day ? what are some good side dishes for a healthy time ? ['what', 'are', 'some', 'good', 'side', 'dishes', 'for', 'a', 'healthy', 'time', '?']\n"
     ]
    }
   ],
   "source": [
    "print(reference_text[0], prediction_text[0], prediction_corpus[0])"
   ]
  },
  {
   "cell_type": "code",
   "execution_count": 10,
   "metadata": {
    "scrolled": true
   },
   "outputs": [
    {
     "name": "stdout",
     "output_type": "stream",
     "text": [
      "20000\n",
      "20000\n",
      "20000\n",
      "20000\n"
     ]
    }
   ],
   "source": [
    "print(len(reference_text))\n",
    "print(len(prediction_text))"
   ]
  },
  {
   "cell_type": "code",
   "execution_count": 44,
   "metadata": {},
   "outputs": [],
   "source": [
    "# i = 15\n",
    "# print(reference_corpus[i])\n",
    "# print(prediction_corpus[i])\n",
    "# # sentence_bleu(reference_corpus[i], prediction_corpus[i], weights=(0.33, 0.33, 0.34, 0))\n",
    "# sentence_bleu(reference_corpus[i], prediction_corpus[i], weights=(0.25, 0.25, 0.25, 0.25))\n",
    "\n",
    "# # r = [['Why', 'is', 'chemistry', 'so', 'boring', '?']]\n",
    "# # p = ['Why', 'is', 'chemistry', 'so', 'boring', '?']\n",
    "# # sentence_bleu(r, p, weights=(0.25, 0.25, 0.25, 0.25))"
   ]
  },
  {
   "cell_type": "code",
   "execution_count": 77,
   "metadata": {
    "scrolled": true
   },
   "outputs": [],
   "source": [
    "# print(reference_corpus[:6])\n",
    "# print(prediction_corpus[:6])"
   ]
  },
  {
   "cell_type": "code",
   "execution_count": 57,
   "metadata": {
    "scrolled": true
   },
   "outputs": [
    {
     "name": "stdout",
     "output_type": "stream",
     "text": [
      "[Info] Calculating BLEU 1...\n",
      "[Info] Calculating BLEU 2...\n",
      "[Info] Calculating BLEU 3...\n",
      "[Info] Calculating BLEU 4...\n",
      "[Info] Done\n"
     ]
    }
   ],
   "source": [
    "print(\"[Info] Calculating BLEU 1...\")\n",
    "bleu1 = corpus_bleu(reference_corpus, prediction_corpus, weights=(1, 0, 0, 0))\n",
    "print(\"[Info] Calculating BLEU 2...\")\n",
    "bleu2 = corpus_bleu(reference_corpus, prediction_corpus, weights=(0.5, 0.5, 0, 0))\n",
    "print(\"[Info] Calculating BLEU 3...\")\n",
    "bleu3 = corpus_bleu(reference_corpus, prediction_corpus, weights=(0.33, 0.33, 0.34, 0))\n",
    "print(\"[Info] Calculating BLEU 4...\")\n",
    "bleu4 = corpus_bleu(reference_corpus, prediction_corpus, weights=(0.25, 0.25, 0.25, 0.25))\n",
    "print(\"[Info] Done\")"
   ]
  },
  {
   "cell_type": "code",
   "execution_count": 58,
   "metadata": {},
   "outputs": [
    {
     "name": "stdout",
     "output_type": "stream",
     "text": [
      "[Info] BLEU1 Score: 0.4515410119541843\n",
      "[Info] BLEU2 Score: 0.3122080569065922\n",
      "[Info] BLEU3 Score: 0.2315023877412737\n",
      "[Info] BLEU4 Score: 0.17811518172449067\n"
     ]
    }
   ],
   "source": [
    "print(\"[Info] BLEU1 Score: {}\".format(bleu1))\n",
    "print(\"[Info] BLEU2 Score: {}\".format(bleu2))\n",
    "print(\"[Info] BLEU3 Score: {}\".format(bleu3))\n",
    "print(\"[Info] BLEU4 Score: {}\".format(bleu4))"
   ]
  },
  {
   "cell_type": "code",
   "execution_count": 68,
   "metadata": {},
   "outputs": [],
   "source": [
    "rouge_evaluator = rouge.Rouge(metrics=['rouge-n', 'rouge-l'], max_n=2)\n",
    "rouge_scores = rouge_evaluator.get_scores(prediction_text, reference_text)"
   ]
  },
  {
   "cell_type": "code",
   "execution_count": 69,
   "metadata": {},
   "outputs": [
    {
     "name": "stdout",
     "output_type": "stream",
     "text": [
      "[Info] Rouge 1 score: 0.451004937367961\n",
      "[Info] Rouge 2 score: 0.2397663124055765\n",
      "[Info] Rouge l score: 0.4357079379192744\n"
     ]
    }
   ],
   "source": [
    "print(\"[Info] Rouge 1 score: {}\".format(rouge_scores[\"rouge-1\"][\"f\"]))\n",
    "print(\"[Info] Rouge 2 score: {}\".format(rouge_scores[\"rouge-2\"][\"f\"]))\n",
    "print(\"[Info] Rouge l score: {}\".format(rouge_scores[\"rouge-l\"][\"f\"]))\n"
   ]
  },
  {
   "cell_type": "code",
   "execution_count": null,
   "metadata": {},
   "outputs": [],
   "source": [
    "# rouge\n",
    "# lower\n",
    "# [Info] Rouge 1 score: 0.451004937367961\n",
    "# [Info] Rouge 2 score: 0.2397663124055765\n",
    "# [Info] Rouge l score: 0.4357079379192744\n",
    "\n",
    "# not lower"
   ]
  },
  {
   "cell_type": "code",
   "execution_count": 16,
   "metadata": {},
   "outputs": [],
   "source": [
    "# save to file\n",
    "f = open(eval_log_path, 'w')\n",
    "f.write(\"[Info] BLEU1 Score: {}\\n\".format(bleu1))\n",
    "f.write(\"[Info] BLEU2 Score: {}\\n\".format(bleu2))\n",
    "f.write(\"[Info] BLEU3 Score: {}\\n\".format(bleu3))\n",
    "f.write(\"[Info] BLEU4 Score: {}\\n\".format(bleu4))\n",
    "\n",
    "f.write(\"\\n\\n[Info] Rouge 1 score: {}\\n\".format(rouge_scores[\"rouge-1\"][\"f\"]))\n",
    "f.write(\"[Info] Rouge 2 score: {}\\n\".format(rouge_scores[\"rouge-2\"][\"f\"]))\n",
    "f.write(\"[Info] Rouge l score: {}\\n\".format(rouge_scores[\"rouge-l\"][\"f\"]))\n",
    "\n",
    "f.close()"
   ]
  },
  {
   "cell_type": "code",
   "execution_count": 10,
   "metadata": {},
   "outputs": [],
   "source": [
    "device = \"cuda:0\" if torch.cuda.is_available() else \"cpu\""
   ]
  },
  {
   "cell_type": "code",
   "execution_count": 11,
   "metadata": {},
   "outputs": [
    {
     "name": "stdout",
     "output_type": "stream",
     "text": [
      "['is it healthy to eat fish every day ?', 'how do we write the exam ?'] ['what are some good side dishes for a healthy time ?', 'what are some good ways to improve my concentration ?']\n",
      "['is it healthy to eat fish every day ?', 'how do we write the exam ?'] ['what are some good side dishes for a healthy time ?', 'what are some good ways to improve my concentration ?']\n",
      "['is it healthy to eat fish every day ?', 'how do we write the exam ?'] ['what are some good side dishes for a healthy time ?', 'what are some good ways to improve my concentration ?']\n"
     ]
    }
   ],
   "source": [
    "print(reference_text[:2], prediction_text[:2])"
   ]
  },
  {
   "cell_type": "code",
   "execution_count": null,
   "metadata": {},
   "outputs": [],
   "source": [
    "P, R, F1 = bscore(prediction_text[:1], reference_text[:1], lang=\"en\", model_type=\"bert-base-uncased\", device=device, verbose=True)"
   ]
  },
  {
   "cell_type": "code",
   "execution_count": null,
   "metadata": {},
   "outputs": [],
   "source": [
    "print(F1)"
   ]
  },
  {
   "cell_type": "code",
   "execution_count": null,
   "metadata": {},
   "outputs": [],
   "source": []
  }
 ],
 "metadata": {
  "kernelspec": {
   "display_name": "Python 3",
   "language": "python",
   "name": "python3"
  },
  "language_info": {
   "codemirror_mode": {
    "name": "ipython",
    "version": 3
   },
   "file_extension": ".py",
   "mimetype": "text/x-python",
   "name": "python",
   "nbconvert_exporter": "python",
   "pygments_lexer": "ipython3",
   "version": "3.7.9"
  }
 },
 "nbformat": 4,
 "nbformat_minor": 4
}
