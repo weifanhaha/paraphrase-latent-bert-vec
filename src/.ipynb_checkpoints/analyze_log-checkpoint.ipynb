{
 "cells": [
  {
   "cell_type": "code",
   "execution_count": 1,
   "metadata": {},
   "outputs": [],
   "source": [
    "import numpy as np\n",
    "from matplotlib import pyplot as plt\n",
    "import re"
   ]
  },
  {
   "cell_type": "code",
   "execution_count": 14,
   "metadata": {},
   "outputs": [],
   "source": [
    "# log_file = \"../logs/DNPG_base_transformer_bert_tokenizer_training_bert_bow_indiv_topk.txt\"\n",
    "# log_file = \"../logs/DNPG_base_transformer_training.txt\"\n",
    "# log_file = \"../logs/DNPG_base_transformer_wordnet_training.txt\"\n",
    "# with open(log_file) as f:\n",
    "#     lines = f.readlines()\n"
   ]
  },
  {
   "cell_type": "code",
   "execution_count": 15,
   "metadata": {},
   "outputs": [],
   "source": [
    "train_ppl = []\n",
    "val_ppl = []\n",
    "train_acc = []\n",
    "val_acc = []"
   ]
  },
  {
   "cell_type": "code",
   "execution_count": 16,
   "metadata": {},
   "outputs": [],
   "source": [
    "pattern = r\".*ppl:  (\\d+.\\d+), accuracy: (\\d+.\\d+)\"\n",
    "\n",
    "for line in lines:\n",
    "    try:\n",
    "        if 'model saved' in line:\n",
    "            continue\n",
    "        ret = re.match(pattern, line)\n",
    "        ppl, acc = ret.groups()\n",
    "        ppl, acc = float(ppl), float(acc)    \n",
    "        if 'Training' in line:\n",
    "            train_ppl.append(ppl)\n",
    "            train_acc.append(acc)\n",
    "        elif 'Validation' in line:\n",
    "            val_ppl.append(ppl)\n",
    "            val_acc.append(acc)\n",
    "        else:\n",
    "            continue\n",
    "    except AttributeError:\n",
    "        continue"
   ]
  },
  {
   "cell_type": "code",
   "execution_count": 17,
   "metadata": {},
   "outputs": [],
   "source": [
    "train_ppl_base = train_ppl\n",
    "val_ppl_base = val_ppl\n",
    "train_acc_base = train_acc\n",
    "val_acc_base = val_acc"
   ]
  },
  {
   "cell_type": "code",
   "execution_count": 18,
   "metadata": {},
   "outputs": [
    {
     "data": {
      "text/plain": [
       "[<matplotlib.lines.Line2D at 0x7f08cd9d0990>]"
      ]
     },
     "execution_count": 18,
     "metadata": {},
     "output_type": "execute_result"
    },
    {
     "data": {
      "image/png": "[encoded data removed]",
      "text/plain": [
       "<Figure size 432x288 with 1 Axes>"
      ]
     },
     "metadata": {
      "needs_background": "light"
     },
     "output_type": "display_data"
    }
   ],
   "source": [
    "plt.plot(train_acc)\n",
    "plt.plot(train_acc_base, color='orange')"
   ]
  },
  {
   "cell_type": "code",
   "execution_count": 19,
   "metadata": {},
   "outputs": [
    {
     "data": {
      "text/plain": [
       "[<matplotlib.lines.Line2D at 0x7f08cd949410>]"
      ]
     },
     "execution_count": 19,
     "metadata": {},
     "output_type": "execute_result"
    },
    {
     "data": {
      "image/png": "[encoded data removed]",
      "text/plain": [
       "<Figure size 432x288 with 1 Axes>"
      ]
     },
     "metadata": {
      "needs_background": "light"
     },
     "output_type": "display_data"
    }
   ],
   "source": [
    "plt.plot(val_acc)\n",
    "plt.plot(val_acc_base, color='orange')"
   ]
  },
  {
   "cell_type": "code",
   "execution_count": null,
   "metadata": {},
   "outputs": [],
   "source": []
  },
  {
   "cell_type": "code",
   "execution_count": null,
   "metadata": {},
   "outputs": [],
   "source": []
  }
 ],
 "metadata": {
  "kernelspec": {
   "display_name": "Python 3",
   "language": "python",
   "name": "python3"
  },
  "language_info": {
   "codemirror_mode": {
    "name": "ipython",
    "version": 3
   },
   "file_extension": ".py",
   "mimetype": "text/x-python",
   "name": "python",
   "nbconvert_exporter": "python",
   "pygments_lexer": "ipython3",
   "version": "3.7.9"
  }
 },
 "nbformat": 4,
 "nbformat_minor": 4
}
