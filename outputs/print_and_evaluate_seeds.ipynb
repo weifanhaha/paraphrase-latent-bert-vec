{
 "cells": [
  {
   "cell_type": "code",
   "execution_count": 1,
   "metadata": {},
   "outputs": [],
   "source": [
    "from nltk.translate.bleu_score import corpus_bleu\n",
    "from nltk.translate.bleu_score import sentence_bleu\n",
    "import rouge\n",
    "from argparse import ArgumentParser\n",
    "import yaml\n",
    "import re\n",
    "import glob\n",
    "import os\n",
    "import numpy as np\n",
    "from bert_score import score as bscore\n",
    "import torch\n",
    "from sklearn.metrics.pairwise import cosine_similarity as cos_sim\n",
    "from sentence_transformers import SentenceTransformer\n"
   ]
  },
  {
   "cell_type": "code",
   "execution_count": 2,
   "metadata": {},
   "outputs": [
    {
     "name": "stdout",
     "output_type": "stream",
     "text": [
      "{'save_model_path': '../models/DNPG_base_transformer.pth', 'log_file': '../logs/DNPG_base_transformer_training.txt', 'test_output_file': '../outputs/test_DNPG_base_transformer.txt', 'val_output_file': '../outputs/val_DNPG_base_transformer.txt', 'dataset': 'quora_dataset', 'num_epochs': 50, 'batch_size': 128, 'd_model': 450, 'd_inner_hid': 512, 'd_k': 50, 'd_v': 50, 'n_head': 9, 'n_layers': 3, 'n_warmup_steps': 12000, 'dropout': 0.1, 'embs_share_weight': True, 'proj_share_weight': True, 'label_smoothing': False, 'train_size': 100000, 'val_size': 4000, 'test_size': 20000, 'is_bow': False, 'lr': '1e-3'}\n"
     ]
    }
   ],
   "source": [
    "config_path = '../configs/dpng_transformer.yaml'\n",
    "\n",
    "# for training size\n",
    "with open(config_path) as f:\n",
    "    config = yaml.load(f, Loader=yaml.FullLoader)\n",
    "    print(config)\n",
    "\n",
    "train_size = config['train_size']\n",
    "val_size = config['val_size']\n",
    "test_size = config['test_size']"
   ]
  },
  {
   "cell_type": "code",
   "execution_count": 9,
   "metadata": {},
   "outputs": [],
   "source": [
    "# seeds = [0, 777, 33333]\n",
    "seeds = [33333]\n",
    "\n",
    "ref_path = '../data/quora_train.txt'"
   ]
  },
  {
   "cell_type": "code",
   "execution_count": 10,
   "metadata": {},
   "outputs": [],
   "source": [
    "seed_dir_dic = {}\n",
    "seed_root = './fixseed'\n",
    "for seed in seeds:\n",
    "    seed_dir = 'seed{}'.format(seed)\n",
    "    seed_dir = os.path.join(seed_root, seed_dir)\n",
    "    txt_path = os.path.join(seed_dir, '*.txt')\n",
    "    seed_files = glob.glob(txt_path)\n",
    "    seed_dir_dic[seed] = seed_files"
   ]
  },
  {
   "cell_type": "code",
   "execution_count": 11,
   "metadata": {},
   "outputs": [],
   "source": [
    "bertcs_model = SentenceTransformer('sentence-transformers/bert-base-nli-mean-tokens')"
   ]
  },
  {
   "cell_type": "code",
   "execution_count": 12,
   "metadata": {},
   "outputs": [],
   "source": [
    "def read_ref(ref_path):\n",
    "    # read reference sentence and prediction sentence\n",
    "    reference_text = open(ref_path, 'r').readlines()\n",
    "    np.random.shuffle(reference_text)\n",
    "    reference_text = reference_text[train_size+val_size:train_size+val_size+test_size]\n",
    "    reference_text = [text.strip().split('\\t')[1] for text in reference_text]\n",
    "\n",
    "    # normalize reference corpus , eg: seperate question mark , remove '(' ,')' etc\n",
    "    reference_text = [re.sub(r\"([.!?])\", r\" \\1\", seq) for seq in reference_text]\n",
    "    reference_text = [text.lower() for text in reference_text]\n",
    "\n",
    "    # reference_text = [re.sub(r\"[^a-zA-Z.!?]+\", r\" \", seq) for seq in reference_text]\n",
    "    reference_corpus = [[text.split()] for text in reference_text]\n",
    "    return reference_text, reference_corpus\n",
    "\n"
   ]
  },
  {
   "cell_type": "code",
   "execution_count": 13,
   "metadata": {},
   "outputs": [],
   "source": [
    "def evaluate(reference_corpus, prediction_corpus):\n",
    "    print(\"[Info] Calculating BLEU 1...\")\n",
    "    bleu1 = corpus_bleu(reference_corpus, prediction_corpus, weights=(1, 0, 0, 0))\n",
    "    print(\"[Info] Calculating BLEU 2...\")\n",
    "    bleu2 = corpus_bleu(reference_corpus, prediction_corpus, weights=(0.5, 0.5, 0, 0))\n",
    "    print(\"[Info] Calculating BLEU 3...\")\n",
    "    bleu3 = corpus_bleu(reference_corpus, prediction_corpus, weights=(0.33, 0.33, 0.34, 0))\n",
    "    print(\"[Info] Calculating BLEU 4...\")\n",
    "    bleu4 = corpus_bleu(reference_corpus, prediction_corpus, weights=(0.25, 0.25, 0.25, 0.25))\n",
    "    print(\"[Info] Done\")\n",
    "\n",
    "    print(\"[Info] BLEU1 Score: {}\".format(bleu1))\n",
    "    print(\"[Info] BLEU2 Score: {}\".format(bleu2))\n",
    "    print(\"[Info] BLEU3 Score: {}\".format(bleu3))\n",
    "    print(\"[Info] BLEU4 Score: {}\".format(bleu4))\n",
    "    \n",
    "    rouge_evaluator = rouge.Rouge(metrics=['rouge-n', 'rouge-l'], max_n=2)\n",
    "    rouge_scores = rouge_evaluator.get_scores(prediction_text, reference_text)\n",
    "\n",
    "    print(\"[Info] Rouge 1 score: {}\".format(rouge_scores[\"rouge-1\"][\"f\"]))\n",
    "    print(\"[Info] Rouge 2 score: {}\".format(rouge_scores[\"rouge-2\"][\"f\"]))\n",
    "    print(\"[Info] Rouge l score: {}\".format(rouge_scores[\"rouge-l\"][\"f\"]))\n",
    "    \n",
    "    P, R, F1 = bscore(prediction_text, reference_text, lang=\"en\", model_type=\"bert-base-uncased\", verbose=True)\n",
    "    f1 = F1.mean().item()\n",
    "    print(\"[Info] BERT F1 score: {}\".format(f1))\n",
    "    \n",
    "    print(\"[Info] Calculating BERT CS\")\n",
    "    pred_embeddings = bertcs_model.encode(prediction_text)\n",
    "    ref_embeddings = bertcs_model.encode(reference_text)\n",
    "    bertcs = []\n",
    "    for pred_emb, ref_emb in zip(pred_embeddings, ref_embeddings):\n",
    "        sim = cos_sim(pred_emb.reshape(1, -1), ref_emb.reshape(1, -1))\n",
    "        bertcs.append(sim[0][0])\n",
    "\n",
    "    print(\"[Info] BERT CS score: {}\".format(np.mean(bertcs)))\n",
    "    return bleu1, bleu2, bleu3, bleu4, rouge_scores, f1, np.mean(bertcs)"
   ]
  },
  {
   "cell_type": "code",
   "execution_count": 14,
   "metadata": {},
   "outputs": [],
   "source": [
    "import os\n",
    "os.environ[\"CUDA_DEVICE_ORDER\"]=\"PCI_BUS_ID\"   # see issue #152\n",
    "os.environ[\"CUDA_VISIBLE_DEVICES\"]=\"2\""
   ]
  },
  {
   "cell_type": "code",
   "execution_count": 15,
   "metadata": {
    "scrolled": true
   },
   "outputs": [
    {
     "name": "stdout",
     "output_type": "stream",
     "text": [
      "### Evaluating seed 33333 ###\n",
      "[['what', 'is', 'the', 'pace', 'of', 'walking', 'in', 'google', 'maps', '?']]\n",
      "Calculating file:  ./fixseed/seed33333/test_transformer_bert_enc_attention_wordnet_aug.txt\n",
      "[Info] Calculating BLEU 1...\n",
      "[Info] Calculating BLEU 2...\n",
      "[Info] Calculating BLEU 3...\n",
      "[Info] Calculating BLEU 4...\n",
      "[Info] Done\n",
      "[Info] BLEU1 Score: 0.5704743609541874\n",
      "[Info] BLEU2 Score: 0.4324606837140314\n",
      "[Info] BLEU3 Score: 0.3371044924156258\n",
      "[Info] BLEU4 Score: 0.2692524162672311\n",
      "[Info] Rouge 1 score: 0.6000191696302655\n",
      "[Info] Rouge 2 score: 0.36273784472992326\n",
      "[Info] Rouge l score: 0.5763139926579922\n"
     ]
    },
    {
     "name": "stderr",
     "output_type": "stream",
     "text": [
      "Some weights of the model checkpoint at bert-base-uncased were not used when initializing BertModel: ['cls.predictions.transform.LayerNorm.bias', 'cls.predictions.decoder.weight', 'cls.predictions.transform.LayerNorm.weight', 'cls.predictions.bias', 'cls.predictions.transform.dense.weight', 'cls.seq_relationship.bias', 'cls.seq_relationship.weight', 'cls.predictions.transform.dense.bias']\n",
      "- This IS expected if you are initializing BertModel from the checkpoint of a model trained on another task or with another architecture (e.g. initializing a BertForSequenceClassification model from a BertForPreTraining model).\n",
      "- This IS NOT expected if you are initializing BertModel from the checkpoint of a model that you expect to be exactly identical (initializing a BertForSequenceClassification model from a BertForSequenceClassification model).\n"
     ]
    },
    {
     "name": "stdout",
     "output_type": "stream",
     "text": [
      "calculating scores...\n",
      "computing bert embedding.\n"
     ]
    },
    {
     "data": {
      "application/vnd.jupyter.widget-view+json": {
       "model_id": "8ef56ce4e4fe497387cb096a28daca68",
       "version_major": 2,
       "version_minor": 0
      },
      "text/plain": [
       "HBox(children=(HTML(value=''), FloatProgress(value=0.0, max=481.0), HTML(value='')))"
      ]
     },
     "metadata": {},
     "output_type": "display_data"
    },
    {
     "name": "stdout",
     "output_type": "stream",
     "text": [
      "\n",
      "computing greedy matching.\n"
     ]
    },
    {
     "data": {
      "application/vnd.jupyter.widget-view+json": {
       "model_id": "801094bc44054e8090a08e5402d06389",
       "version_major": 2,
       "version_minor": 0
      },
      "text/plain": [
       "HBox(children=(HTML(value=''), FloatProgress(value=0.0, max=313.0), HTML(value='')))"
      ]
     },
     "metadata": {},
     "output_type": "display_data"
    },
    {
     "name": "stdout",
     "output_type": "stream",
     "text": [
      "\n",
      "done in 80.47 seconds, 248.53 sentences/sec\n",
      "[Info] BERT F1 score: 0.7708830237388611\n",
      "[Info] Calculating BERT CS\n",
      "[Info] BERT CS score: 0.8451414108276367\n",
      "Writing to file: ../scores/fixseed/seed33333/test_transformer_bert_enc_attention_wordnet_aug.txt\n",
      "==============================\n"
     ]
    }
   ],
   "source": [
    "for seed in seeds:\n",
    "    print(\"### Evaluating seed {} ###\".format(seed))\n",
    "    # fixseed\n",
    "    # get reference text\n",
    "    np.random.seed(seed)\n",
    "    reference_text, reference_corpus = read_ref(ref_path)\n",
    "    print(reference_corpus[0])\n",
    "\n",
    "    # for every file in seeds\n",
    "    files = seed_dir_dic[seed]\n",
    "    # get predict text\n",
    "    for file in files:\n",
    "        if 'aug' not in file or 'uncased' in file:\n",
    "            continue\n",
    "        print(\"Calculating file: \", file)\n",
    "        prediction_text = open(file, 'r').readlines()\n",
    "        prediction_text = [text.replace('Predict: ', '').strip().lower() for text in prediction_text if 'Predict: ' in text]\n",
    "        prediction_corpus = [text.split() for text in prediction_text]\n",
    "        assert len(reference_text) == len(prediction_text), \"len mismatch, ref: {}, pred: {}\".format(len(reference_text), len(prediction_text))\n",
    "        \n",
    "        # evaluate score\n",
    "        bleu1, bleu2, bleu3, bleu4, rouge_scores, bert_f1, bertcs = evaluate(reference_corpus, prediction_corpus)\n",
    "        # write to output\n",
    "        score_dir = '../scores/fixseed/seed{}'.format(seed)\n",
    "        score_path = os.path.join(score_dir, file.split('/')[-1])\n",
    "        print(\"Writing to file:\", score_path)\n",
    "        \n",
    "        f = open(score_path, 'w')\n",
    "        f.write(\"[Info] BLEU1 Score: {}\\n\".format(bleu1))\n",
    "        f.write(\"[Info] BLEU2 Score: {}\\n\".format(bleu2))\n",
    "        f.write(\"[Info] BLEU3 Score: {}\\n\".format(bleu3))\n",
    "        f.write(\"[Info] BLEU4 Score: {}\\n\".format(bleu4))\n",
    "\n",
    "        f.write(\"\\n\\n[Info] Rouge 1 score: {}\\n\".format(rouge_scores[\"rouge-1\"][\"f\"]))\n",
    "        f.write(\"[Info] Rouge 2 score: {}\\n\".format(rouge_scores[\"rouge-2\"][\"f\"]))\n",
    "        f.write(\"[Info] Rouge l score: {}\\n\".format(rouge_scores[\"rouge-l\"][\"f\"]))\n",
    "        f.write(\"[Info] BERT F1 score: {}\\n\".format(bert_f1))\n",
    "        f.write(\"[Info] BERT CS score: {}\\n\".format(bertcs))\n",
    "\n",
    "        f.close()\n",
    "        print(\"==============================\")"
   ]
  },
  {
   "cell_type": "code",
   "execution_count": null,
   "metadata": {},
   "outputs": [],
   "source": []
  }
 ],
 "metadata": {
  "kernelspec": {
   "display_name": "Python 3",
   "language": "python",
   "name": "python3"
  },
  "language_info": {
   "codemirror_mode": {
    "name": "ipython",
    "version": 3
   },
   "file_extension": ".py",
   "mimetype": "text/x-python",
   "name": "python",
   "nbconvert_exporter": "python",
   "pygments_lexer": "ipython3",
   "version": "3.7.9"
  }
 },
 "nbformat": 4,
 "nbformat_minor": 4
}
